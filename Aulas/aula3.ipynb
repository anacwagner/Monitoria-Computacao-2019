{
 "cells": [
  {
   "cell_type": "markdown",
   "metadata": {},
   "source": [
    "# Aula 3"
   ]
  },
  {
   "cell_type": "markdown",
   "metadata": {},
   "source": [
    "Como já vimos na aula anterior, a função `input()` é usada quando queremos receber os dados ou valores fornecidos pelo usuário através do teclado. \n",
    "\n",
    "No entanto, o valor que o usuário fornece e que será retornada pelo `input()` é sempre uma **string** e não um número. A função `primeira()` definida a seguir, exemplifica isso. Passamos para a função um número (no caso, 12). Como 12 é reconhecido como uma **string** ele não retorna o valor esperado. Operações envolvendo strings serão abordadas em aulas futuras. "
   ]
  },
  {
   "cell_type": "code",
   "execution_count": 1,
   "metadata": {},
   "outputs": [
    {
     "name": "stdout",
     "output_type": "stream",
     "text": [
      "Entre o número desejado: 12\n",
      "<class 'str'>\n",
      "1212\n"
     ]
    }
   ],
   "source": [
    "def primeira():\n",
    "    var1=input('Entre o número desejado: ')\n",
    "    print(type(var1))\n",
    "    print(var1*2)\n",
    "\n",
    "primeira()"
   ]
  },
  {
   "cell_type": "markdown",
   "metadata": {},
   "source": [
    "**Obs.:** Como podemos observar, os valores manipulados em um programa podem ser de diferentes **tipos** ou **classes**. Até agora, vimos que um valor pode ser um número inteiro (classe **int**) ou um texto (classe **str**). A função `type()` nos dá essa informação.\n",
    "\n",
    "___\n",
    "\n",
    "Agora, vamos modificar a função `primeira()` para que ela realize a operação desejada envolvendo o número passado no `input()`. Então, precisamos de alguma função que converta uma string (**str**) em um número inteiro (**int**). Para isso, usamos a função de conversão `int()`."
   ]
  },
  {
   "cell_type": "code",
   "execution_count": 2,
   "metadata": {},
   "outputs": [],
   "source": [
    "def primeira():\n",
    "    var1=int(input('Entre o número desejado: '))\n",
    "    print(type(var1))\n",
    "    print(var1*2)"
   ]
  },
  {
   "cell_type": "code",
   "execution_count": 3,
   "metadata": {},
   "outputs": [
    {
     "name": "stdout",
     "output_type": "stream",
     "text": [
      "Entre o número desejado: 12\n",
      "<class 'int'>\n",
      "24\n"
     ]
    }
   ],
   "source": [
    "primeira()"
   ]
  },
  {
   "cell_type": "code",
   "execution_count": 4,
   "metadata": {},
   "outputs": [
    {
     "ename": "NameError",
     "evalue": "name 'var1' is not defined",
     "output_type": "error",
     "traceback": [
      "\u001b[1;31m---------------------------------------------------------------------------\u001b[0m",
      "\u001b[1;31mNameError\u001b[0m                                 Traceback (most recent call last)",
      "\u001b[1;32m<ipython-input-4-b3d8120272f7>\u001b[0m in \u001b[0;36m<module>\u001b[1;34m()\u001b[0m\n\u001b[1;32m----> 1\u001b[1;33m \u001b[0mtype\u001b[0m\u001b[1;33m(\u001b[0m\u001b[0mvar1\u001b[0m\u001b[1;33m)\u001b[0m\u001b[1;33m\u001b[0m\u001b[0m\n\u001b[0m",
      "\u001b[1;31mNameError\u001b[0m: name 'var1' is not defined"
     ]
    }
   ],
   "source": [
    "type(var1)"
   ]
  },
  {
   "cell_type": "markdown",
   "metadata": {},
   "source": [
    "Aqui, o erro ocorre porque `var1` só existe dentro da função `primeira()`. Assim que termina a função, ela não existe mais. Por isso, quando executamos `type(var1)` ocorre um erro dizendo que a variável não está definida. \n",
    "\n",
    "* **variáveis locais** existem apenas no escopo da função em que foram definidas. \n",
    "\n",
    "\n",
    "* **variáveis globais** existem fora da função e podem ser acessadas por quaisquer funções."
   ]
  },
  {
   "cell_type": "markdown",
   "metadata": {},
   "source": [
    "## Precedência das Operações\n",
    "\n",
    "| Nível     \t|         Categoria         \t| Operadores (em Python)                                           \t|\n",
    "|-----------\t|:-------------------------:\t|------------------------------------------------------------------\t|\n",
    "| 7 (Alto)  \t| exponenciação             \t| **                                                               \t|\n",
    "| 6         \t| multiplicação (e divisão) \t| *, / (divisão comum), // (divisão inteira), % (resto da divisão) \t|\n",
    "| 5         \t| adição (e subtração)      \t| +, -                                                             \t|\n",
    "| 4         \t| relacional                \t| ==, !=, <=, >= ,<, >                                             \t|\n",
    "| 3         \t| lógico                    \t| not                                                              \t|\n",
    "| 2         \t| lógico                    \t| and                                                              \t|\n",
    "| 1 (Baixo) \t| lógico                    \t| or                                                               \t|"
   ]
  },
  {
   "cell_type": "markdown",
   "metadata": {},
   "source": [
    "### 1. Operadores aritméticos\n",
    "\n",
    "Na ausência de parêntesis, as operações são realzadas de acordo com a precedência entre operadores."
   ]
  },
  {
   "cell_type": "code",
   "execution_count": 5,
   "metadata": {},
   "outputs": [
    {
     "data": {
      "text/plain": [
       "116"
      ]
     },
     "execution_count": 5,
     "metadata": {},
     "output_type": "execute_result"
    }
   ],
   "source": [
    "4*2+3**3*4"
   ]
  },
  {
   "cell_type": "markdown",
   "metadata": {},
   "source": [
    "O resultado anterior foi obtido pois as operações foram executadas da seguinte forma:\n",
    "\n",
    "$$4\\times2 + (3^3)\\times 4 = 8 + (27\\times4) = 8 + 108 = 116$$"
   ]
  },
  {
   "cell_type": "code",
   "execution_count": 6,
   "metadata": {},
   "outputs": [
    {
     "data": {
      "text/plain": [
       "3"
      ]
     },
     "execution_count": 6,
     "metadata": {},
     "output_type": "execute_result"
    }
   ],
   "source": [
    "# Divisão Inteira\n",
    "10//3"
   ]
  },
  {
   "cell_type": "code",
   "execution_count": 7,
   "metadata": {},
   "outputs": [
    {
     "data": {
      "text/plain": [
       "3.3333333333333335"
      ]
     },
     "execution_count": 7,
     "metadata": {},
     "output_type": "execute_result"
    }
   ],
   "source": [
    "# Divisão Comum\n",
    "10/3"
   ]
  },
  {
   "cell_type": "code",
   "execution_count": 8,
   "metadata": {},
   "outputs": [
    {
     "data": {
      "text/plain": [
       "1"
      ]
     },
     "execution_count": 8,
     "metadata": {},
     "output_type": "execute_result"
    }
   ],
   "source": [
    "# Resto da Divisão de 10 por 3 (10 = 3*3 + 1)\n",
    "10%3"
   ]
  },
  {
   "cell_type": "markdown",
   "metadata": {},
   "source": [
    "Algumas funções pertencem a determinadas bibliotecas e por isso, antes de serem utilizadas precisam ser carregadas.\n",
    "\n",
    "A função que calcula a raiz quadrada de um número é a `sqrt()`, que pertence à biblioteca math (biblioteca que possui funções matemáticas).\n",
    "\n",
    "Alguns opções de comandos para importar uma biblioteca:\n",
    "\n",
    "* `import math` - importa todas as funções da biblioteca `math`. Neste caso, para utilizar a função desejada, precisamos, antes do nome dela, dizer de qual pacote ela pertence: `math.sqrt()`.\n",
    "\n",
    "\n",
    "* `from math import sqrt` - importa apenas a função `sqrt` da biblioteca `math`.\n",
    "\n",
    "\n",
    "* `from math import *` - importa todas as funções da biblioteca `math`. No entanto, não precisamos dizer de qual pacote a função pertence. \n",
    "\n",
    "\n",
    "No decorrer do curso, vamos abordar mais essas diferenças. "
   ]
  },
  {
   "cell_type": "code",
   "execution_count": 9,
   "metadata": {},
   "outputs": [],
   "source": [
    "# Importando todos os módulo da biblioteca math\n",
    "from math import *"
   ]
  },
  {
   "cell_type": "code",
   "execution_count": 10,
   "metadata": {},
   "outputs": [
    {
     "data": {
      "text/plain": [
       "3.16"
      ]
     },
     "execution_count": 10,
     "metadata": {},
     "output_type": "execute_result"
    }
   ],
   "source": [
    "round(sqrt(10),2)"
   ]
  },
  {
   "cell_type": "markdown",
   "metadata": {},
   "source": [
    "A função `round(numero,n)` recebe um número qualquer e arredonda ele para $n$ casas decimais.\n",
    "\n",
    "Um valor do tipo **flutuante** é qualquer número decimal, representado em Python pelo tipo de dado **float**.\n",
    "\n",
    "Também podemos colocar apenas um número dentro da função `round(numero)`, assim ela irá arredondar o número e devolver um inteiro. Com essse mesmo objetivo, a função `int()` também converte um número flutuante em inteiro. \n",
    "\n",
    "\n",
    "**Obs.:** A função `round()` tem uma característica especial: se o número flutuante (**float**) tem igual distância entre o inteiro de cima e o inteiro de baixo, ela arredonda para o número par mais próximo. "
   ]
  },
  {
   "cell_type": "code",
   "execution_count": 11,
   "metadata": {},
   "outputs": [
    {
     "data": {
      "text/plain": [
       "3"
      ]
     },
     "execution_count": 11,
     "metadata": {},
     "output_type": "execute_result"
    }
   ],
   "source": [
    "round(sqrt(10))"
   ]
  },
  {
   "cell_type": "code",
   "execution_count": 12,
   "metadata": {},
   "outputs": [
    {
     "data": {
      "text/plain": [
       "int"
      ]
     },
     "execution_count": 12,
     "metadata": {},
     "output_type": "execute_result"
    }
   ],
   "source": [
    "type(round(sqrt(10)))"
   ]
  },
  {
   "cell_type": "code",
   "execution_count": 13,
   "metadata": {},
   "outputs": [
    {
     "data": {
      "text/plain": [
       "3"
      ]
     },
     "execution_count": 13,
     "metadata": {},
     "output_type": "execute_result"
    }
   ],
   "source": [
    "int(sqrt(10))"
   ]
  },
  {
   "cell_type": "code",
   "execution_count": 14,
   "metadata": {},
   "outputs": [
    {
     "data": {
      "text/plain": [
       "2"
      ]
     },
     "execution_count": 14,
     "metadata": {},
     "output_type": "execute_result"
    }
   ],
   "source": [
    "# Arredonda para o número par mais próximo\n",
    "round(2.5)"
   ]
  },
  {
   "cell_type": "code",
   "execution_count": 15,
   "metadata": {},
   "outputs": [
    {
     "data": {
      "text/plain": [
       "4"
      ]
     },
     "execution_count": 15,
     "metadata": {},
     "output_type": "execute_result"
    }
   ],
   "source": [
    "# Arredonda para o número par mais próximo\n",
    "round(3.5)"
   ]
  },
  {
   "cell_type": "code",
   "execution_count": 16,
   "metadata": {},
   "outputs": [
    {
     "data": {
      "text/plain": [
       "2.154434690031884"
      ]
     },
     "execution_count": 16,
     "metadata": {},
     "output_type": "execute_result"
    }
   ],
   "source": [
    "# Como calcular outras raízes de um número. Se queremos calcular a raiz b de n, fazemos b**(1/n).\n",
    "10**(1/3)"
   ]
  },
  {
   "cell_type": "markdown",
   "metadata": {},
   "source": [
    "### 2.  Operadores relacionais\n",
    "\n",
    "Um **operador Relacional** é todo operador que obtém a relação do membro da esquerda com o membro a sua direita, portanto, para utilizar um operador relacional temos que pensar na seguinte estrutura: \n",
    "```Python\n",
    " <membro à esquerda> OPERADOR <membro à direita>\n",
    "```\n",
    "\n",
    "|    Descrição   | Operador (em Python) |\n",
    "|:--------------:|:--------------------:|\n",
    "| Igual          |          ==          |\n",
    "| Diferente      |          !=          |\n",
    "| Maior          |          >           |\n",
    "| Maior ou Igual |          >=          |\n",
    "| Menor          |           <          |\n",
    "| Menor ou Igual |          <=          |\n",
    "\n",
    "\n",
    "**OBbs.:** um teste de igualdade é simétrico, mas uma atribuição não é. Por exemplo, se `a == 7` então `7 == a`. Mas, em Python, a expressão `a = 7` é válida e `7 = a` não é.\n",
    "\n",
    "### 3. Operadores lógicos\n",
    "\n",
    "Como vimos anteriormente, **expressões aritméticas**, como $4\\times2+3^3\\times4$, são formadas por valores e **operadores aritméticos**. De maneira semelhante, **expressões lógicas ou booleanas** são formadas por valores e  **operadores lógicos** tais como `not`, `and` (conectivo de conjunção) e `or` (conectivo de disjunção).\n",
    "\n",
    "| Descrição \t| Operadores (em Python) \t|\n",
    "|-----------\t|------------------------\t|\n",
    "| not       \t| negação                \t|\n",
    "| and       \t| conjunção              \t|\n",
    "| or        \t| disjunção              \t|\n",
    "\n",
    "\n",
    "## Expressões Lógicas\n",
    "Existem apenas dois **valores booleanos**: verdadeiro (`True`, em Python) ou falso (`False`, em Python). As iniciais maiúsculas são importantes, uma vez que `true` e `false` não são valores booleanos (lembrando que em Python, há diferença entre maísucula e minúscula). Outra observasão é que os valores booleanos não são strings (note que não são escritos entre aspas). "
   ]
  },
  {
   "cell_type": "code",
   "execution_count": 17,
   "metadata": {},
   "outputs": [
    {
     "name": "stdout",
     "output_type": "stream",
     "text": [
      "<class 'bool'>\n",
      "<class 'str'>\n"
     ]
    }
   ],
   "source": [
    "print(type(True))\n",
    "print(type('true'))"
   ]
  },
  {
   "cell_type": "markdown",
   "metadata": {},
   "source": [
    "## Tabela Verdade\n",
    "\n",
    "### not\n",
    "| p \t| ~p \t|\n",
    "|:---:\t|:----:\t|\n",
    "| V \t| F  \t|\n",
    "| F \t| V  \t|\n",
    "\n",
    "\n",
    "\n",
    "### and, or e xor (ou exclusivo)\n",
    "\n",
    "| p \t| q \t| p and q \t| p or q \t| p xor q \t|\n",
    "|:-:\t|:-:\t|:-------:\t|:------:\t|:-------:\t|\n",
    "| V \t| V \t|    V    \t|    V   \t|    F    \t|\n",
    "| V \t| F \t|    F    \t|    V   \t|    V    \t|\n",
    "| F \t| V \t|    F    \t|    V   \t|    V    \t|\n",
    "| F \t| F \t|    F    \t|    F   \t|    F    \t|\n",
    "\n",
    "\n",
    "\n",
    "**Obs.:** O operador **XOR** (também chamado de *ou exclusivo*  ou *disjunção exclusiva*) é uma operação lógica entre dois operandos que resulta em um valor lógico verdadeiro se e somente se o número de operandos com valor verdadeiro for ímpar. "
   ]
  },
  {
   "cell_type": "code",
   "execution_count": 18,
   "metadata": {},
   "outputs": [],
   "source": [
    "a=True\n",
    "b=True"
   ]
  },
  {
   "cell_type": "code",
   "execution_count": 19,
   "metadata": {},
   "outputs": [
    {
     "name": "stdout",
     "output_type": "stream",
     "text": [
      "not(a):  False\n",
      "not(b):  False\n",
      "a and b:  True\n",
      "a or b:  True\n",
      "a xor b:  False\n"
     ]
    }
   ],
   "source": [
    "print('not(a): ', not(a))\n",
    "print('not(b): ', not(b))\n",
    "print('a and b: ', a and b)\n",
    "print('a or b: ', a or b)\n",
    "print('a xor b: ', a ^ b)"
   ]
  },
  {
   "cell_type": "markdown",
   "metadata": {},
   "source": [
    "### not (p or q)\n",
    "\n",
    "| p \t| q \t| p or q \t| not (p or q) \t|\n",
    "|:-:\t|:-:\t|:------:\t|:------------:\t|\n",
    "| V \t| V \t|    V   \t|       F      \t|\n",
    "| V \t| F \t|    V   \t|       F      \t|\n",
    "| F \t| V \t|    V   \t|       F      \t|\n",
    "| F \t| F \t|    F   \t|       V      \t|\n",
    "\n",
    "### not (p) and not (q)\n",
    "\n",
    "| p \t| q \t| not (p) \t| not (q) \t| not(p) and not (q) \t|\n",
    "|:-:\t|:-:\t|:-------:\t|:-------:\t|:------------------:\t|\n",
    "| V \t| V \t|    F    \t|    F    \t|          F         \t|\n",
    "| V \t| F \t|    F    \t|    V    \t|          F         \t|\n",
    "| F \t| V \t|    V    \t|    F    \t|          F         \t|\n",
    "| F \t| F \t|    V    \t|    V    \t|          V         \t|"
   ]
  },
  {
   "cell_type": "markdown",
   "metadata": {},
   "source": [
    "$$ \\frac{C}{5} = \\frac{F-32}{9}$$\n",
    "\n",
    "**EXERCÍCÍO 1:** Vamos fazer uma função que converte a temperatura de de Celsius para Fahrenheit.\n",
    "\n",
    "Logo, isolando o $F$, temos que: $F = C \\times \\frac{9}{5} + 32$."
   ]
  },
  {
   "cell_type": "code",
   "execution_count": 20,
   "metadata": {},
   "outputs": [],
   "source": [
    "def cf(tempc):\n",
    "    tempf=9*tempc/5+32\n",
    "    return tempf"
   ]
  },
  {
   "cell_type": "code",
   "execution_count": 21,
   "metadata": {},
   "outputs": [
    {
     "data": {
      "text/plain": [
       "95.0"
      ]
     },
     "execution_count": 21,
     "metadata": {},
     "output_type": "execute_result"
    }
   ],
   "source": [
    "cf(35)"
   ]
  },
  {
   "cell_type": "markdown",
   "metadata": {},
   "source": [
    "**EXERCÍCÍO 2:** Agora, vamos fazer uma função que converte a temperatura de Fahrenheit para Celsius.\n",
    "\n",
    "Logo, isolando o $C$, temos que: $C = 5 \\times \\frac{F-32}{9}$."
   ]
  },
  {
   "cell_type": "code",
   "execution_count": 22,
   "metadata": {},
   "outputs": [],
   "source": [
    "def fc(tempf):\n",
    "    tempc=5*(tempf-32)/9\n",
    "    return tempc"
   ]
  },
  {
   "cell_type": "code",
   "execution_count": 23,
   "metadata": {},
   "outputs": [
    {
     "data": {
      "text/plain": [
       "35.0"
      ]
     },
     "execution_count": 23,
     "metadata": {},
     "output_type": "execute_result"
    }
   ],
   "source": [
    "fc(95)"
   ]
  },
  {
   "cell_type": "markdown",
   "metadata": {},
   "source": [
    "**EXERCÍCÍO 3:** Dada uma temperatura em Fahrenheit, queremos saber como está a temperatura em Celsius.\n",
    "\n",
    "Aqui, a função `taquente(temp)` recebe uma temperatura em Fahrenheit e utilizamos a função `fc(tempf)`, já criada anteriormente, para converter a temperatura para Celsius. Em seguida, ela realiza um teste condicional por meio do `if...else` para decidir como está a temperatura. "
   ]
  },
  {
   "cell_type": "code",
   "execution_count": 24,
   "metadata": {},
   "outputs": [],
   "source": [
    "def taquente(temp):\n",
    "    tconv=fc(temp)\n",
    "    if tconv >= 30:\n",
    "        print('Tá quente demais!')\n",
    "        return tconv\n",
    "    else:\n",
    "        print('Tá na boa!')\n",
    "        return tconv"
   ]
  },
  {
   "cell_type": "code",
   "execution_count": 25,
   "metadata": {},
   "outputs": [
    {
     "name": "stdout",
     "output_type": "stream",
     "text": [
      "Tá quente demais!\n"
     ]
    },
    {
     "data": {
      "text/plain": [
       "35.0"
      ]
     },
     "execution_count": 25,
     "metadata": {},
     "output_type": "execute_result"
    }
   ],
   "source": [
    "taquente(95)"
   ]
  },
  {
   "cell_type": "markdown",
   "metadata": {},
   "source": [
    "## Condicionais\n",
    "\n",
    "**OBS.:** Cuidado com as indentações!\n",
    "\n",
    "### 1. `if`\n",
    "\n",
    "Executa o bloco de comandos tabulados (indentados) se a condição é verdadeira.\n",
    "\n",
    "```Python\n",
    "if condiçao:\n",
    "    |\n",
    "    | bloco de comandos\n",
    "    |\n",
    "```\n",
    "\n",
    "Note que o uso do `else` não é obrigatório.\n",
    "\n",
    "\n",
    "### 2. `if-else`\n",
    "\n",
    "Se a condição for verdadeira executa apenas o bloco de comandos 0. Se a condição for falsa executa apenas o bloco de comandos 1.\n",
    "\n",
    "```Python\n",
    "if condição:\n",
    "    |\n",
    "    | bloco de comandos 0\n",
    "    |\n",
    "else:\n",
    "    |\n",
    "    | bloco de comandos 1\n",
    "    |\n",
    "```\n",
    "\n",
    "### 3. `if-elif-else`\n",
    "\n",
    "As condições são testadas em ordem, uma após outra. Apenas o bloco de comandos correspondente a primeira condição que for verdadeira será executada. O bloco de comandos associados ao else serão executados apenas se todas as condições forem falsas. Não é necessário que haja um else ao final.\n",
    "\n",
    "\n",
    "```Python\n",
    "if condição_0:\n",
    "    |\n",
    "    | bloco de comandos 0\n",
    "    |\n",
    "elif condiçao_1:\n",
    "    |\n",
    "    | bloco de comandos 1\n",
    "    |\n",
    "elif condicão_2:\n",
    "    |\n",
    "    | bloco de comandos 2\n",
    "    |\n",
    "\n",
    "elif ...:\n",
    "\n",
    "elif condição_k:\n",
    "    |\n",
    "    | bloco de comandos k\n",
    "    |\n",
    "else:\n",
    "    |\n",
    "    | bloco de comandos k+1\n",
    "    |\n",
    "```"
   ]
  }
 ],
 "metadata": {
  "kernelspec": {
   "display_name": "Python 3",
   "language": "python",
   "name": "python3"
  },
  "language_info": {
   "codemirror_mode": {
    "name": "ipython",
    "version": 3
   },
   "file_extension": ".py",
   "mimetype": "text/x-python",
   "name": "python",
   "nbconvert_exporter": "python",
   "pygments_lexer": "ipython3",
   "version": "3.7.0"
  }
 },
 "nbformat": 4,
 "nbformat_minor": 2
}
