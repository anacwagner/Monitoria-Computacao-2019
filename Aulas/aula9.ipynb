{
 "cells": [
  {
   "cell_type": "markdown",
   "metadata": {},
   "source": [
    "# Aula 9"
   ]
  },
  {
   "cell_type": "code",
   "execution_count": 1,
   "metadata": {},
   "outputs": [],
   "source": [
    "from math import *"
   ]
  },
  {
   "cell_type": "markdown",
   "metadata": {},
   "source": [
    "Modificação do programa de soma dos termos da série do cosseno\n",
    "\n",
    "Considerar que a série é convergente e somar até atingir um ponto em que ela não ultrapassa um certo limite"
   ]
  },
  {
   "cell_type": "markdown",
   "metadata": {},
   "source": [
    "Função para calcular $$ \\sum_{n=0}^{k}\\frac{(-1)^{n}}{2n!}x^{2n}$$"
   ]
  },
  {
   "cell_type": "code",
   "execution_count": 2,
   "metadata": {},
   "outputs": [],
   "source": [
    "def somatermo(x,tolerancia):\n",
    "    #tolerancia é a variável utilizada para definir quando parar de considerar os termos\n",
    "    #tolerancia é a quantidade de casas decimais de precisão\n",
    "    n=0\n",
    "    soma=0\n",
    "    termo=(((-1)**n)/(factorial(2*n)))*(x**(2*n))\n",
    "    while abs(termo)>10**(-tolerancia): #tenho que pegar o valor absoluto do termo pois ele fica negativo e positivo\n",
    "        #print (n)\n",
    "        soma=soma+termo\n",
    "        n=n+1\n",
    "        termo=(((-1)**n)/(factorial(2*n)))*(x**(2*n))\n",
    "    return soma"
   ]
  },
  {
   "cell_type": "code",
   "execution_count": 3,
   "metadata": {},
   "outputs": [
    {
     "data": {
      "text/plain": [
       "-1.0000041678091434"
      ]
     },
     "execution_count": 3,
     "metadata": {},
     "output_type": "execute_result"
    }
   ],
   "source": [
    "somatermo(pi,5)"
   ]
  },
  {
   "cell_type": "markdown",
   "metadata": {},
   "source": [
    "## Tarefa:\n",
    "* Quantos números naturais consecutivos precisam ser somados para que a soma ultrapasse um valor limite informado"
   ]
  },
  {
   "cell_type": "code",
   "execution_count": 4,
   "metadata": {},
   "outputs": [],
   "source": [
    "def quantostermos(teto):\n",
    "    #conta quantos números devem ser somados para que a soma deles ultrapasse o valor informado\n",
    "    soma=0\n",
    "    cont=0\n",
    "    while soma<teto:\n",
    "        cont=cont+1\n",
    "        soma=soma+cont\n",
    "    return cont"
   ]
  },
  {
   "cell_type": "code",
   "execution_count": 5,
   "metadata": {},
   "outputs": [
    {
     "data": {
      "text/plain": [
       "32"
      ]
     },
     "execution_count": 5,
     "metadata": {},
     "output_type": "execute_result"
    }
   ],
   "source": [
    "quantostermos(500)"
   ]
  },
  {
   "cell_type": "code",
   "execution_count": 6,
   "metadata": {},
   "outputs": [],
   "source": [
    "def somanumeros(n):\n",
    "    soma=0\n",
    "    cont=0\n",
    "    while cont<n:\n",
    "        cont=cont+1 #incrementa a contagem\n",
    "        soma=soma+cont #incrementa a soma com o número\n",
    "    return soma"
   ]
  },
  {
   "cell_type": "code",
   "execution_count": 7,
   "metadata": {},
   "outputs": [
    {
     "data": {
      "text/plain": [
       "10"
      ]
     },
     "execution_count": 7,
     "metadata": {},
     "output_type": "execute_result"
    }
   ],
   "source": [
    "somanumeros(4)"
   ]
  },
  {
   "cell_type": "markdown",
   "metadata": {},
   "source": [
    "## Tarefa:\n",
    "* Calcular o saldo numa poupança em que há:\n",
    "    * Depósito inicial $d_i$\n",
    "    * Depósitos mensais $d_m$\n",
    "    * taxa de juros mensais $tx$\n",
    "    * tempo de poupança $t$ meses"
   ]
  },
  {
   "cell_type": "code",
   "execution_count": 13,
   "metadata": {},
   "outputs": [],
   "source": [
    "def saldo(di,dm,tx,t):\n",
    "    saldo=di\n",
    "    mes=0\n",
    "    while mes<t:\n",
    "        #mes=mes+1\n",
    "        mes+=1 #forma alternativa de escrever mes=mes+1\n",
    "        saldo=dm+saldo*(1+tx/100)\n",
    "    return saldo    "
   ]
  },
  {
   "cell_type": "code",
   "execution_count": 19,
   "metadata": {},
   "outputs": [
    {
     "data": {
      "text/plain": [
       "1446.64411"
      ]
     },
     "execution_count": 19,
     "metadata": {},
     "output_type": "execute_result"
    }
   ],
   "source": [
    "saldo(1000,100,1,4)"
   ]
  },
  {
   "cell_type": "markdown",
   "metadata": {},
   "source": [
    "## Tarefa:\n",
    "* Quanto tempo preciso ficar poupando para que o saldo alcance um valor desejado\n",
    "* Dados:\n",
    "    * Depósito inicial $d_i$\n",
    "    * Depósitos mensais $d_m$\n",
    "    * taxa de juros mensais $tx$\n",
    "    * saldo desejado $saldo$"
   ]
  },
  {
   "cell_type": "code",
   "execution_count": 20,
   "metadata": {},
   "outputs": [],
   "source": [
    "def quantotempo(di,dm,tx,saldo):\n",
    "    poup=di\n",
    "    mes=0\n",
    "    while poup<saldo:\n",
    "        mes+=1 #a mesma coisa que escrever mes=mes+1\n",
    "        poup=dm+poup*(1+tx/100)\n",
    "    return mes"
   ]
  },
  {
   "cell_type": "code",
   "execution_count": 21,
   "metadata": {},
   "outputs": [
    {
     "data": {
      "text/plain": [
       "4"
      ]
     },
     "execution_count": 21,
     "metadata": {},
     "output_type": "execute_result"
    }
   ],
   "source": [
    "quantotempo(1000,100,1,1400)"
   ]
  },
  {
   "cell_type": "markdown",
   "metadata": {},
   "source": [
    "Uso do FOR com RANGE"
   ]
  },
  {
   "cell_type": "code",
   "execution_count": 22,
   "metadata": {},
   "outputs": [
    {
     "name": "stdout",
     "output_type": "stream",
     "text": [
      "0\n",
      "1\n",
      "2\n",
      "3\n",
      "4\n"
     ]
    }
   ],
   "source": [
    "for cont in range(5):\n",
    "    print(cont)"
   ]
  },
  {
   "cell_type": "code",
   "execution_count": 23,
   "metadata": {},
   "outputs": [
    {
     "name": "stdout",
     "output_type": "stream",
     "text": [
      "0\n",
      "1\n",
      "2\n",
      "3\n",
      "4\n"
     ]
    }
   ],
   "source": [
    "cont=0\n",
    "while cont<5:\n",
    "    print(cont)\n",
    "    cont=cont+1"
   ]
  },
  {
   "cell_type": "markdown",
   "metadata": {},
   "source": [
    "Função para contar os divisores de um número informado"
   ]
  },
  {
   "cell_type": "code",
   "execution_count": 28,
   "metadata": {},
   "outputs": [],
   "source": [
    "def contadivisores(n):\n",
    "    cont=0\n",
    "    i=1\n",
    "    while i<=n:\n",
    "        if n%i==0:\n",
    "            print(i)\n",
    "            cont=cont+1\n",
    "        i=i+1\n",
    "    return cont"
   ]
  },
  {
   "cell_type": "code",
   "execution_count": 35,
   "metadata": {
    "scrolled": true
   },
   "outputs": [
    {
     "name": "stdout",
     "output_type": "stream",
     "text": [
      "1\n",
      "137\n"
     ]
    },
    {
     "data": {
      "text/plain": [
       "2"
      ]
     },
     "execution_count": 35,
     "metadata": {},
     "output_type": "execute_result"
    }
   ],
   "source": [
    "contadivisores(137)"
   ]
  },
  {
   "cell_type": "code",
   "execution_count": 32,
   "metadata": {},
   "outputs": [],
   "source": [
    "def somadivisores(n):\n",
    "    soma=0\n",
    "    i=1\n",
    "    while i<=n:\n",
    "        if n%i==0:\n",
    "            print(i)\n",
    "            soma=soma+i\n",
    "        i=i+1\n",
    "    return soma"
   ]
  },
  {
   "cell_type": "code",
   "execution_count": 34,
   "metadata": {},
   "outputs": [
    {
     "name": "stdout",
     "output_type": "stream",
     "text": [
      "1\n",
      "137\n"
     ]
    },
    {
     "data": {
      "text/plain": [
       "138"
      ]
     },
     "execution_count": 34,
     "metadata": {},
     "output_type": "execute_result"
    }
   ],
   "source": [
    "somadivisores(137)"
   ]
  }
 ],
 "metadata": {
  "kernelspec": {
   "display_name": "Python 3",
   "language": "python",
   "name": "python3"
  },
  "language_info": {
   "codemirror_mode": {
    "name": "ipython",
    "version": 3
   },
   "file_extension": ".py",
   "mimetype": "text/x-python",
   "name": "python",
   "nbconvert_exporter": "python",
   "pygments_lexer": "ipython3",
   "version": "3.7.3"
  }
 },
 "nbformat": 4,
 "nbformat_minor": 2
}
