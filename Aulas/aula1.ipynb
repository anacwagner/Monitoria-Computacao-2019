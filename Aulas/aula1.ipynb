{
 "cells": [
  {
   "cell_type": "markdown",
   "metadata": {},
   "source": [
    "# Aula 1 - Introdução ao Jupyter Notebook"
   ]
  },
  {
   "cell_type": "markdown",
   "metadata": {},
   "source": [
    "## Variáveis e Atribuição\n",
    "\n",
    "O **operador de atribuição** é representado pelo sinal de igualdade (`=`) e é responsável por definir uma variável e, consequentemente, atribuir a ela um valor (não necessariamente numérico). \n",
    "\n",
    "As **variáveis** referem-se a um valor e, como o próprio nome já diz, podem ter seu conteúdo alterado. Podemos armazenar qualquer coisa por meio delas, o que é de extrema importância, pois quando estamos desenvolvendo programas precisamos armazenar e manipular os dados com que estamos trabalhando. \n",
    "\n",
    "\n",
    "``variável = expressão``\n",
    "\n",
    "Significa: \n",
    "1. O valor da expressão é calculado.\n",
    "2. A variável é criada.\n",
    "3. A variável passa a fazer referência / guardar um valor. \n",
    "\n",
    "**Obs 1:** o nome de uma variável deverá sempre iniciar por uma letra ou pelo símbolo `_` (underscore), podendo ser seguindo pelos mesmos e por números. É importante ressaltar que existe distinção entre letra maiúscula e minúscula, ou seja, `x` e `X` são variáveis diferentes.\n",
    "\n",
    "**Obs 2:** O nome de uma variável é sempre uma letra ou o símbolo `_` (underscore) seguida de letras, números e `_`. Atenção, maiúscula é diferente de minúscula. Assim maior e Maior são duas variáveis diferentes. São exemplo de nomes de variáveis: `exemplo_1`, `_exemplo1`.  "
   ]
  },
  {
   "cell_type": "code",
   "execution_count": 1,
   "metadata": {},
   "outputs": [],
   "source": [
    "b=2\n",
    "c=3"
   ]
  },
  {
   "cell_type": "code",
   "execution_count": 2,
   "metadata": {},
   "outputs": [
    {
     "data": {
      "text/plain": [
       "5"
      ]
     },
     "execution_count": 2,
     "metadata": {},
     "output_type": "execute_result"
    }
   ],
   "source": [
    "a=b+c # A variável \"a\" é criada para armazenar a soma de outras duas variáveis.\n",
    "a"
   ]
  },
  {
   "cell_type": "markdown",
   "metadata": {},
   "source": [
    "Note que na primeira linha foi utilizado o símbolo ``#``. Sempre que o utilizamos, informamos ao Python que tudo o que estiver escrito imediatamente após deverá ser ignorado, ou seja, não deverá ser executado. \n",
    "\n",
    "O uso de comentários é uma prática bem comum na programação, pois conseguimos documentar partes específicas do código. Podemos adicionar uma informação ou apenas indicar que não queremos que determinada linha seja executada. Se você ficou confuso, não se preocupe, vamos desenvolver mais essa prática nas próximas aulas. "
   ]
  },
  {
   "cell_type": "code",
   "execution_count": 3,
   "metadata": {},
   "outputs": [],
   "source": [
    "x=5"
   ]
  },
  {
   "cell_type": "code",
   "execution_count": 4,
   "metadata": {},
   "outputs": [],
   "source": [
    "d=x+a"
   ]
  },
  {
   "cell_type": "markdown",
   "metadata": {},
   "source": [
    "A função ``print()`` é utilizada quando queremos \"imprimir\" os argumentos passados a ela. "
   ]
  },
  {
   "cell_type": "code",
   "execution_count": 5,
   "metadata": {},
   "outputs": [
    {
     "name": "stdout",
     "output_type": "stream",
     "text": [
      "5\n",
      "2\n",
      "3\n",
      "10\n",
      "5\n"
     ]
    }
   ],
   "source": [
    "print(a)\n",
    "print(b)\n",
    "print(c)\n",
    "print(d)\n",
    "print(x)"
   ]
  },
  {
   "cell_type": "code",
   "execution_count": 6,
   "metadata": {},
   "outputs": [
    {
     "name": "stdout",
     "output_type": "stream",
     "text": [
      "4\n"
     ]
    }
   ],
   "source": [
    "a=b+b\n",
    "print(a)"
   ]
  },
  {
   "cell_type": "code",
   "execution_count": 7,
   "metadata": {},
   "outputs": [
    {
     "name": "stdout",
     "output_type": "stream",
     "text": [
      "5\n"
     ]
    }
   ],
   "source": [
    "a=a+1\n",
    "print(a)"
   ]
  }
 ],
 "metadata": {
  "kernelspec": {
   "display_name": "Python 3",
   "language": "python",
   "name": "python3"
  },
  "language_info": {
   "codemirror_mode": {
    "name": "ipython",
    "version": 3
   },
   "file_extension": ".py",
   "mimetype": "text/x-python",
   "name": "python",
   "nbconvert_exporter": "python",
   "pygments_lexer": "ipython3",
   "version": "3.7.0"
  }
 },
 "nbformat": 4,
 "nbformat_minor": 2
}
