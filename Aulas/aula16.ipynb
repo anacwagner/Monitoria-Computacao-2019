{
 "cells": [
  {
   "cell_type": "markdown",
   "metadata": {},
   "source": [
    "# Aula 16"
   ]
  },
  {
   "cell_type": "code",
   "execution_count": 1,
   "metadata": {},
   "outputs": [],
   "source": [
    "from math import *\n",
    "from random import *"
   ]
  },
  {
   "cell_type": "code",
   "execution_count": 2,
   "metadata": {},
   "outputs": [],
   "source": [
    "def baralho1(n):\n",
    "    #sorteia n cartas, podendo haver repetição\n",
    "    lista=[]\n",
    "    for i in range(n):\n",
    "        carta=randint(1,13)\n",
    "        naipe=choice(['copas','ouros','paus','espadas'])\n",
    "        lista.append([carta,naipe])\n",
    "    return lista"
   ]
  },
  {
   "cell_type": "code",
   "execution_count": 3,
   "metadata": {},
   "outputs": [
    {
     "data": {
      "text/plain": [
       "[[10, 'ouros'], [9, 'espadas'], [7, 'copas'], [2, 'espadas']]"
      ]
     },
     "execution_count": 3,
     "metadata": {},
     "output_type": "execute_result"
    }
   ],
   "source": [
    "baralho1(4)"
   ]
  },
  {
   "cell_type": "code",
   "execution_count": 4,
   "metadata": {},
   "outputs": [],
   "source": [
    "def baralho2(n):\n",
    "    #sorteia n cartas, sem repetição\n",
    "    if n>52:\n",
    "        print('Não dá pra sortear mais cartas do que existem')\n",
    "        return []\n",
    "    naipes=['copas','ouros','paus','espadas']\n",
    "    baralho=[]\n",
    "    lista=[]\n",
    "    # cria o baralho com as 52 cartas\n",
    "    for carta in range(1,14):\n",
    "        for naipe in range(4):\n",
    "            x=[carta,naipes[naipe]]\n",
    "            baralho.append(x)\n",
    "    #começa o sorteio das n cartas\n",
    "    for i in range (n):\n",
    "        cartasorteada=baralho.pop(randint(0,len(baralho)-1)) #sorteia o índice da lista e faz o pop\n",
    "        lista.append(cartasorteada) #insere o elemento retirado do baralho na lista de sorteadas\n",
    "    return lista"
   ]
  },
  {
   "cell_type": "code",
   "execution_count": 5,
   "metadata": {},
   "outputs": [
    {
     "data": {
      "text/plain": [
       "[[3, 'paus'],\n",
       " [8, 'copas'],\n",
       " [7, 'ouros'],\n",
       " [2, 'paus'],\n",
       " [5, 'ouros'],\n",
       " [4, 'ouros'],\n",
       " [10, 'espadas'],\n",
       " [9, 'ouros'],\n",
       " [5, 'paus'],\n",
       " [13, 'espadas']]"
      ]
     },
     "execution_count": 5,
     "metadata": {},
     "output_type": "execute_result"
    }
   ],
   "source": [
    "baralho2(10)"
   ]
  },
  {
   "cell_type": "code",
   "execution_count": 6,
   "metadata": {},
   "outputs": [],
   "source": [
    "b=[]\n",
    "naipes=['copas','ouros','paus','espadas']\n",
    "for i in range (1,3):\n",
    "    for naipe in range(4):\n",
    "        b.append([i,naipes[naipe]])\n"
   ]
  },
  {
   "cell_type": "code",
   "execution_count": 7,
   "metadata": {},
   "outputs": [
    {
     "data": {
      "text/plain": [
       "[[1, 'copas'],\n",
       " [1, 'ouros'],\n",
       " [1, 'paus'],\n",
       " [1, 'espadas'],\n",
       " [2, 'copas'],\n",
       " [2, 'ouros'],\n",
       " [2, 'paus'],\n",
       " [2, 'espadas']]"
      ]
     },
     "execution_count": 7,
     "metadata": {},
     "output_type": "execute_result"
    }
   ],
   "source": [
    "b"
   ]
  },
  {
   "cell_type": "code",
   "execution_count": 8,
   "metadata": {},
   "outputs": [],
   "source": [
    "cartasorteada=b.pop(randint(0,len(b)-1))"
   ]
  },
  {
   "cell_type": "code",
   "execution_count": 9,
   "metadata": {},
   "outputs": [
    {
     "name": "stdout",
     "output_type": "stream",
     "text": [
      "[[1, 'copas'], [1, 'ouros'], [1, 'paus'], [2, 'copas'], [2, 'ouros'], [2, 'paus'], [2, 'espadas']]\n"
     ]
    }
   ],
   "source": [
    "print(b)"
   ]
  },
  {
   "cell_type": "code",
   "execution_count": 10,
   "metadata": {},
   "outputs": [],
   "source": [
    "listinha=[1,'2',3,4,5]"
   ]
  },
  {
   "cell_type": "code",
   "execution_count": 11,
   "metadata": {},
   "outputs": [
    {
     "ename": "TypeError",
     "evalue": "unsupported operand type(s) for +: 'int' and 'str'",
     "output_type": "error",
     "traceback": [
      "\u001b[1;31m---------------------------------------------------------------------------\u001b[0m",
      "\u001b[1;31mTypeError\u001b[0m                                 Traceback (most recent call last)",
      "\u001b[1;32m<ipython-input-11-49bb0b56ba7f>\u001b[0m in \u001b[0;36m<module>\u001b[1;34m()\u001b[0m\n\u001b[1;32m----> 1\u001b[1;33m \u001b[0msum\u001b[0m\u001b[1;33m(\u001b[0m\u001b[0mlistinha\u001b[0m\u001b[1;33m)\u001b[0m\u001b[1;33m\u001b[0m\u001b[0m\n\u001b[0m",
      "\u001b[1;31mTypeError\u001b[0m: unsupported operand type(s) for +: 'int' and 'str'"
     ]
    }
   ],
   "source": [
    "sum(listinha)"
   ]
  },
  {
   "cell_type": "markdown",
   "metadata": {},
   "source": [
    "Quando temos uma lista formada por tipos diferentes, não conseguimos usa a função `sum()` para somar os elementos da lista. \n",
    "\n",
    "\n",
    "Sendo assim, vamos construir uma função (`somalista()`) que recebe uma lista e testa o tipo de cada elemeto contido nela e vai realizando a soma deles quando for um número (ou seja, do tipo *int* ou *float*). "
   ]
  },
  {
   "cell_type": "code",
   "execution_count": 12,
   "metadata": {},
   "outputs": [],
   "source": [
    "def somalista(lista):\n",
    "    #soma os elementos da lista, desprezando os elementos que não podem ser somados\n",
    "    soma=0\n",
    "    for n in range(len(lista)):\n",
    "        if type(lista[n])==int or type(lista[n])==float:\n",
    "            soma=soma+lista[n]\n",
    "    return soma"
   ]
  },
  {
   "cell_type": "code",
   "execution_count": 13,
   "metadata": {},
   "outputs": [
    {
     "data": {
      "text/plain": [
       "13"
      ]
     },
     "execution_count": 13,
     "metadata": {},
     "output_type": "execute_result"
    }
   ],
   "source": [
    "somalista([1,'2',3,4,5])"
   ]
  },
  {
   "cell_type": "code",
   "execution_count": 14,
   "metadata": {},
   "outputs": [
    {
     "name": "stdout",
     "output_type": "stream",
     "text": [
      "Yes\n"
     ]
    }
   ],
   "source": [
    "if type(2.5)==int or type(2.5)==float:\n",
    "    print('Yes')\n",
    "else:\n",
    "    print ('Ops...')"
   ]
  }
 ],
 "metadata": {
  "kernelspec": {
   "display_name": "Python 3",
   "language": "python",
   "name": "python3"
  },
  "language_info": {
   "codemirror_mode": {
    "name": "ipython",
    "version": 3
   },
   "file_extension": ".py",
   "mimetype": "text/x-python",
   "name": "python",
   "nbconvert_exporter": "python",
   "pygments_lexer": "ipython3",
   "version": "3.7.0"
  }
 },
 "nbformat": 4,
 "nbformat_minor": 2
}
