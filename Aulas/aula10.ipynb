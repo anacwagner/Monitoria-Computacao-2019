{
 "cells": [
  {
   "cell_type": "markdown",
   "metadata": {},
   "source": [
    "# Aula 10"
   ]
  },
  {
   "cell_type": "code",
   "execution_count": 1,
   "metadata": {},
   "outputs": [],
   "source": [
    "from math import *\n",
    "from random import *"
   ]
  },
  {
   "cell_type": "markdown",
   "metadata": {},
   "source": [
    "Funções para contare somar os divisores de um número informado"
   ]
  },
  {
   "cell_type": "code",
   "execution_count": 5,
   "metadata": {},
   "outputs": [],
   "source": [
    "def contadivisores(n):\n",
    "    cont=0\n",
    "    i=1\n",
    "    while i<=n:\n",
    "        if n%i==0:\n",
    "            #print(i)\n",
    "            cont=cont+1\n",
    "        i=i+1\n",
    "    return cont\n",
    "def somadivisores(n):\n",
    "    soma=0\n",
    "    i=1\n",
    "    while i<=n:\n",
    "        if n%i==0:\n",
    "            #print(i)\n",
    "            soma=soma+i\n",
    "        i=i+1\n",
    "    return soma"
   ]
  },
  {
   "cell_type": "code",
   "execution_count": 6,
   "metadata": {},
   "outputs": [
    {
     "name": "stdout",
     "output_type": "stream",
     "text": [
      "6\n",
      "42\n"
     ]
    }
   ],
   "source": [
    "print (contadivisores(20))\n",
    "print (somadivisores(20))"
   ]
  },
  {
   "cell_type": "markdown",
   "metadata": {},
   "source": [
    "Tarefa: verificar se um número informado é primo ou não"
   ]
  },
  {
   "cell_type": "code",
   "execution_count": 8,
   "metadata": {},
   "outputs": [],
   "source": [
    "def primo(n):\n",
    "    #Verifica se n é primo\n",
    "    ndiv=contadivisores(n)\n",
    "    if ndiv==2:\n",
    "        result=1 #só tem 2 divisores, então é primo\n",
    "    else:\n",
    "        result=0 #tem mais de 2 divisores, então não é primo\n",
    "    return result"
   ]
  },
  {
   "cell_type": "code",
   "execution_count": 19,
   "metadata": {},
   "outputs": [
    {
     "data": {
      "text/plain": [
       "1"
      ]
     },
     "execution_count": 19,
     "metadata": {},
     "output_type": "execute_result"
    }
   ],
   "source": [
    "primo(2)"
   ]
  },
  {
   "cell_type": "code",
   "execution_count": 13,
   "metadata": {},
   "outputs": [],
   "source": [
    "def contaprimos(a,b):\n",
    "    #Conta quantos primos há entre a e b\n",
    "    cont=0\n",
    "    i=a\n",
    "    while i<=b:\n",
    "        #if primo(i)==1:\n",
    "        #    cont=cont+1\n",
    "        cont=cont+primo(i)\n",
    "        i=i+1\n",
    "    return cont"
   ]
  },
  {
   "cell_type": "code",
   "execution_count": 15,
   "metadata": {},
   "outputs": [
    {
     "data": {
      "text/plain": [
       "25"
      ]
     },
     "execution_count": 15,
     "metadata": {},
     "output_type": "execute_result"
    }
   ],
   "source": [
    "contaprimos(1,100)"
   ]
  },
  {
   "cell_type": "code",
   "execution_count": 20,
   "metadata": {},
   "outputs": [],
   "source": [
    "def primon(n):\n",
    "    #encontra o enésimo número primo\n",
    "    cont=0\n",
    "    i=0\n",
    "    while cont<n:\n",
    "        i=i+1\n",
    "        if primo(i)==1:\n",
    "            cont=cont+1\n",
    "    return i"
   ]
  },
  {
   "cell_type": "code",
   "execution_count": 24,
   "metadata": {},
   "outputs": [
    {
     "data": {
      "text/plain": [
       "5"
      ]
     },
     "execution_count": 24,
     "metadata": {},
     "output_type": "execute_result"
    }
   ],
   "source": [
    "primon(3)"
   ]
  },
  {
   "cell_type": "markdown",
   "metadata": {},
   "source": [
    "Função para contar a quantidade de pares de primos gêmeos num intervalo\n",
    "\n",
    "Primos gêmeos: https://pt.wikipedia.org/wiki/Números_primos_gémeos"
   ]
  },
  {
   "cell_type": "code",
   "execution_count": 28,
   "metadata": {},
   "outputs": [],
   "source": [
    "def primogemeo(a,b):\n",
    "    #Conta quantos pares de primos gêmeos há entre a e b\n",
    "    i=a\n",
    "    cont=0\n",
    "    while i<=b-2:\n",
    "        if primo(i)==1 and primo(i+2)==1:\n",
    "            cont=cont+1\n",
    "        i=i+1\n",
    "    return cont"
   ]
  },
  {
   "cell_type": "code",
   "execution_count": 31,
   "metadata": {},
   "outputs": [
    {
     "data": {
      "text/plain": [
       "3"
      ]
     },
     "execution_count": 31,
     "metadata": {},
     "output_type": "execute_result"
    }
   ],
   "source": [
    "primogemeo(1,13)"
   ]
  },
  {
   "cell_type": "markdown",
   "metadata": {},
   "source": [
    "Tarefa: encontrar o menor número primo menor que um valor informado"
   ]
  },
  {
   "cell_type": "code",
   "execution_count": 34,
   "metadata": {},
   "outputs": [],
   "source": [
    "def maiorprimoantes(n):\n",
    "    #Encontra o maior número primo menor que n\n",
    "    i=n\n",
    "    if primo(n)==1:\n",
    "        encontrou=1\n",
    "    else:\n",
    "        encontrou=0\n",
    "    while encontrou==0 and i!=1:\n",
    "        i=i-1\n",
    "        if primo(i)==1:\n",
    "            encontrou=1\n",
    "    return i"
   ]
  },
  {
   "cell_type": "code",
   "execution_count": 36,
   "metadata": {},
   "outputs": [
    {
     "data": {
      "text/plain": [
       "97"
      ]
     },
     "execution_count": 36,
     "metadata": {},
     "output_type": "execute_result"
    }
   ],
   "source": [
    "maiorprimoantes(100)"
   ]
  },
  {
   "cell_type": "markdown",
   "metadata": {},
   "source": [
    "Sequência de Collatz (https://pt.wikipedia.org/wiki/Conjectura_de_Collatz)\n"
   ]
  },
  {
   "cell_type": "code",
   "execution_count": 39,
   "metadata": {},
   "outputs": [],
   "source": [
    "def collatz(n):\n",
    "    #Conta quantos termos tem a sequência de Collatz iniciada por n\n",
    "    cont=1\n",
    "    print(n)\n",
    "    while n!=1:\n",
    "        if n%2==0: #n par\n",
    "            n=n/2\n",
    "        else:\n",
    "            n=3*n+1\n",
    "        cont=cont+1\n",
    "        print(n)\n",
    "    return cont"
   ]
  },
  {
   "cell_type": "code",
   "execution_count": 42,
   "metadata": {},
   "outputs": [
    {
     "name": "stdout",
     "output_type": "stream",
     "text": [
      "1000\n",
      "500.0\n",
      "250.0\n",
      "125.0\n",
      "376.0\n",
      "188.0\n",
      "94.0\n",
      "47.0\n",
      "142.0\n",
      "71.0\n",
      "214.0\n",
      "107.0\n",
      "322.0\n",
      "161.0\n",
      "484.0\n",
      "242.0\n",
      "121.0\n",
      "364.0\n",
      "182.0\n",
      "91.0\n",
      "274.0\n",
      "137.0\n",
      "412.0\n",
      "206.0\n",
      "103.0\n",
      "310.0\n",
      "155.0\n",
      "466.0\n",
      "233.0\n",
      "700.0\n",
      "350.0\n",
      "175.0\n",
      "526.0\n",
      "263.0\n",
      "790.0\n",
      "395.0\n",
      "1186.0\n",
      "593.0\n",
      "1780.0\n",
      "890.0\n",
      "445.0\n",
      "1336.0\n",
      "668.0\n",
      "334.0\n",
      "167.0\n",
      "502.0\n",
      "251.0\n",
      "754.0\n",
      "377.0\n",
      "1132.0\n",
      "566.0\n",
      "283.0\n",
      "850.0\n",
      "425.0\n",
      "1276.0\n",
      "638.0\n",
      "319.0\n",
      "958.0\n",
      "479.0\n",
      "1438.0\n",
      "719.0\n",
      "2158.0\n",
      "1079.0\n",
      "3238.0\n",
      "1619.0\n",
      "4858.0\n",
      "2429.0\n",
      "7288.0\n",
      "3644.0\n",
      "1822.0\n",
      "911.0\n",
      "2734.0\n",
      "1367.0\n",
      "4102.0\n",
      "2051.0\n",
      "6154.0\n",
      "3077.0\n",
      "9232.0\n",
      "4616.0\n",
      "2308.0\n",
      "1154.0\n",
      "577.0\n",
      "1732.0\n",
      "866.0\n",
      "433.0\n",
      "1300.0\n",
      "650.0\n",
      "325.0\n",
      "976.0\n",
      "488.0\n",
      "244.0\n",
      "122.0\n",
      "61.0\n",
      "184.0\n",
      "92.0\n",
      "46.0\n",
      "23.0\n",
      "70.0\n",
      "35.0\n",
      "106.0\n",
      "53.0\n",
      "160.0\n",
      "80.0\n",
      "40.0\n",
      "20.0\n",
      "10.0\n",
      "5.0\n",
      "16.0\n",
      "8.0\n",
      "4.0\n",
      "2.0\n",
      "1.0\n"
     ]
    },
    {
     "data": {
      "text/plain": [
       "112"
      ]
     },
     "execution_count": 42,
     "metadata": {},
     "output_type": "execute_result"
    }
   ],
   "source": [
    "collatz(1000)"
   ]
  }
 ],
 "metadata": {
  "kernelspec": {
   "display_name": "Python 3",
   "language": "python",
   "name": "python3"
  },
  "language_info": {
   "codemirror_mode": {
    "name": "ipython",
    "version": 3
   },
   "file_extension": ".py",
   "mimetype": "text/x-python",
   "name": "python",
   "nbconvert_exporter": "python",
   "pygments_lexer": "ipython3",
   "version": "3.7.3"
  }
 },
 "nbformat": 4,
 "nbformat_minor": 2
}
