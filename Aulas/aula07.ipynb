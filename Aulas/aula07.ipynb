{
 "cells": [
  {
   "cell_type": "markdown",
   "metadata": {},
   "source": [
    "# Aula 7"
   ]
  },
  {
   "cell_type": "markdown",
   "metadata": {},
   "source": [
    "Na última aula, vimos o comando de repetição `while`:\n",
    "\n",
    "```Python\n",
    "fim  = 5        #número de iterações\n",
    "cont = 0        #incializa a variável de controle\n",
    "\n",
    "while cont < fim: #condiçao de parada\n",
    "    #enquanto a condição for verdadeira, executa os seguintes comandos\n",
    "    print(\"Iteracao numero: \", cont)\n",
    "    cont = cont + 1     #incremento da variável de controle - garante o fim do comando while\n",
    "```"
   ]
  },
  {
   "cell_type": "code",
   "execution_count": 1,
   "metadata": {},
   "outputs": [],
   "source": [
    "# Importando as bibliotecas\n",
    "from math import *"
   ]
  },
  {
   "cell_type": "markdown",
   "metadata": {},
   "source": [
    "**EXERCÍCÍO 1:** (DEVER DE CASA DA AULA PASSADA) \n",
    "\n",
    "Criar a função `repeticao()` para fazer a soma dos números informados no `input`. "
   ]
  },
  {
   "cell_type": "code",
   "execution_count": 2,
   "metadata": {},
   "outputs": [],
   "source": [
    "def repeticao():\n",
    "    #Somar os números informados no input\n",
    "    x=0\n",
    "    digitou=\"Que legal\"\n",
    "    while digitou==\"Que legal\":\n",
    "        n=input(\"Digite um número: \")\n",
    "        if n!=\"\":\n",
    "            x=x+float(n)\n",
    "            print(x)\n",
    "        else:\n",
    "            digitou=\"parou\"\n",
    "    print(x)\n"
   ]
  },
  {
   "cell_type": "code",
   "execution_count": 3,
   "metadata": {},
   "outputs": [
    {
     "name": "stdout",
     "output_type": "stream",
     "text": [
      "Digite um número: 2\n",
      "2.0\n",
      "Digite um número: 5\n",
      "7.0\n",
      "Digite um número: 41\n",
      "48.0\n",
      "Digite um número: \n",
      "48.0\n"
     ]
    }
   ],
   "source": [
    "repeticao()"
   ]
  },
  {
   "cell_type": "markdown",
   "metadata": {},
   "source": [
    "**EXERCÍCÍO 2:**\n",
    "\n",
    "Criar a função `media()` para calcular a média dos números informados no input."
   ]
  },
  {
   "cell_type": "code",
   "execution_count": 4,
   "metadata": {},
   "outputs": [],
   "source": [
    "def media():\n",
    "    #Calcular a média dos números informados no input\n",
    "    x=0 #variável que acumula a soma dos números informados\n",
    "    c=0 #variável que serve para contar os números informados\n",
    "    digitou=\"Que legal\"\n",
    "    while digitou==\"Que legal\":\n",
    "        n=input(\"Digite um número: \")\n",
    "        if n!=\"\":\n",
    "            x=x+float(n)\n",
    "            c=c+1\n",
    "        else:\n",
    "            print(\"Parou de digitar...\")\n",
    "            digitou=\"parou\"\n",
    "    if c!=0:\n",
    "        print(\"A média é\", x/c)\n",
    "    else:\n",
    "        print(\"Não digitou nada\")"
   ]
  },
  {
   "cell_type": "code",
   "execution_count": 5,
   "metadata": {},
   "outputs": [
    {
     "name": "stdout",
     "output_type": "stream",
     "text": [
      "Digite um número: \n",
      "Parou de digitar...\n",
      "Não digitou nada\n"
     ]
    }
   ],
   "source": [
    "media()"
   ]
  },
  {
   "cell_type": "code",
   "execution_count": 6,
   "metadata": {},
   "outputs": [
    {
     "name": "stdout",
     "output_type": "stream",
     "text": [
      "Digite um número: 4\n",
      "Digite um número: 6\n",
      "Digite um número: \n",
      "Parou de digitar...\n",
      "A média é 5.0\n"
     ]
    }
   ],
   "source": [
    "media()"
   ]
  },
  {
   "cell_type": "markdown",
   "metadata": {},
   "source": [
    "**EXERCÍCÍO 3:** \n",
    "\n",
    "Criar a função `somanumeros()` que soma a quantidade de números informados no input."
   ]
  },
  {
   "cell_type": "code",
   "execution_count": 7,
   "metadata": {},
   "outputs": [],
   "source": [
    "def somanumeros():\n",
    "    #Somar a quantidade de números informada\n",
    "    soma=0 #variável que acumula a soma dos números informados\n",
    "    cont=0 #variável que controla a quantidade de números já informados\n",
    "    quantidade=int(input(\"Quantos números você vai informar? \"))\n",
    "    while cont<quantidade:\n",
    "        n=float(input(\"Digite o número: \"))\n",
    "        cont=cont+1\n",
    "        soma=soma+n\n",
    "    print(soma)"
   ]
  },
  {
   "cell_type": "code",
   "execution_count": 8,
   "metadata": {},
   "outputs": [
    {
     "name": "stdout",
     "output_type": "stream",
     "text": [
      "Quantos números você vai informar? 3\n",
      "Digite o número: 2\n",
      "Digite o número: 3\n",
      "Digite o número: 4\n",
      "9.0\n"
     ]
    }
   ],
   "source": [
    "somanumeros()"
   ]
  },
  {
   "cell_type": "markdown",
   "metadata": {},
   "source": [
    "**EXERCÍCÍO 4:** \n",
    "\n",
    "Criar a função `soman(n)` para somar os números naturais até $n$, passado como parâmetro."
   ]
  },
  {
   "cell_type": "code",
   "execution_count": 9,
   "metadata": {},
   "outputs": [],
   "source": [
    "def soman(n):\n",
    "    #Soma os números naturais até n\n",
    "    soma=0\n",
    "    cont=0\n",
    "    numero=0\n",
    "    while cont<n:\n",
    "        cont=cont+1\n",
    "        numero=numero+1\n",
    "        soma=soma+numero\n",
    "    return soma\n",
    "        "
   ]
  },
  {
   "cell_type": "code",
   "execution_count": 10,
   "metadata": {},
   "outputs": [
    {
     "data": {
      "text/plain": [
       "21"
      ]
     },
     "execution_count": 10,
     "metadata": {},
     "output_type": "execute_result"
    }
   ],
   "source": [
    "soman(6)"
   ]
  },
  {
   "cell_type": "markdown",
   "metadata": {},
   "source": [
    "**EXERCÍCÍO 5:** \n",
    "\n",
    "Criar a função `somaq(n)` para somar os quadrados dos números naturais até $n$, passado como parâmetro."
   ]
  },
  {
   "cell_type": "code",
   "execution_count": 11,
   "metadata": {},
   "outputs": [],
   "source": [
    "def somaq(n):\n",
    "    #Soma os quadrados dos números naturais até n\n",
    "    soma=0\n",
    "    cont=0\n",
    "    numero=0\n",
    "    while cont<n:\n",
    "        cont=cont+1\n",
    "        numero=numero+1\n",
    "        soma=soma+numero**2\n",
    "    return soma"
   ]
  },
  {
   "cell_type": "code",
   "execution_count": 12,
   "metadata": {},
   "outputs": [
    {
     "data": {
      "text/plain": [
       "14"
      ]
     },
     "execution_count": 12,
     "metadata": {},
     "output_type": "execute_result"
    }
   ],
   "source": [
    "somaq(3)"
   ]
  },
  {
   "cell_type": "code",
   "execution_count": null,
   "metadata": {},
   "outputs": [],
   "source": []
  }
 ],
 "metadata": {
  "kernelspec": {
   "display_name": "Python 3",
   "language": "python",
   "name": "python3"
  },
  "language_info": {
   "codemirror_mode": {
    "name": "ipython",
    "version": 3
   },
   "file_extension": ".py",
   "mimetype": "text/x-python",
   "name": "python",
   "nbconvert_exporter": "python",
   "pygments_lexer": "ipython3",
   "version": "3.7.4"
  }
 },
 "nbformat": 4,
 "nbformat_minor": 2
}
