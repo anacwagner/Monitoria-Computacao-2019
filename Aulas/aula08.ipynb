{
 "cells": [
  {
   "cell_type": "markdown",
   "metadata": {},
   "source": [
    "# Aula 8"
   ]
  },
  {
   "cell_type": "code",
   "execution_count": 1,
   "metadata": {},
   "outputs": [],
   "source": [
    "# Importando as bibliotecas\n",
    "from math import *"
   ]
  },
  {
   "cell_type": "markdown",
   "metadata": {},
   "source": [
    "**EXERCÍCÍO 1:** \n",
    "\n",
    "Criar a função `somapares(n)` para somar os $n$ primeiros números pares.\n",
    "\n",
    "**Obs.:** Pense na ideia de somatório e tente encontrar uma fórumula. Tenha cuidado ao definir os limites do somatório!\n",
    "\n",
    "$$\\sum_{i=1}^{n}{2i}$$"
   ]
  },
  {
   "cell_type": "code",
   "execution_count": 2,
   "metadata": {},
   "outputs": [],
   "source": [
    "def somapares(n):\n",
    "    soma=0\n",
    "    cont=0\n",
    "    numero=0\n",
    "    #while cont<n:\n",
    "    #    cont=cont+1 #incrementa a contagem\n",
    "    #    numero=numero+2 #incrementa os números que estão sendo somados\n",
    "    #    soma=soma+numero #incrementa a soma com o número\n",
    "    while cont<n:\n",
    "        cont=cont+1 #incrementa a contagem\n",
    "        soma=soma+cont*2 #incrementa a soma com o dobro da contagem\n",
    "    return soma"
   ]
  },
  {
   "cell_type": "code",
   "execution_count": 3,
   "metadata": {},
   "outputs": [
    {
     "data": {
      "text/plain": [
       "30"
      ]
     },
     "execution_count": 3,
     "metadata": {},
     "output_type": "execute_result"
    }
   ],
   "source": [
    "somapares(5)"
   ]
  },
  {
   "cell_type": "markdown",
   "metadata": {},
   "source": [
    "Note que na função `somapares(n)`, o comando\n",
    "\n",
    "```Python\n",
    "soma = soma + cont*2\n",
    "```\n",
    "\n",
    "adiciona o termo `cont*2` que é exatamente o **termo** $2i$ do somatório. "
   ]
  },
  {
   "cell_type": "markdown",
   "metadata": {},
   "source": [
    "**EXERCÍCÍO 2:** \n",
    "\n",
    "Criar a função `somaimpares(n)` para somar os $n$ primeiros números ímpares.\n",
    "\n",
    "\n",
    "Neste caso, o somatório é dado por\n",
    "$$\\sum_{i=1}^{n}{(2i-1)}$$ "
   ]
  },
  {
   "cell_type": "code",
   "execution_count": 4,
   "metadata": {},
   "outputs": [],
   "source": [
    "def somaimpares(n):\n",
    "    soma=0\n",
    "    cont=0\n",
    "    #numero=-1\n",
    "    #while cont<n:\n",
    "    #    cont=cont+1 #incrementa a contagem\n",
    "    #    numero=numero+2 #incrementa os números que estão sendo somados\n",
    "    #    soma=soma+numero #incrementa a soma com o número\n",
    "    while cont<n:\n",
    "        cont=cont+1 #incrementa a contagem\n",
    "        soma=soma+cont*2-1 #incrementa a soma com o dobro da contagem\n",
    "    return soma"
   ]
  },
  {
   "cell_type": "code",
   "execution_count": 5,
   "metadata": {},
   "outputs": [
    {
     "data": {
      "text/plain": [
       "9"
      ]
     },
     "execution_count": 5,
     "metadata": {},
     "output_type": "execute_result"
    }
   ],
   "source": [
    "somaimpares(3)"
   ]
  },
  {
   "cell_type": "markdown",
   "metadata": {},
   "source": [
    "**EXERCÍCÍO 3:** \n",
    "\n",
    "Criar a função `somatermo(x,k)` para calcular\n",
    "\n",
    "$$ \\sum_{n=0}^{k}\\frac{(-1)^{n}}{2n!}x^{2n}$$"
   ]
  },
  {
   "cell_type": "code",
   "execution_count": 6,
   "metadata": {},
   "outputs": [],
   "source": [
    "def somatermo(x,k):\n",
    "    n=0\n",
    "    soma=0\n",
    "    while n<=k:\n",
    "        termo=(((-1)**n)/(factorial(2*n)))*(x**(2*n)) # note que usamos a função factorial da biblioteca math\n",
    "        #print(n)\n",
    "        soma=soma+termo\n",
    "        n=n+1\n",
    "    return soma"
   ]
  },
  {
   "cell_type": "code",
   "execution_count": 7,
   "metadata": {},
   "outputs": [
    {
     "data": {
      "text/plain": [
       "-0.9999999999243502"
      ]
     },
     "execution_count": 7,
     "metadata": {},
     "output_type": "execute_result"
    }
   ],
   "source": [
    "somatermo(pi,10)"
   ]
  },
  {
   "cell_type": "markdown",
   "metadata": {},
   "source": [
    "A função criada corresponde a série de Taylor para o cálculo do cosseno de $x$, utilizando apenas $k$ termos da série.\n",
    "\n",
    "$$ cos(x) \\approx  \\sum_{n=0}^{\\infty}\\frac{(-1)^{n}}{2n!}x^{2n} \\approx 1 - \\frac{x^2}{2!} + \\frac{x^4}{4!} - \\frac{x^6}{6!}+\\ldots$$\n",
    "\n",
    "Observe que a variável $x$ é o valor do qual estamos tentando encontrar o cosseno, a variável $k$ é o número de termos na série Taylor e a variável $n$ é o índice do *loop*, que também é o número do termo da série Taylor.\n",
    " \n"
   ]
  },
  {
   "cell_type": "markdown",
   "metadata": {},
   "source": [
    "___\n",
    "## PARA CASA\n",
    "\n",
    "Alterar a função `somatermo(x,k)` para fazer o seguinte:\n",
    "\n",
    "* Sabendo que série é convergente, somar os termos somente até que a soma chegue \"perto\" do valor. \n",
    "___"
   ]
  },
  {
   "cell_type": "markdown",
   "metadata": {},
   "source": [
    "Sequência de tarefas:\n",
    "* Encontrar o enésimo número triangular.\n",
    "    * **Número triangular** é o resultado da soma de uma PA de $n$ termos, razão $1$ e $a_0=1$\n",
    "    * (ou seja, é a soma dos $n$ primeiros números naturais, que já fizemos antes)\n",
    "    \n",
    "    \n",
    "* Calcular a soma dos $k$ primeiros números triangulares."
   ]
  },
  {
   "cell_type": "code",
   "execution_count": 8,
   "metadata": {},
   "outputs": [],
   "source": [
    "def soman(n):\n",
    "    #Soma os números naturais até n\n",
    "    soma=0\n",
    "    cont=0\n",
    "    numero=0\n",
    "    while cont<n:\n",
    "        cont=cont+1\n",
    "        numero=numero+1\n",
    "        soma=soma+numero\n",
    "    return soma"
   ]
  },
  {
   "cell_type": "code",
   "execution_count": 9,
   "metadata": {},
   "outputs": [],
   "source": [
    "def tri(n):\n",
    "    #Encontra o enésimo número triangular\n",
    "    ntri=soman(n)\n",
    "    return ntri"
   ]
  },
  {
   "cell_type": "code",
   "execution_count": 10,
   "metadata": {},
   "outputs": [
    {
     "data": {
      "text/plain": [
       "10"
      ]
     },
     "execution_count": 10,
     "metadata": {},
     "output_type": "execute_result"
    }
   ],
   "source": [
    "tri(4)"
   ]
  },
  {
   "cell_type": "code",
   "execution_count": 11,
   "metadata": {},
   "outputs": [],
   "source": [
    "def somatri(k):\n",
    "    #Soma os k primeiros números triangulares\n",
    "    soma=0\n",
    "    cont=0\n",
    "    while cont<k:\n",
    "        cont=cont+1\n",
    "        n=tri(cont)\n",
    "        soma=soma+n\n",
    "    return (soma)"
   ]
  },
  {
   "cell_type": "code",
   "execution_count": 12,
   "metadata": {},
   "outputs": [
    {
     "data": {
      "text/plain": [
       "167167000"
      ]
     },
     "execution_count": 12,
     "metadata": {},
     "output_type": "execute_result"
    }
   ],
   "source": [
    "somatri(1000)"
   ]
  },
  {
   "cell_type": "markdown",
   "metadata": {},
   "source": [
    "___\n",
    "\n",
    "## PARA CASA\n",
    "\n",
    "Pensar em otimizar esse código (`somatri(k)`), para evitar *loop* dentro de *loop*.\n",
    "\n",
    "___"
   ]
  },
  {
   "cell_type": "markdown",
   "metadata": {},
   "source": [
    "Tarefa a seguir:\n",
    "* Somar os algarismos de um número informado."
   ]
  },
  {
   "cell_type": "code",
   "execution_count": 13,
   "metadata": {},
   "outputs": [],
   "source": [
    "def somalg(n):\n",
    "    #Soma os algarismos de n\n",
    "    dig=n-10*(n//10)\n",
    "    soma=dig\n",
    "    while dig>0:\n",
    "        n=(n//10)\n",
    "        dig=n-10*(n//10)\n",
    "        soma=soma+dig\n",
    "    return soma\n",
    "    "
   ]
  },
  {
   "cell_type": "code",
   "execution_count": 14,
   "metadata": {},
   "outputs": [
    {
     "data": {
      "text/plain": [
       "6"
      ]
     },
     "execution_count": 14,
     "metadata": {},
     "output_type": "execute_result"
    }
   ],
   "source": [
    "somalg(123)"
   ]
  }
 ],
 "metadata": {
  "kernelspec": {
   "display_name": "Python 3",
   "language": "python",
   "name": "python3"
  },
  "language_info": {
   "codemirror_mode": {
    "name": "ipython",
    "version": 3
   },
   "file_extension": ".py",
   "mimetype": "text/x-python",
   "name": "python",
   "nbconvert_exporter": "python",
   "pygments_lexer": "ipython3",
   "version": "3.7.4"
  }
 },
 "nbformat": 4,
 "nbformat_minor": 2
}
