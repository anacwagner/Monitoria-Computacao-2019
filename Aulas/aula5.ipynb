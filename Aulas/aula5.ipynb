{
 "cells": [
  {
   "cell_type": "markdown",
   "metadata": {},
   "source": [
    "# Aula 5"
   ]
  },
  {
   "cell_type": "code",
   "execution_count": 1,
   "metadata": {},
   "outputs": [],
   "source": [
    "# Importando as bibliotecas\n",
    "from random import *\n",
    "from math import *"
   ]
  },
  {
   "cell_type": "markdown",
   "metadata": {},
   "source": [
    "**EXERCÍCÍO 1:** Criar uma função que simule um jogo de \"Par ou Ímpar\"."
   ]
  },
  {
   "cell_type": "code",
   "execution_count": 2,
   "metadata": {},
   "outputs": [],
   "source": [
    "def parimpar(dedos,escolha):\n",
    "    escolha=escolha.upper() # converte a escolha para letras maiúsculas\n",
    "    if escolha !=\"PAR\" and escolha !=\"IMPAR\": \n",
    "        print(\"A escolha deve ser PAR ou IMPAR\")\n",
    "    elif dedos>10 or dedos<1:\n",
    "        print(\"Coloque a quantidade de dedos correta!\")\n",
    "    else:\n",
    "        computador=randint(1,10)\n",
    "        print(\"Você jogou\",dedos,\"e o computador jogou\", computador)\n",
    "        soma=dedos+computador\n",
    "        if soma%2==0:\n",
    "            if escolha==\"PAR\":\n",
    "                print(\"Você ganhou!\")\n",
    "            else:\n",
    "                print(\"Você perdeu!\")\n",
    "        else:\n",
    "            if escolha==\"PAR\":\n",
    "                print(\"Você perdeu!\")\n",
    "            else:\n",
    "                print(\"Você ganhou!\")"
   ]
  },
  {
   "cell_type": "code",
   "execution_count": 3,
   "metadata": {},
   "outputs": [
    {
     "name": "stdout",
     "output_type": "stream",
     "text": [
      "Você jogou 5 e o computador jogou 7\n",
      "Você ganhou!\n"
     ]
    }
   ],
   "source": [
    "parimpar(5,\"par\")"
   ]
  },
  {
   "cell_type": "markdown",
   "metadata": {},
   "source": [
    "**EXERCÍCÍO 2:** Criar uma função para colocar 3 números em ordem crescente (isso ainda vai ficar mais legal...)."
   ]
  },
  {
   "cell_type": "code",
   "execution_count": 4,
   "metadata": {},
   "outputs": [],
   "source": [
    "def ordem(n1, n2, n3):\n",
    "    if n1>n2:\n",
    "        if n1>n3: #n1 é maior que os dois outros\n",
    "            terceiro=n1\n",
    "            if n2>n3: #n2 é segundo maior e n3 é o menor\n",
    "                segundo=n2\n",
    "                primeiro=n3\n",
    "            else: #n3 é segundo maior e n2 é o menor\n",
    "                segundo=n3\n",
    "                primeiro=n2\n",
    "        else: #n3 é o maior de todos\n",
    "            terceiro=n3\n",
    "            segundo=n1 #n1 é segundo maior e n2 é o menor\n",
    "            primeiro=n2\n",
    "    else:\n",
    "        if n2>n3: #n2 é o maior de todos\n",
    "            terceiro=n2\n",
    "            if n1>n3: #n1 é o segundo maior e n3 é o menor\n",
    "                segundo=n1\n",
    "                primeiro=n3\n",
    "            else: #n3 é o segundo maior e n1 é o menor\n",
    "                segundo=n3\n",
    "                primeiro=n1\n",
    "        else: #n3 é o maior de todos\n",
    "            terceiro=n3\n",
    "            segundo=n2 #n2 é segundo maior e n1 é o menor\n",
    "            primeiro=n1\n",
    "    return (primeiro, segundo, terceiro)\n",
    "            \n",
    "                "
   ]
  },
  {
   "cell_type": "code",
   "execution_count": 5,
   "metadata": {},
   "outputs": [
    {
     "data": {
      "text/plain": [
       "(1, 1, 10)"
      ]
     },
     "execution_count": 5,
     "metadata": {},
     "output_type": "execute_result"
    }
   ],
   "source": [
    "ordem(1, 10, 1)"
   ]
  },
  {
   "cell_type": "markdown",
   "metadata": {},
   "source": [
    "**EXERCÍCÍO 3:** Criar uma função para testar se três números podem ser lados de um triângulo.\n",
    "\n",
    "\n",
    "**Condição de existência de um triângulo (ou desigualdade traingular)**: para construirmos um triângulos é necessário que a medida de qualquer um dos lados seja menor que a soma das medidas dos outros dois e maior que o valor absoluto da diferença entre essas medidas.\n",
    "\n",
    "Dado um triângulo cujos lados são $a$, $b$ e $c$, esse triângulo somente existirá se:\n",
    "\n",
    "$$a + b < c$$\n",
    "$$a + c < b$$\n",
    "$$b + c < c$$\n",
    "\n",
    "Esse conjunto de inequações é conhecido como **desigualdade triangular**. "
   ]
  },
  {
   "cell_type": "code",
   "execution_count": 6,
   "metadata": {},
   "outputs": [],
   "source": [
    "def triangulo(a,b,c):\n",
    "    if a<b+c and b<a+c and c<a+b:\n",
    "        tri=True\n",
    "    else:\n",
    "        tri=False\n",
    "    return tri"
   ]
  },
  {
   "cell_type": "code",
   "execution_count": 7,
   "metadata": {},
   "outputs": [
    {
     "data": {
      "text/plain": [
       "True"
      ]
     },
     "execution_count": 7,
     "metadata": {},
     "output_type": "execute_result"
    }
   ],
   "source": [
    "triangulo(3,4,5)"
   ]
  },
  {
   "cell_type": "markdown",
   "metadata": {},
   "source": [
    "**EXERCÍCÍO 3:** Criar uma função para testar se três números podem ser lados de um **triângulo pitagórico**."
   ]
  },
  {
   "cell_type": "code",
   "execution_count": 8,
   "metadata": {},
   "outputs": [],
   "source": [
    "def pit(a,b,c):\n",
    "    if triangulo(a,b,c)==False:\n",
    "        saida=0\n",
    "    else:\n",
    "        if a**2==b**2+c**2 or b**2==c**2+a**2 or c**2==b**2+a**2:\n",
    "            saida=1\n",
    "        else: \n",
    "            saida = 0\n",
    "    return saida"
   ]
  },
  {
   "cell_type": "code",
   "execution_count": 9,
   "metadata": {},
   "outputs": [
    {
     "data": {
      "text/plain": [
       "1"
      ]
     },
     "execution_count": 9,
     "metadata": {},
     "output_type": "execute_result"
    }
   ],
   "source": [
    "pit(3,4,5)"
   ]
  }
 ],
 "metadata": {
  "kernelspec": {
   "display_name": "Python 3",
   "language": "python",
   "name": "python3"
  },
  "language_info": {
   "codemirror_mode": {
    "name": "ipython",
    "version": 3
   },
   "file_extension": ".py",
   "mimetype": "text/x-python",
   "name": "python",
   "nbconvert_exporter": "python",
   "pygments_lexer": "ipython3",
   "version": "3.7.4"
  }
 },
 "nbformat": 4,
 "nbformat_minor": 2
}
