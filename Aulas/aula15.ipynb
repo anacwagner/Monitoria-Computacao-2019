{
 "cells": [
  {
   "cell_type": "markdown",
   "metadata": {},
   "source": [
    "# Aula 15"
   ]
  },
  {
   "cell_type": "code",
   "execution_count": 1,
   "metadata": {},
   "outputs": [],
   "source": [
    "from math import *\n",
    "from random import *"
   ]
  },
  {
   "cell_type": "markdown",
   "metadata": {},
   "source": [
    "**EXERCÍCIO 1:** Os Babilônios utilizavam um algoritmo para aproximar uma raiz quadrada de um número qualquer. Dado um número $n$, para encontrar a raiz quadrada aproximada:\n",
    "\n",
    "(1) damos um chute inicial $z$ (um bom chute pode ser a metade do número $z=\\frac{n}{2}$);\n",
    "\n",
    "(2) se o erro da aproximação $e=|n-z^2|$ for menor do que a precisão desejada, encontramos a raiz; caso contrário, damos um novo chute $z$, tal que:\n",
    "$$z=\\frac{z+\\frac{n}{z}}{2}$$\n",
    "\n",
    "\n"
   ]
  },
  {
   "cell_type": "markdown",
   "metadata": {},
   "source": [
    "<img src=\"../Figuras/raiz_babilonica.png\" alt=\"drawing\" width=\"600\"/>"
   ]
  },
  {
   "cell_type": "code",
   "execution_count": 2,
   "metadata": {},
   "outputs": [],
   "source": [
    "def raiziterativa(n,casasdec):\n",
    "    z=n/2 #chute inicial\n",
    "    cont=0\n",
    "    while abs(n-z**2)>10**(-casasdec):\n",
    "        cont=cont+1\n",
    "        z=(z+n/z)/2\n",
    "    return z,cont"
   ]
  },
  {
   "cell_type": "code",
   "execution_count": 3,
   "metadata": {},
   "outputs": [
    {
     "data": {
      "text/plain": [
       "(3.1622776604441363, 4)"
      ]
     },
     "execution_count": 3,
     "metadata": {},
     "output_type": "execute_result"
    }
   ],
   "source": [
    "raiziterativa(10,5)"
   ]
  },
  {
   "cell_type": "markdown",
   "metadata": {},
   "source": [
    "**Sequência de Fibonacci**\n",
    "\n",
    "* $F(0)=1$ e $F(1)=1$\n",
    "\n",
    "\n",
    "* $F(n) = F(n − 1) + F(n − 2)$"
   ]
  },
  {
   "cell_type": "markdown",
   "metadata": {},
   "source": [
    "**EXERCÍCIO 2:** Gerar uma lista com todos os $n$ primeiro termos da sequência de Fibonacci, sem usar a recursividade. "
   ]
  },
  {
   "cell_type": "code",
   "execution_count": 4,
   "metadata": {},
   "outputs": [],
   "source": [
    "def fibo(n):\n",
    "    #Gera a sequência de Fibonacci, sem usar recursividade\n",
    "    #Retorna lista com os elementos da sequência\n",
    "    elementos=[0]\n",
    "    if n>=1:\n",
    "        elementos.append(1)\n",
    "        cont=1\n",
    "        while cont<n:\n",
    "            cont=cont+1\n",
    "            elementos.append(elementos[cont-1]+elementos[cont-2])\n",
    "    return elementos"
   ]
  },
  {
   "cell_type": "code",
   "execution_count": 5,
   "metadata": {},
   "outputs": [
    {
     "data": {
      "text/plain": [
       "[0, 1, 1, 2, 3, 5, 8]"
      ]
     },
     "execution_count": 5,
     "metadata": {},
     "output_type": "execute_result"
    }
   ],
   "source": [
    "fibo(6)"
   ]
  },
  {
   "cell_type": "markdown",
   "metadata": {},
   "source": [
    "**EXERCÍCIO 3:** Encontrar o $n$-ésimo termo da sequência de Fibonacci, sem usar a recursividade. "
   ]
  },
  {
   "cell_type": "code",
   "execution_count": 6,
   "metadata": {},
   "outputs": [],
   "source": [
    "def fibosemlista(n):\n",
    "    if n==1 or n==0:\n",
    "        return n\n",
    "    else:\n",
    "        a=0\n",
    "        b=1\n",
    "        cont=1\n",
    "        while cont<n:\n",
    "            cont=cont+1\n",
    "            c=a+b\n",
    "            a=b\n",
    "            b=c\n",
    "        return b"
   ]
  },
  {
   "cell_type": "code",
   "execution_count": 7,
   "metadata": {},
   "outputs": [
    {
     "data": {
      "text/plain": [
       "3"
      ]
     },
     "execution_count": 7,
     "metadata": {},
     "output_type": "execute_result"
    }
   ],
   "source": [
    "fibosemlista(4)"
   ]
  },
  {
   "cell_type": "markdown",
   "metadata": {},
   "source": [
    "Vamos retomar as funções criadas em aulas anteriores, mas em vez de calcularmos a quantidade (ou a soma), por exemplo, dos divisores de $n$, queremos listar todos eles. "
   ]
  },
  {
   "cell_type": "markdown",
   "metadata": {},
   "source": [
    "**EXERCÍCIO 4:** Gerar uma lista com todos os divisores de $n$."
   ]
  },
  {
   "cell_type": "code",
   "execution_count": 8,
   "metadata": {},
   "outputs": [],
   "source": [
    "def listadiv(n):\n",
    "    #lista dos divisores de n\n",
    "    lista_divisores = []\n",
    "    for i in range(1,n+1):\n",
    "        if n%i==0:\n",
    "            lista_divisores.append(i)\n",
    "    return lista_divisores"
   ]
  },
  {
   "cell_type": "code",
   "execution_count": 9,
   "metadata": {},
   "outputs": [
    {
     "data": {
      "text/plain": [
       "[1, 2, 4, 5, 10, 20, 25, 50, 100]"
      ]
     },
     "execution_count": 9,
     "metadata": {},
     "output_type": "execute_result"
    }
   ],
   "source": [
    "listadiv(100) "
   ]
  },
  {
   "cell_type": "markdown",
   "metadata": {},
   "source": [
    "**EXERCÍCIO 5:** Gerar uma lista com todos os primos existentes até $n$."
   ]
  },
  {
   "cell_type": "code",
   "execution_count": 10,
   "metadata": {},
   "outputs": [],
   "source": [
    "def listaprimos(n):\n",
    "    #lista os primos inferiores a n\n",
    "    lista_primos = []\n",
    "    for i in range(1,n+1):\n",
    "        if len(listadiv(i))==2: #podemos utilizar o tamanho da lista de divisores para testar se o número é primo\n",
    "            lista_primos.append(i)\n",
    "    return lista_primos"
   ]
  },
  {
   "cell_type": "code",
   "execution_count": 11,
   "metadata": {},
   "outputs": [
    {
     "name": "stdout",
     "output_type": "stream",
     "text": [
      "[2, 3, 5, 7, 11, 13, 17, 19, 23, 29, 31, 37, 41, 43, 47, 53, 59, 61, 67, 71, 73, 79, 83, 89, 97, 101, 103, 107, 109, 113, 127, 131, 137, 139, 149, 151, 157, 163, 167, 173, 179, 181, 191, 193, 197, 199, 211, 223, 227, 229, 233, 239, 241, 251, 257, 263, 269, 271, 277, 281, 283, 293, 307, 311, 313, 317, 331, 337, 347, 349, 353, 359, 367, 373, 379, 383, 389, 397, 401, 409, 419, 421, 431, 433, 439, 443, 449, 457, 461, 463, 467, 479, 487, 491, 499, 503, 509, 521, 523, 541, 547, 557, 563, 569, 571, 577, 587, 593, 599, 601, 607, 613, 617, 619, 631, 641, 643, 647, 653, 659, 661, 673, 677, 683, 691, 701, 709, 719, 727, 733, 739, 743, 751, 757, 761, 769, 773, 787, 797, 809, 811, 821, 823, 827, 829, 839, 853, 857, 859, 863, 877, 881, 883, 887, 907, 911, 919, 929, 937, 941, 947, 953, 967, 971, 977, 983, 991, 997]\n"
     ]
    }
   ],
   "source": [
    "print(listaprimos(1000))"
   ]
  },
  {
   "cell_type": "markdown",
   "metadata": {},
   "source": [
    "**EXERCÍCIO 6:** Gerar três listas: números perfeiros, abundantes e deficientes."
   ]
  },
  {
   "cell_type": "code",
   "execution_count": 12,
   "metadata": {},
   "outputs": [],
   "source": [
    "def listanumeros(n):\n",
    "    #retorna 3 listas: números perfeitos, abundantes e deficientes\n",
    "    perfeitos=[]\n",
    "    abundantes=[]\n",
    "    deficientes=[]\n",
    "    for numero in range (1,n+1):\n",
    "        s=sum(listadiv(numero))-numero\n",
    "        if numero==s:\n",
    "            perfeitos.append(numero)\n",
    "        elif numero<s:\n",
    "            abundantes.append(numero)\n",
    "        else:\n",
    "            deficientes.append(numero)\n",
    "    return (perfeitos,abundantes,deficientes)"
   ]
  },
  {
   "cell_type": "code",
   "execution_count": 13,
   "metadata": {},
   "outputs": [],
   "source": [
    "n = 100\n",
    "#listanumeros(100)\n",
    "perfeitos,abundantes,deficientes = listanumeros(n)"
   ]
  },
  {
   "cell_type": "code",
   "execution_count": 14,
   "metadata": {},
   "outputs": [
    {
     "name": "stdout",
     "output_type": "stream",
     "text": [
      "Até 100 temos 2 Números Perfeitos:\n",
      "[6, 28]\n"
     ]
    }
   ],
   "source": [
    "print('Até',n, 'temos', len(perfeitos), 'Números Perfeitos:')\n",
    "print(perfeitos)"
   ]
  },
  {
   "cell_type": "code",
   "execution_count": 15,
   "metadata": {},
   "outputs": [
    {
     "name": "stdout",
     "output_type": "stream",
     "text": [
      "Até 100 temos 22 Números Abundantes:\n",
      "[12, 18, 20, 24, 30, 36, 40, 42, 48, 54, 56, 60, 66, 70, 72, 78, 80, 84, 88, 90, 96, 100]\n"
     ]
    }
   ],
   "source": [
    "print('Até',n, 'temos', len(abundantes), 'Números Abundantes:')\n",
    "print(abundantes)"
   ]
  },
  {
   "cell_type": "code",
   "execution_count": 16,
   "metadata": {},
   "outputs": [
    {
     "name": "stdout",
     "output_type": "stream",
     "text": [
      "Até 100 temos 76 Números Deficientes:\n",
      "[1, 2, 3, 4, 5, 7, 8, 9, 10, 11, 13, 14, 15, 16, 17, 19, 21, 22, 23, 25, 26, 27, 29, 31, 32, 33, 34, 35, 37, 38, 39, 41, 43, 44, 45, 46, 47, 49, 50, 51, 52, 53, 55, 57, 58, 59, 61, 62, 63, 64, 65, 67, 68, 69, 71, 73, 74, 75, 76, 77, 79, 81, 82, 83, 85, 86, 87, 89, 91, 92, 93, 94, 95, 97, 98, 99]\n"
     ]
    }
   ],
   "source": [
    "print('Até',n, 'temos', len(deficientes), 'Números Deficientes:')\n",
    "print(deficientes)"
   ]
  }
 ],
 "metadata": {
  "kernelspec": {
   "display_name": "Python 3",
   "language": "python",
   "name": "python3"
  },
  "language_info": {
   "codemirror_mode": {
    "name": "ipython",
    "version": 3
   },
   "file_extension": ".py",
   "mimetype": "text/x-python",
   "name": "python",
   "nbconvert_exporter": "python",
   "pygments_lexer": "ipython3",
   "version": "3.7.0"
  }
 },
 "nbformat": 4,
 "nbformat_minor": 2
}
