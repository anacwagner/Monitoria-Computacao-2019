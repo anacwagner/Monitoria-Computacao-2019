{
 "cells": [
  {
   "cell_type": "markdown",
   "metadata": {},
   "source": [
    "# Aula 2"
   ]
  },
  {
   "cell_type": "code",
   "execution_count": 1,
   "metadata": {},
   "outputs": [],
   "source": [
    "a=1\n",
    "b=5"
   ]
  },
  {
   "cell_type": "code",
   "execution_count": 2,
   "metadata": {},
   "outputs": [],
   "source": [
    "c=a+b"
   ]
  },
  {
   "cell_type": "code",
   "execution_count": 3,
   "metadata": {
    "scrolled": true
   },
   "outputs": [
    {
     "name": "stdout",
     "output_type": "stream",
     "text": [
      "6\n"
     ]
    }
   ],
   "source": [
    "print(c)"
   ]
  },
  {
   "cell_type": "markdown",
   "metadata": {},
   "source": [
    "## Estrutura de um programa \n",
    "\n",
    "**Função** é um bloco de programa (trechos de códigos) identificada por um nome (segue as mesmas regras de criação do nome de uma variável). \n",
    "\n",
    "Uma função é definida por meio da palavra **def**, seguida pelo seu nome, um par de parênteses (que pode estar vazio, ou conter alguns **parâmetros**), dois pontos (:) e o bloco de comandos a serem executados. \n",
    "\n",
    "Toda vez que queremos executar uma função, fazemos referência ao seu nome seguido dos parênteses, que deverá conter todas as informações necessárias para executar os códigos contidos nela. \n",
    "\n",
    "As funções, não possuem **delimitadores** que indicam explicitamente o seu início e fim. Então, como sabemos onde termina uma função? \n",
    "\n",
    "   * A **indentação** é muito importante para o Python, exercendo um papel que vai muito além do visual para facilitar a leitura do código. \n",
    "   \n",
    "   \n",
    "   * Os únicos delimitadores são os dois pontos (:) e a própria indentação. "
   ]
  },
  {
   "cell_type": "code",
   "execution_count": 4,
   "metadata": {},
   "outputs": [
    {
     "name": "stdout",
     "output_type": "stream",
     "text": [
      "Vamos começar a programar?\n"
     ]
    }
   ],
   "source": [
    "def main():\n",
    "    # início da indentação = início da função\n",
    "    # comandos a serem executados na ordem em que estão escritos\n",
    "    print(\"Vamos começar a programar?\")\n",
    "    \n",
    "# fim da indentação = fim da função\n",
    "\n",
    "main() # para executar a função"
   ]
  },
  {
   "cell_type": "code",
   "execution_count": 5,
   "metadata": {},
   "outputs": [],
   "source": [
    "def ola():\n",
    "    print(\"Oi, meu amiguinho!\")"
   ]
  },
  {
   "cell_type": "code",
   "execution_count": 6,
   "metadata": {},
   "outputs": [
    {
     "name": "stdout",
     "output_type": "stream",
     "text": [
      "Oi, meu amiguinho!\n"
     ]
    }
   ],
   "source": [
    "ola()"
   ]
  },
  {
   "cell_type": "code",
   "execution_count": 7,
   "metadata": {},
   "outputs": [],
   "source": [
    "def ola2(nome):\n",
    "    print(\"Oi, \"+ nome+\"!\")"
   ]
  },
  {
   "cell_type": "code",
   "execution_count": 8,
   "metadata": {},
   "outputs": [],
   "source": [
    "var=\"Carol\""
   ]
  },
  {
   "cell_type": "code",
   "execution_count": 9,
   "metadata": {},
   "outputs": [
    {
     "name": "stdout",
     "output_type": "stream",
     "text": [
      "Oi, Carol!\n"
     ]
    }
   ],
   "source": [
    "ola2(var)"
   ]
  },
  {
   "cell_type": "code",
   "execution_count": 10,
   "metadata": {},
   "outputs": [
    {
     "name": "stdout",
     "output_type": "stream",
     "text": [
      "Carol\n"
     ]
    }
   ],
   "source": [
    "print(var)"
   ]
  },
  {
   "cell_type": "code",
   "execution_count": 11,
   "metadata": {},
   "outputs": [],
   "source": [
    "def ola3(nome2,nome1):\n",
    "    print(\"Oi, \"+nome1+\" e \"+nome2+\"!\")"
   ]
  },
  {
   "cell_type": "code",
   "execution_count": 12,
   "metadata": {},
   "outputs": [
    {
     "name": "stdout",
     "output_type": "stream",
     "text": [
      "Oi, Carol e Walter!\n"
     ]
    }
   ],
   "source": [
    "ola3(\"Walter\",\"Carol\")"
   ]
  },
  {
   "cell_type": "code",
   "execution_count": 13,
   "metadata": {},
   "outputs": [],
   "source": [
    "def ola4():\n",
    "    nome1=input(\"Primeiro nome: \")\n",
    "    nome2=input(\"Segundo nome: \")\n",
    "    print(\"Oi, \"+nome1+\" e \"+nome2+\"!\")"
   ]
  },
  {
   "cell_type": "markdown",
   "metadata": {},
   "source": [
    "A função ``input()`` é usada quando queremos receber os dados ou valores fornecidos pelo usuário através do teclado. "
   ]
  },
  {
   "cell_type": "code",
   "execution_count": 14,
   "metadata": {
    "scrolled": true
   },
   "outputs": [
    {
     "name": "stdout",
     "output_type": "stream",
     "text": [
      "Primeiro nome: Carol\n",
      "Segundo nome: Walter\n",
      "Oi, Carol e Walter!\n"
     ]
    }
   ],
   "source": [
    "ola4()"
   ]
  },
  {
   "cell_type": "code",
   "execution_count": 15,
   "metadata": {},
   "outputs": [],
   "source": [
    "teste1=100\n",
    "teste2=200"
   ]
  },
  {
   "cell_type": "code",
   "execution_count": 16,
   "metadata": {},
   "outputs": [],
   "source": [
    "def testavariaveis(a,b):\n",
    "    teste5=a*b"
   ]
  },
  {
   "cell_type": "code",
   "execution_count": 17,
   "metadata": {},
   "outputs": [],
   "source": [
    "testavariaveis(50,3)"
   ]
  },
  {
   "cell_type": "code",
   "execution_count": 18,
   "metadata": {},
   "outputs": [
    {
     "name": "stdout",
     "output_type": "stream",
     "text": [
      "1\n",
      "5\n",
      "6\n",
      "Carol\n",
      "100\n",
      "200\n"
     ]
    },
    {
     "ename": "NameError",
     "evalue": "name 'teste5' is not defined",
     "output_type": "error",
     "traceback": [
      "\u001b[1;31m---------------------------------------------------------------------------\u001b[0m",
      "\u001b[1;31mNameError\u001b[0m                                 Traceback (most recent call last)",
      "\u001b[1;32m<ipython-input-18-bbb55da62d4c>\u001b[0m in \u001b[0;36m<module>\u001b[1;34m()\u001b[0m\n\u001b[0;32m      6\u001b[0m \u001b[0mprint\u001b[0m\u001b[1;33m(\u001b[0m\u001b[0mteste1\u001b[0m\u001b[1;33m)\u001b[0m\u001b[1;33m\u001b[0m\u001b[0m\n\u001b[0;32m      7\u001b[0m \u001b[0mprint\u001b[0m\u001b[1;33m(\u001b[0m\u001b[0mteste2\u001b[0m\u001b[1;33m)\u001b[0m\u001b[1;33m\u001b[0m\u001b[0m\n\u001b[1;32m----> 8\u001b[1;33m \u001b[0mprint\u001b[0m\u001b[1;33m(\u001b[0m\u001b[0mteste5\u001b[0m\u001b[1;33m)\u001b[0m\u001b[1;33m\u001b[0m\u001b[0m\n\u001b[0m",
      "\u001b[1;31mNameError\u001b[0m: name 'teste5' is not defined"
     ]
    }
   ],
   "source": [
    "print(a)\n",
    "print(b)\n",
    "print(c)\n",
    "print(var)\n",
    "testavariaveis(50,3)\n",
    "print(teste1)\n",
    "print(teste2)\n",
    "print(teste5)"
   ]
  },
  {
   "cell_type": "markdown",
   "metadata": {},
   "source": [
    "**Obs:** A variável ``teste5`` tem escopo local, então ela só existe durante a execução do código da função ``testavariaveis``."
   ]
  },
  {
   "cell_type": "code",
   "execution_count": 19,
   "metadata": {},
   "outputs": [],
   "source": [
    "def usaglobal(v1,v2):\n",
    "    global teste1\n",
    "    teste1=teste1+v1\n",
    "    x=v1+v2*teste1\n",
    "    return x"
   ]
  },
  {
   "cell_type": "code",
   "execution_count": 20,
   "metadata": {},
   "outputs": [],
   "source": [
    "saida=usaglobal(10,20)"
   ]
  },
  {
   "cell_type": "code",
   "execution_count": 21,
   "metadata": {},
   "outputs": [
    {
     "data": {
      "text/plain": [
       "2210"
      ]
     },
     "execution_count": 21,
     "metadata": {},
     "output_type": "execute_result"
    }
   ],
   "source": [
    "saida"
   ]
  },
  {
   "cell_type": "code",
   "execution_count": 22,
   "metadata": {},
   "outputs": [
    {
     "data": {
      "text/plain": [
       "110"
      ]
     },
     "execution_count": 22,
     "metadata": {},
     "output_type": "execute_result"
    }
   ],
   "source": [
    "teste1"
   ]
  }
 ],
 "metadata": {
  "kernelspec": {
   "display_name": "Python 3",
   "language": "python",
   "name": "python3"
  },
  "language_info": {
   "codemirror_mode": {
    "name": "ipython",
    "version": 3
   },
   "file_extension": ".py",
   "mimetype": "text/x-python",
   "name": "python",
   "nbconvert_exporter": "python",
   "pygments_lexer": "ipython3",
   "version": "3.7.0"
  }
 },
 "nbformat": 4,
 "nbformat_minor": 2
}
