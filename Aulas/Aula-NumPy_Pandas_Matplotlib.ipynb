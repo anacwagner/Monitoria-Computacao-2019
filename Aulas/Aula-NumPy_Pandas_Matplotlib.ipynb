{
 "cells": [
  {
   "cell_type": "markdown",
   "metadata": {},
   "source": [
    "# NumPy, Pandas e Matplotlib\n",
    "\n",
    "* https://numpy.org/devdocs/user/quickstart.html\n",
    "\n",
    "* https://pandas.pydata.org\n",
    "\n",
    "* https://matplotlib.org/index.html"
   ]
  },
  {
   "cell_type": "markdown",
   "metadata": {},
   "source": [
    "## 1. NumPy (continuação)\n",
    "\n",
    "### Tipo Array *versus* Tipo Matriz\n",
    "\n",
    "Na aula passada, definimos matrizes como um array (**ndarray**) de duas dimensões. Mas existe no NumPy, um tipo **matrix** para trabalharmos diretamente com matrizes. Apesar de representarem a mesma coisa, são de tipos diferentes e portanto, algumas operações aplicadas sobre elas apresentam resultados diferentes. "
   ]
  },
  {
   "cell_type": "code",
   "execution_count": 1,
   "metadata": {},
   "outputs": [],
   "source": [
    "import numpy as np # para instalar no próprio notebook -> !pip install numpy "
   ]
  },
  {
   "cell_type": "code",
   "execution_count": 2,
   "metadata": {},
   "outputs": [],
   "source": [
    "a = np.array([[1,2],[3,4]])\n",
    "b = np.array([[1,9],[7,5]])"
   ]
  },
  {
   "cell_type": "code",
   "execution_count": 3,
   "metadata": {},
   "outputs": [
    {
     "data": {
      "text/plain": [
       "array([[1, 2],\n",
       "       [3, 4]])"
      ]
     },
     "execution_count": 3,
     "metadata": {},
     "output_type": "execute_result"
    }
   ],
   "source": [
    "a"
   ]
  },
  {
   "cell_type": "code",
   "execution_count": 4,
   "metadata": {},
   "outputs": [
    {
     "data": {
      "text/plain": [
       "array([[1, 9],\n",
       "       [7, 5]])"
      ]
     },
     "execution_count": 4,
     "metadata": {},
     "output_type": "execute_result"
    }
   ],
   "source": [
    "b"
   ]
  },
  {
   "cell_type": "code",
   "execution_count": 5,
   "metadata": {},
   "outputs": [
    {
     "data": {
      "text/plain": [
       "array([[ 1, 18],\n",
       "       [21, 20]])"
      ]
     },
     "execution_count": 5,
     "metadata": {},
     "output_type": "execute_result"
    }
   ],
   "source": [
    "a*b"
   ]
  },
  {
   "cell_type": "code",
   "execution_count": 6,
   "metadata": {},
   "outputs": [
    {
     "data": {
      "text/plain": [
       "array([[15, 19],\n",
       "       [31, 47]])"
      ]
     },
     "execution_count": 6,
     "metadata": {},
     "output_type": "execute_result"
    }
   ],
   "source": [
    "# a.dot(b) ou np.dot(a,b): calcula a multiplicação entre as matrizes a e b\n",
    "np.dot(a,b)"
   ]
  },
  {
   "cell_type": "code",
   "execution_count": 7,
   "metadata": {},
   "outputs": [],
   "source": [
    "A = np.matrix(a)\n",
    "B = np.matrix(b)"
   ]
  },
  {
   "cell_type": "code",
   "execution_count": 8,
   "metadata": {},
   "outputs": [
    {
     "data": {
      "text/plain": [
       "matrix([[1, 2],\n",
       "        [3, 4]])"
      ]
     },
     "execution_count": 8,
     "metadata": {},
     "output_type": "execute_result"
    }
   ],
   "source": [
    "A"
   ]
  },
  {
   "cell_type": "code",
   "execution_count": 9,
   "metadata": {},
   "outputs": [
    {
     "data": {
      "text/plain": [
       "matrix([[1, 9],\n",
       "        [7, 5]])"
      ]
     },
     "execution_count": 9,
     "metadata": {},
     "output_type": "execute_result"
    }
   ],
   "source": [
    "B"
   ]
  },
  {
   "cell_type": "markdown",
   "metadata": {},
   "source": [
    "* Como são do tipo **matrix**, a multiplicação comum (usando o asterisco) realiza a multiplicação entre as matrizes. Ou seja, resulta no mesmo valor que `np.dot(A,B)`."
   ]
  },
  {
   "cell_type": "code",
   "execution_count": 10,
   "metadata": {},
   "outputs": [
    {
     "data": {
      "text/plain": [
       "matrix([[15, 19],\n",
       "        [31, 47]])"
      ]
     },
     "execution_count": 10,
     "metadata": {},
     "output_type": "execute_result"
    }
   ],
   "source": [
    "A*B "
   ]
  },
  {
   "cell_type": "code",
   "execution_count": 11,
   "metadata": {},
   "outputs": [
    {
     "data": {
      "text/plain": [
       "matrix([[15, 19],\n",
       "        [31, 47]])"
      ]
     },
     "execution_count": 11,
     "metadata": {},
     "output_type": "execute_result"
    }
   ],
   "source": [
    "np.dot(A,B)"
   ]
  },
  {
   "cell_type": "code",
   "execution_count": 12,
   "metadata": {},
   "outputs": [
    {
     "name": "stdout",
     "output_type": "stream",
     "text": [
      "<class 'numpy.ndarray'>\n",
      "<class 'numpy.matrix'>\n",
      "<class 'numpy.ndarray'>\n",
      "<class 'numpy.matrix'>\n",
      "<class 'numpy.matrix'>\n"
     ]
    }
   ],
   "source": [
    "print(type(a))\n",
    "print(type(A))\n",
    "print(type(a*b))\n",
    "print(type(A*B))\n",
    "print(type(a*B)) # prevalece o tipo matrix "
   ]
  },
  {
   "cell_type": "markdown",
   "metadata": {},
   "source": [
    "* A Transposição de vetores do tipo **array** (unidimensionais) deve ser feita usando `.reshape()`. Matrizes do tipo array realizam a transpoição usando o método `.T`. Para o tipo **matrix**, o método `.T` realiza ambas transposições."
   ]
  },
  {
   "cell_type": "code",
   "execution_count": 13,
   "metadata": {},
   "outputs": [
    {
     "name": "stdout",
     "output_type": "stream",
     "text": [
      "[1. 1. 1. 1.]\n",
      "(4,) \n",
      "\n",
      "[1. 1. 1. 1.]\n",
      "(4,) \n",
      "\n"
     ]
    }
   ],
   "source": [
    "c = np.ones(4)\n",
    "print(c)\n",
    "print(c.shape,'\\n')\n",
    "print(c.T)\n",
    "print(c.T.shape,'\\n')"
   ]
  },
  {
   "cell_type": "code",
   "execution_count": 14,
   "metadata": {},
   "outputs": [
    {
     "name": "stdout",
     "output_type": "stream",
     "text": [
      "[[1.]\n",
      " [1.]\n",
      " [1.]\n",
      " [1.]]\n"
     ]
    },
    {
     "data": {
      "text/plain": [
       "(4, 1)"
      ]
     },
     "execution_count": 14,
     "metadata": {},
     "output_type": "execute_result"
    }
   ],
   "source": [
    "print(c.reshape(len(c),1))\n",
    "c.reshape(len(c),1).shape"
   ]
  },
  {
   "cell_type": "code",
   "execution_count": 15,
   "metadata": {},
   "outputs": [
    {
     "name": "stdout",
     "output_type": "stream",
     "text": [
      "[[1. 1. 1. 1.]]\n",
      "(1, 4) \n",
      "\n",
      "[[1.]\n",
      " [1.]\n",
      " [1.]\n",
      " [1.]]\n",
      "(4, 1) \n",
      "\n"
     ]
    }
   ],
   "source": [
    "C = np.matrix(np.ones(4))\n",
    "print(C)\n",
    "print(C.shape,'\\n')\n",
    "print(C.T)\n",
    "print(C.T.shape,'\\n')"
   ]
  },
  {
   "cell_type": "code",
   "execution_count": 16,
   "metadata": {},
   "outputs": [
    {
     "name": "stdout",
     "output_type": "stream",
     "text": [
      "[[1.]\n",
      " [1.]\n",
      " [1.]\n",
      " [1.]]\n"
     ]
    },
    {
     "data": {
      "text/plain": [
       "(4, 1)"
      ]
     },
     "execution_count": 16,
     "metadata": {},
     "output_type": "execute_result"
    }
   ],
   "source": [
    "print(np.array([np.ones(4)]).T)\n",
    "np.array([np.ones(4)]).T.shape"
   ]
  },
  {
   "cell_type": "code",
   "execution_count": 17,
   "metadata": {},
   "outputs": [
    {
     "data": {
      "text/plain": [
       "array([[1, 3],\n",
       "       [2, 4]])"
      ]
     },
     "execution_count": 17,
     "metadata": {},
     "output_type": "execute_result"
    }
   ],
   "source": [
    "a.T"
   ]
  },
  {
   "cell_type": "code",
   "execution_count": 18,
   "metadata": {},
   "outputs": [
    {
     "data": {
      "text/plain": [
       "matrix([[1, 3],\n",
       "        [2, 4]])"
      ]
     },
     "execution_count": 18,
     "metadata": {},
     "output_type": "execute_result"
    }
   ],
   "source": [
    "A.T"
   ]
  },
  {
   "cell_type": "markdown",
   "metadata": {},
   "source": [
    "### Criando Matrizes"
   ]
  },
  {
   "cell_type": "markdown",
   "metadata": {},
   "source": [
    "Podemos criar uma matriz a partir de todas as técnicas apresentadas na aula anterior para matriz do tipo array de 2 dimensões. \n",
    "\n",
    "Os vetores criados a partir do tipo **ndarray** são unidimensionais. No entanto, os vetores criados a partir da função `np.matrix()` gera um tipo **matrix** bidimensional.  Vamos ver isso?"
   ]
  },
  {
   "cell_type": "code",
   "execution_count": 19,
   "metadata": {},
   "outputs": [
    {
     "data": {
      "text/plain": [
       "matrix([[0., 0., 0.],\n",
       "        [0., 0., 0.],\n",
       "        [0., 0., 0.]])"
      ]
     },
     "execution_count": 19,
     "metadata": {},
     "output_type": "execute_result"
    }
   ],
   "source": [
    "M = np.matrix(np.zeros((3,3)))\n",
    "M"
   ]
  },
  {
   "cell_type": "code",
   "execution_count": 20,
   "metadata": {},
   "outputs": [
    {
     "data": {
      "text/plain": [
       "matrix([[10., 10., 10.]])"
      ]
     },
     "execution_count": 20,
     "metadata": {},
     "output_type": "execute_result"
    }
   ],
   "source": [
    "L = np.matrix(np.ones(3)*10) # automaticamente transforma em um vetor linha\n",
    "L"
   ]
  },
  {
   "cell_type": "code",
   "execution_count": 21,
   "metadata": {},
   "outputs": [
    {
     "data": {
      "text/plain": [
       "matrix([[1],\n",
       "        [2],\n",
       "        [3]])"
      ]
     },
     "execution_count": 21,
     "metadata": {},
     "output_type": "execute_result"
    }
   ],
   "source": [
    "C = np.matrix(np.arange(1,4)) \n",
    "C = C.reshape(3,1) # vetor coluna\n",
    "C"
   ]
  },
  {
   "cell_type": "code",
   "execution_count": 22,
   "metadata": {},
   "outputs": [
    {
     "name": "stdout",
     "output_type": "stream",
     "text": [
      "Dimensão da matriz M: 2\n",
      "Shape da matriz M: (3, 3)\n",
      "\n",
      "Dimensão do vetor linha: 2\n",
      "Shape do vetor linha: (1, 3)\n",
      "\n",
      "Dimensão do vetor coluna: 2\n",
      "Shape do vetor coluna: (3, 1)\n"
     ]
    }
   ],
   "source": [
    "print('Dimensão da matriz M:', M.ndim)\n",
    "print('Shape da matriz M:', M.shape)\n",
    "print()\n",
    "print('Dimensão do vetor linha:', L.ndim)\n",
    "print('Shape do vetor linha:', L.shape)\n",
    "print()\n",
    "print('Dimensão do vetor coluna:', C.ndim)\n",
    "print('Shape do vetor coluna:', C.shape)"
   ]
  },
  {
   "cell_type": "markdown",
   "metadata": {},
   "source": [
    "Comparando um \"vetor\" gerado a partir do tipo *array* com outro gerado a partir do tipo *matrix*. "
   ]
  },
  {
   "cell_type": "code",
   "execution_count": 23,
   "metadata": {},
   "outputs": [
    {
     "data": {
      "text/plain": [
       "array([10., 10., 10.])"
      ]
     },
     "execution_count": 23,
     "metadata": {},
     "output_type": "execute_result"
    }
   ],
   "source": [
    "l = np.ones(3)*10\n",
    "l"
   ]
  },
  {
   "cell_type": "code",
   "execution_count": 24,
   "metadata": {},
   "outputs": [
    {
     "data": {
      "text/plain": [
       "matrix([[10., 10., 10.]])"
      ]
     },
     "execution_count": 24,
     "metadata": {},
     "output_type": "execute_result"
    }
   ],
   "source": [
    "L = np.matrix(L)\n",
    "L"
   ]
  },
  {
   "cell_type": "code",
   "execution_count": 25,
   "metadata": {},
   "outputs": [
    {
     "name": "stdout",
     "output_type": "stream",
     "text": [
      "1\n",
      "2\n",
      "(3,)\n",
      "(1, 3)\n"
     ]
    }
   ],
   "source": [
    "print(l.ndim) # unidimensional\n",
    "print(L.ndim) # bidimensional\n",
    "print(l.shape) # vetor com uma linha formado por 3 elementos\n",
    "print(L.shape) # vetor linha (1 linha, 3 colunas)"
   ]
  },
  {
   "cell_type": "markdown",
   "metadata": {},
   "source": [
    "### Indexação Booleana"
   ]
  },
  {
   "cell_type": "code",
   "execution_count": 26,
   "metadata": {},
   "outputs": [
    {
     "data": {
      "text/plain": [
       "array(['Ana', 'Carol', 'Walter', 'Carol', 'Ana', 'Hugo', 'Hugo'],\n",
       "      dtype='<U6')"
      ]
     },
     "execution_count": 26,
     "metadata": {},
     "output_type": "execute_result"
    }
   ],
   "source": [
    "nomes = np.array(['Ana', 'Carol', 'Walter', 'Carol', 'Ana', 'Hugo', 'Hugo'])\n",
    "nomes"
   ]
  },
  {
   "cell_type": "code",
   "execution_count": 27,
   "metadata": {},
   "outputs": [
    {
     "data": {
      "text/plain": [
       "array([False,  True, False,  True, False, False, False])"
      ]
     },
     "execution_count": 27,
     "metadata": {},
     "output_type": "execute_result"
    }
   ],
   "source": [
    "nomes == 'Carol'"
   ]
  },
  {
   "cell_type": "code",
   "execution_count": 28,
   "metadata": {},
   "outputs": [
    {
     "data": {
      "text/plain": [
       "array([[0.72815471, 0.16196767, 0.31073849, 0.41071034],\n",
       "       [0.07260263, 0.89965016, 0.44813071, 0.92360615],\n",
       "       [0.07715185, 0.17471916, 0.4695629 , 0.70673026],\n",
       "       [0.81704823, 0.44960615, 0.56335088, 0.87478004],\n",
       "       [0.39135267, 0.98508722, 0.76005824, 0.95934336],\n",
       "       [0.60934146, 0.87182981, 0.11121616, 0.13691987],\n",
       "       [0.57488523, 0.83615981, 0.28523946, 0.39634436]])"
      ]
     },
     "execution_count": 28,
     "metadata": {},
     "output_type": "execute_result"
    }
   ],
   "source": [
    "dados = np.array(np.random.random((7, 4)))\n",
    "dados"
   ]
  },
  {
   "cell_type": "markdown",
   "metadata": {},
   "source": [
    "**Obs.:** O array booleano deve ter o mesmo comprimento que o eixo do array que está indexando!"
   ]
  },
  {
   "cell_type": "code",
   "execution_count": 29,
   "metadata": {},
   "outputs": [
    {
     "data": {
      "text/plain": [
       "array([[0.07260263, 0.89965016, 0.44813071, 0.92360615],\n",
       "       [0.81704823, 0.44960615, 0.56335088, 0.87478004]])"
      ]
     },
     "execution_count": 29,
     "metadata": {},
     "output_type": "execute_result"
    }
   ],
   "source": [
    "dados[nomes == 'Carol',:]"
   ]
  },
  {
   "cell_type": "code",
   "execution_count": 30,
   "metadata": {},
   "outputs": [
    {
     "data": {
      "text/plain": [
       "array([0.89965016, 0.44960615])"
      ]
     },
     "execution_count": 30,
     "metadata": {},
     "output_type": "execute_result"
    }
   ],
   "source": [
    "dados[nomes == 'Carol',1]"
   ]
  },
  {
   "cell_type": "code",
   "execution_count": 31,
   "metadata": {},
   "outputs": [
    {
     "data": {
      "text/plain": [
       "array([[0.72815471, 0.16196767, 0.31073849, 0.41071034],\n",
       "       [0.07715185, 0.17471916, 0.4695629 , 0.70673026],\n",
       "       [0.39135267, 0.98508722, 0.76005824, 0.95934336],\n",
       "       [0.60934146, 0.87182981, 0.11121616, 0.13691987],\n",
       "       [0.57488523, 0.83615981, 0.28523946, 0.39634436]])"
      ]
     },
     "execution_count": 31,
     "metadata": {},
     "output_type": "execute_result"
    }
   ],
   "source": [
    "dados[nomes != 'Carol',:] # dados[~(nomes == 'Carol'),:]"
   ]
  },
  {
   "cell_type": "code",
   "execution_count": 32,
   "metadata": {},
   "outputs": [
    {
     "data": {
      "text/plain": [
       "array([[0.07260263, 0.89965016, 0.44813071, 0.92360615],\n",
       "       [0.07715185, 0.17471916, 0.4695629 , 0.70673026],\n",
       "       [0.81704823, 0.44960615, 0.56335088, 0.87478004]])"
      ]
     },
     "execution_count": 32,
     "metadata": {},
     "output_type": "execute_result"
    }
   ],
   "source": [
    "dados[(nomes == 'Carol') | (nomes == 'Walter'),:] # & (and),  | (or)"
   ]
  },
  {
   "cell_type": "code",
   "execution_count": 33,
   "metadata": {},
   "outputs": [
    {
     "data": {
      "text/plain": [
       "array([0.16196767, 0.31073849, 0.41071034, 0.07260263, 0.44813071,\n",
       "       0.07715185, 0.17471916, 0.4695629 , 0.44960615, 0.39135267,\n",
       "       0.11121616, 0.13691987, 0.28523946, 0.39634436])"
      ]
     },
     "execution_count": 33,
     "metadata": {},
     "output_type": "execute_result"
    }
   ],
   "source": [
    "dados[dados<0.5]"
   ]
  },
  {
   "cell_type": "code",
   "execution_count": 34,
   "metadata": {},
   "outputs": [
    {
     "data": {
      "text/plain": [
       "array([[0.72815471, 0.16196767, 0.31073849, 0.41071034],\n",
       "       [0.07715185, 0.17471916, 0.4695629 , 0.70673026],\n",
       "       [0.81704823, 0.44960615, 0.56335088, 0.87478004]])"
      ]
     },
     "execution_count": 34,
     "metadata": {},
     "output_type": "execute_result"
    }
   ],
   "source": [
    "dados[dados[:,1]<0.5]"
   ]
  },
  {
   "cell_type": "code",
   "execution_count": 35,
   "metadata": {},
   "outputs": [
    {
     "data": {
      "text/plain": [
       "array([ 1.,  2.,  3., nan, nan,  4.])"
      ]
     },
     "execution_count": 35,
     "metadata": {},
     "output_type": "execute_result"
    }
   ],
   "source": [
    "arr = np.array([1, 2, 3, np.nan, np.nan, 4])\n",
    "arr"
   ]
  },
  {
   "cell_type": "code",
   "execution_count": 36,
   "metadata": {},
   "outputs": [
    {
     "data": {
      "text/plain": [
       "(3, 4)"
      ]
     },
     "execution_count": 36,
     "metadata": {},
     "output_type": "execute_result"
    }
   ],
   "source": [
    "dados[dados[:,1]<0.5].shape"
   ]
  },
  {
   "cell_type": "code",
   "execution_count": 37,
   "metadata": {},
   "outputs": [
    {
     "data": {
      "text/plain": [
       "nan"
      ]
     },
     "execution_count": 37,
     "metadata": {},
     "output_type": "execute_result"
    }
   ],
   "source": [
    "arr.max()"
   ]
  },
  {
   "cell_type": "code",
   "execution_count": 38,
   "metadata": {},
   "outputs": [
    {
     "data": {
      "text/plain": [
       "array([False, False, False,  True,  True, False])"
      ]
     },
     "execution_count": 38,
     "metadata": {},
     "output_type": "execute_result"
    }
   ],
   "source": [
    "np.isnan(arr)"
   ]
  },
  {
   "cell_type": "code",
   "execution_count": 39,
   "metadata": {},
   "outputs": [],
   "source": [
    "arr = arr[~np.isnan(arr)]"
   ]
  },
  {
   "cell_type": "code",
   "execution_count": 40,
   "metadata": {},
   "outputs": [
    {
     "data": {
      "text/plain": [
       "4.0"
      ]
     },
     "execution_count": 40,
     "metadata": {},
     "output_type": "execute_result"
    }
   ],
   "source": [
    "arr.max()"
   ]
  },
  {
   "cell_type": "markdown",
   "metadata": {},
   "source": [
    "### Removendo Duplicatas"
   ]
  },
  {
   "cell_type": "code",
   "execution_count": 41,
   "metadata": {},
   "outputs": [
    {
     "data": {
      "text/plain": [
       "array(['Ana', 'Carol', 'Walter', 'Carol', 'Ana', 'Hugo', 'Hugo'],\n",
       "      dtype='<U6')"
      ]
     },
     "execution_count": 41,
     "metadata": {},
     "output_type": "execute_result"
    }
   ],
   "source": [
    "nomes"
   ]
  },
  {
   "cell_type": "code",
   "execution_count": 42,
   "metadata": {},
   "outputs": [
    {
     "data": {
      "text/plain": [
       "array(['Ana', 'Carol', 'Hugo', 'Walter'], dtype='<U6')"
      ]
     },
     "execution_count": 42,
     "metadata": {},
     "output_type": "execute_result"
    }
   ],
   "source": [
    "np.unique(nomes) # é o mesmo que fazer sorted(set(nomes))"
   ]
  },
  {
   "cell_type": "code",
   "execution_count": 43,
   "metadata": {},
   "outputs": [
    {
     "data": {
      "text/plain": [
       "array([1, 2, 3, 4])"
      ]
     },
     "execution_count": 43,
     "metadata": {},
     "output_type": "execute_result"
    }
   ],
   "source": [
    "ints = np.array([3, 3, 3, 2, 2, 1, 1, 4, 4])\n",
    "np.unique(ints)"
   ]
  },
  {
   "cell_type": "markdown",
   "metadata": {},
   "source": [
    "### Estatísticas\n",
    "\n",
    "<img src=\"eixos.jpg\" alt=\"drawing\" width=\"500\"/>"
   ]
  },
  {
   "cell_type": "code",
   "execution_count": 44,
   "metadata": {},
   "outputs": [
    {
     "data": {
      "text/plain": [
       "matrix([[ 8,  1,  1,  7],\n",
       "        [ 6,  2, 10,  1],\n",
       "        [ 2,  3,  5,  2],\n",
       "        [ 4, 10,  6,  5]])"
      ]
     },
     "execution_count": 44,
     "metadata": {},
     "output_type": "execute_result"
    }
   ],
   "source": [
    "#arr = np.random.randint(1, 11, (2,3))\n",
    "arr = np.matrix(np.random.randint(1, 11, (4,4)))\n",
    "arr"
   ]
  },
  {
   "cell_type": "code",
   "execution_count": 45,
   "metadata": {},
   "outputs": [
    {
     "name": "stdout",
     "output_type": "stream",
     "text": [
      "4.5625 \n",
      "\n",
      "[[5.   4.   5.5  3.75]] \n",
      "\n",
      "[[4.25]\n",
      " [4.75]\n",
      " [3.  ]\n",
      " [6.25]] \n",
      "\n"
     ]
    }
   ],
   "source": [
    "print(arr.mean(),'\\n')\n",
    "print(arr.mean(axis=0),'\\n') # eixo 0: média das linhas de cada coluna\n",
    "print(arr.mean(axis=1),'\\n') # eixo 1: média das colunas de cada linha"
   ]
  },
  {
   "cell_type": "code",
   "execution_count": 46,
   "metadata": {},
   "outputs": [
    {
     "name": "stdout",
     "output_type": "stream",
     "text": [
      "73 \n",
      "\n",
      "[[20 16 22 15]] \n",
      "\n",
      "[[17]\n",
      " [19]\n",
      " [12]\n",
      " [25]] \n",
      "\n"
     ]
    }
   ],
   "source": [
    "print(arr.sum(),'\\n')\n",
    "print(arr.sum(axis=0),'\\n') # eixo 0: soma das linhas de cada coluna\n",
    "print(arr.sum(axis=1),'\\n') # eixo 1: soma das colunas de cada linha"
   ]
  },
  {
   "cell_type": "code",
   "execution_count": 47,
   "metadata": {},
   "outputs": [
    {
     "name": "stdout",
     "output_type": "stream",
     "text": [
      "[[ 8  9 10 17 23 25 35 36 38 41 46 48 52 62 68 73]] \n",
      "\n",
      "[[ 8  1  1  7]\n",
      " [14  3 11  8]\n",
      " [16  6 16 10]\n",
      " [20 16 22 15]] \n",
      "\n",
      "[[ 8  9 10 17]\n",
      " [ 6  8 18 19]\n",
      " [ 2  5 10 12]\n",
      " [ 4 14 20 25]] \n",
      "\n"
     ]
    }
   ],
   "source": [
    "print(arr.cumsum(),'\\n')\n",
    "print(arr.cumsum(axis=0),'\\n') # eixo 0: soma acumulada das linhas de cada coluna\n",
    "print(arr.cumsum(axis=1),'\\n') # eixo 1: soma acumulada das colunas de cada linha"
   ]
  },
  {
   "cell_type": "markdown",
   "metadata": {},
   "source": [
    "### Ordenamento"
   ]
  },
  {
   "cell_type": "code",
   "execution_count": 48,
   "metadata": {},
   "outputs": [
    {
     "name": "stdout",
     "output_type": "stream",
     "text": [
      "[[ 8  1  1  7]\n",
      " [ 6  2 10  1]\n",
      " [ 2  3  5  2]\n",
      " [ 4 10  6  5]] \n",
      "\n",
      "[[ 2  1  1  1]\n",
      " [ 4  2  5  2]\n",
      " [ 6  3  6  5]\n",
      " [ 8 10 10  7]] \n",
      "\n",
      "[[ 1  1  1  2]\n",
      " [ 2  2  4  5]\n",
      " [ 3  5  6  6]\n",
      " [ 7  8 10 10]] \n",
      "\n"
     ]
    }
   ],
   "source": [
    "print(arr,'\\n')\n",
    "arr.sort(0) # ordenamento dos elementos das linhas de cada coluna\n",
    "print(arr,'\\n')\n",
    "arr.sort(1) # ordenamento dos elementos das colunas de cada linha\n",
    "print(arr,'\\n')"
   ]
  },
  {
   "cell_type": "markdown",
   "metadata": {},
   "source": [
    "### Concatenação"
   ]
  },
  {
   "cell_type": "code",
   "execution_count": 49,
   "metadata": {},
   "outputs": [],
   "source": [
    "l = np.matrix(np.ones(3))\n",
    "c = np.matrix(np.ones(3)).T\n",
    "m = np.matrix([[1, 2, 3], [4, 5, 6], [7,8,9]])"
   ]
  },
  {
   "cell_type": "code",
   "execution_count": 50,
   "metadata": {},
   "outputs": [
    {
     "data": {
      "text/plain": [
       "matrix([[1., 2., 3.],\n",
       "        [4., 5., 6.],\n",
       "        [7., 8., 9.],\n",
       "        [1., 1., 1.]])"
      ]
     },
     "execution_count": 50,
     "metadata": {},
     "output_type": "execute_result"
    }
   ],
   "source": [
    "np.vstack((m,l))"
   ]
  },
  {
   "cell_type": "code",
   "execution_count": 51,
   "metadata": {},
   "outputs": [
    {
     "data": {
      "text/plain": [
       "matrix([[1., 2., 3., 1.],\n",
       "        [4., 5., 6., 1.],\n",
       "        [7., 8., 9., 1.]])"
      ]
     },
     "execution_count": 51,
     "metadata": {},
     "output_type": "execute_result"
    }
   ],
   "source": [
    "np.hstack((m,c))"
   ]
  },
  {
   "cell_type": "code",
   "execution_count": 52,
   "metadata": {},
   "outputs": [],
   "source": [
    "a = np.array([[1, 2], [3, 4]])\n",
    "b = np.array([[5, 6]])"
   ]
  },
  {
   "cell_type": "code",
   "execution_count": 53,
   "metadata": {},
   "outputs": [
    {
     "data": {
      "text/plain": [
       "array([[1, 2],\n",
       "       [3, 4],\n",
       "       [5, 6]])"
      ]
     },
     "execution_count": 53,
     "metadata": {},
     "output_type": "execute_result"
    }
   ],
   "source": [
    "np.concatenate((a, b), axis=0)"
   ]
  },
  {
   "cell_type": "code",
   "execution_count": 54,
   "metadata": {},
   "outputs": [
    {
     "data": {
      "text/plain": [
       "array([[1, 2, 5],\n",
       "       [3, 4, 6]])"
      ]
     },
     "execution_count": 54,
     "metadata": {},
     "output_type": "execute_result"
    }
   ],
   "source": [
    "np.concatenate((a, b.T), axis=1)"
   ]
  },
  {
   "cell_type": "code",
   "execution_count": 55,
   "metadata": {},
   "outputs": [
    {
     "data": {
      "text/plain": [
       "array([1, 2, 3, 4, 5, 6])"
      ]
     },
     "execution_count": 55,
     "metadata": {},
     "output_type": "execute_result"
    }
   ],
   "source": [
    "np.concatenate((a, b), axis=None)"
   ]
  },
  {
   "cell_type": "markdown",
   "metadata": {},
   "source": [
    "## 2. Pandas\n",
    "\n",
    "Apesar do **Pandas** adota muitas codificações do **NumPy**, a maior diferença é que o **Pandas** foi projetado para trabalhar com dados tabulares ou heterogêneos. Por outro lado, o **NumPy** é mais adequado para trabalhar com dados de matriz numérica homogêneos."
   ]
  },
  {
   "cell_type": "code",
   "execution_count": 56,
   "metadata": {},
   "outputs": [],
   "source": [
    "import pandas as pd # para instalar no próprio notebook -> !pip install pandas "
   ]
  },
  {
   "cell_type": "markdown",
   "metadata": {},
   "source": [
    "### Estrutura de Dados: Séries\n",
    "\n",
    "Uma série é um objeto unidimensional do tipo array que contém uma **sequência de valores** (de tipos semelhantes aos tipos NumPy) e um array associado formado pelos rótulos de dados, denominado **índice**. A série mais simples é formada a partir de apenas uma array de dados.\n",
    "\n",
    "A representação em cadeia de uma série exibida interativamente mostra o índice à esquerda e os valores à direita. "
   ]
  },
  {
   "cell_type": "code",
   "execution_count": 57,
   "metadata": {},
   "outputs": [
    {
     "data": {
      "text/plain": [
       "0    4\n",
       "1    7\n",
       "2    5\n",
       "3    3\n",
       "dtype: int64"
      ]
     },
     "execution_count": 57,
     "metadata": {},
     "output_type": "execute_result"
    }
   ],
   "source": [
    "series = pd.Series([4, 7, 5, 3])\n",
    "series"
   ]
  },
  {
   "cell_type": "code",
   "execution_count": 58,
   "metadata": {},
   "outputs": [
    {
     "data": {
      "text/plain": [
       "array([4, 7, 5, 3])"
      ]
     },
     "execution_count": 58,
     "metadata": {},
     "output_type": "execute_result"
    }
   ],
   "source": [
    "series.values # acessando os dados da série"
   ]
  },
  {
   "cell_type": "code",
   "execution_count": 59,
   "metadata": {},
   "outputs": [
    {
     "data": {
      "text/plain": [
       "RangeIndex(start=0, stop=4, step=1)"
      ]
     },
     "execution_count": 59,
     "metadata": {},
     "output_type": "execute_result"
    }
   ],
   "source": [
    "series.index"
   ]
  },
  {
   "cell_type": "code",
   "execution_count": 60,
   "metadata": {},
   "outputs": [
    {
     "data": {
      "text/plain": [
       "(4,)"
      ]
     },
     "execution_count": 60,
     "metadata": {},
     "output_type": "execute_result"
    }
   ],
   "source": [
    "series.shape # series.size ou len(series)"
   ]
  },
  {
   "cell_type": "markdown",
   "metadata": {},
   "source": [
    "Como não especificamos um índice para os dados, por padrão é criado uma sequência de números inteiros de $0$ a $N-1$, onde $N$ é a quantidade de dados."
   ]
  },
  {
   "cell_type": "code",
   "execution_count": 61,
   "metadata": {},
   "outputs": [
    {
     "data": {
      "text/plain": [
       "Carol     4\n",
       "Walter    7\n",
       "Moacyr    5\n",
       "Branco    3\n",
       "dtype: int64"
      ]
     },
     "execution_count": 61,
     "metadata": {},
     "output_type": "execute_result"
    }
   ],
   "source": [
    "#series = pd.Series([4, 7, 5, 3], index=[\"Carol\", \"Walter\", \"Moacyr\", \"Branco\"])\n",
    "series.index = [\"Carol\", \"Walter\", \"Moacyr\", \"Branco\"]\n",
    "series"
   ]
  },
  {
   "cell_type": "code",
   "execution_count": 62,
   "metadata": {},
   "outputs": [
    {
     "name": "stdout",
     "output_type": "stream",
     "text": [
      "4\n",
      "7\n"
     ]
    }
   ],
   "source": [
    "print(series['Carol'])\n",
    "print(series.Walter)\n",
    "series.Walter = 6"
   ]
  },
  {
   "cell_type": "code",
   "execution_count": 63,
   "metadata": {},
   "outputs": [
    {
     "data": {
      "text/plain": [
       "Branco    3\n",
       "Carol     4\n",
       "Walter    6\n",
       "dtype: int64"
      ]
     },
     "execution_count": 63,
     "metadata": {},
     "output_type": "execute_result"
    }
   ],
   "source": [
    "series[['Branco', 'Carol', 'Walter']] # lista de índices, mesmo que sejam strings e não números inteiros"
   ]
  },
  {
   "cell_type": "code",
   "execution_count": 64,
   "metadata": {},
   "outputs": [
    {
     "data": {
      "text/plain": [
       "Carol     4\n",
       "Branco    3\n",
       "dtype: int64"
      ]
     },
     "execution_count": 64,
     "metadata": {},
     "output_type": "execute_result"
    }
   ],
   "source": [
    "series[series < 5]"
   ]
  },
  {
   "cell_type": "code",
   "execution_count": 65,
   "metadata": {},
   "outputs": [
    {
     "data": {
      "text/plain": [
       "Carol      8\n",
       "Walter    12\n",
       "Moacyr    10\n",
       "Branco     6\n",
       "dtype: int64"
      ]
     },
     "execution_count": 65,
     "metadata": {},
     "output_type": "execute_result"
    }
   ],
   "source": [
    "series2 = series*2\n",
    "series2"
   ]
  },
  {
   "cell_type": "markdown",
   "metadata": {},
   "source": [
    "### Estrutura de Dados: DataFrame\n",
    "\n",
    "Por definição, **CSV** é um formato de arquivo que significa “**c**omma-**s**eparated-**v**alues” (valores separados por vírgulas).\n",
    "\n",
    "* https://github.com/anacwagner/scopus-scraping/tree/master/outputs/matlab"
   ]
  },
  {
   "cell_type": "code",
   "execution_count": 66,
   "metadata": {},
   "outputs": [],
   "source": [
    "df1 = pd.read_csv('https://raw.githubusercontent.com/anacwagner/scopus-scraping/master/outputs/matlab/T_cit_acum.csv',\n",
    "                sep=',',     # opcional; especificar como os dados estão separados\n",
    "                header=None  # opcional; especificar se os dados possuem cabeçalhos\n",
    "                 )"
   ]
  },
  {
   "cell_type": "code",
   "execution_count": 67,
   "metadata": {},
   "outputs": [
    {
     "data": {
      "text/html": [
       "<div>\n",
       "<style scoped>\n",
       "    .dataframe tbody tr th:only-of-type {\n",
       "        vertical-align: middle;\n",
       "    }\n",
       "\n",
       "    .dataframe tbody tr th {\n",
       "        vertical-align: top;\n",
       "    }\n",
       "\n",
       "    .dataframe thead th {\n",
       "        text-align: right;\n",
       "    }\n",
       "</style>\n",
       "<table border=\"1\" class=\"dataframe\">\n",
       "  <thead>\n",
       "    <tr style=\"text-align: right;\">\n",
       "      <th></th>\n",
       "      <th>0</th>\n",
       "      <th>1</th>\n",
       "      <th>2</th>\n",
       "      <th>3</th>\n",
       "      <th>4</th>\n",
       "      <th>5</th>\n",
       "      <th>6</th>\n",
       "      <th>7</th>\n",
       "      <th>8</th>\n",
       "      <th>9</th>\n",
       "      <th>...</th>\n",
       "      <th>40</th>\n",
       "      <th>41</th>\n",
       "      <th>42</th>\n",
       "      <th>43</th>\n",
       "      <th>44</th>\n",
       "      <th>45</th>\n",
       "      <th>46</th>\n",
       "      <th>47</th>\n",
       "      <th>48</th>\n",
       "      <th>49</th>\n",
       "    </tr>\n",
       "  </thead>\n",
       "  <tbody>\n",
       "    <tr>\n",
       "      <td>0</td>\n",
       "      <td>1</td>\n",
       "      <td>NaN</td>\n",
       "      <td>NaN</td>\n",
       "      <td>NaN</td>\n",
       "      <td>NaN</td>\n",
       "      <td>NaN</td>\n",
       "      <td>NaN</td>\n",
       "      <td>NaN</td>\n",
       "      <td>NaN</td>\n",
       "      <td>NaN</td>\n",
       "      <td>...</td>\n",
       "      <td>0.0</td>\n",
       "      <td>0.0</td>\n",
       "      <td>0.0</td>\n",
       "      <td>0.0</td>\n",
       "      <td>0.0</td>\n",
       "      <td>0.0</td>\n",
       "      <td>0.0</td>\n",
       "      <td>0.0</td>\n",
       "      <td>0.0</td>\n",
       "      <td>0</td>\n",
       "    </tr>\n",
       "    <tr>\n",
       "      <td>1</td>\n",
       "      <td>2</td>\n",
       "      <td>NaN</td>\n",
       "      <td>NaN</td>\n",
       "      <td>NaN</td>\n",
       "      <td>NaN</td>\n",
       "      <td>NaN</td>\n",
       "      <td>NaN</td>\n",
       "      <td>NaN</td>\n",
       "      <td>0.0</td>\n",
       "      <td>0.0</td>\n",
       "      <td>...</td>\n",
       "      <td>0.0</td>\n",
       "      <td>0.0</td>\n",
       "      <td>0.0</td>\n",
       "      <td>0.0</td>\n",
       "      <td>0.0</td>\n",
       "      <td>0.0</td>\n",
       "      <td>0.0</td>\n",
       "      <td>0.0</td>\n",
       "      <td>0.0</td>\n",
       "      <td>0</td>\n",
       "    </tr>\n",
       "    <tr>\n",
       "      <td>2</td>\n",
       "      <td>3</td>\n",
       "      <td>NaN</td>\n",
       "      <td>NaN</td>\n",
       "      <td>NaN</td>\n",
       "      <td>NaN</td>\n",
       "      <td>NaN</td>\n",
       "      <td>NaN</td>\n",
       "      <td>NaN</td>\n",
       "      <td>NaN</td>\n",
       "      <td>NaN</td>\n",
       "      <td>...</td>\n",
       "      <td>0.0</td>\n",
       "      <td>0.0</td>\n",
       "      <td>0.0</td>\n",
       "      <td>0.0</td>\n",
       "      <td>0.0</td>\n",
       "      <td>0.0</td>\n",
       "      <td>0.0</td>\n",
       "      <td>0.0</td>\n",
       "      <td>0.0</td>\n",
       "      <td>0</td>\n",
       "    </tr>\n",
       "    <tr>\n",
       "      <td>3</td>\n",
       "      <td>4</td>\n",
       "      <td>NaN</td>\n",
       "      <td>NaN</td>\n",
       "      <td>NaN</td>\n",
       "      <td>NaN</td>\n",
       "      <td>NaN</td>\n",
       "      <td>NaN</td>\n",
       "      <td>NaN</td>\n",
       "      <td>NaN</td>\n",
       "      <td>NaN</td>\n",
       "      <td>...</td>\n",
       "      <td>3.0</td>\n",
       "      <td>3.0</td>\n",
       "      <td>3.0</td>\n",
       "      <td>3.0</td>\n",
       "      <td>3.0</td>\n",
       "      <td>3.0</td>\n",
       "      <td>3.0</td>\n",
       "      <td>3.0</td>\n",
       "      <td>3.0</td>\n",
       "      <td>3</td>\n",
       "    </tr>\n",
       "    <tr>\n",
       "      <td>4</td>\n",
       "      <td>5</td>\n",
       "      <td>NaN</td>\n",
       "      <td>NaN</td>\n",
       "      <td>NaN</td>\n",
       "      <td>NaN</td>\n",
       "      <td>NaN</td>\n",
       "      <td>NaN</td>\n",
       "      <td>NaN</td>\n",
       "      <td>NaN</td>\n",
       "      <td>NaN</td>\n",
       "      <td>...</td>\n",
       "      <td>NaN</td>\n",
       "      <td>NaN</td>\n",
       "      <td>NaN</td>\n",
       "      <td>0.0</td>\n",
       "      <td>0.0</td>\n",
       "      <td>0.0</td>\n",
       "      <td>0.0</td>\n",
       "      <td>1.0</td>\n",
       "      <td>1.0</td>\n",
       "      <td>1</td>\n",
       "    </tr>\n",
       "  </tbody>\n",
       "</table>\n",
       "<p>5 rows × 50 columns</p>\n",
       "</div>"
      ],
      "text/plain": [
       "   0   1   2   3   4   5   6   7    8    9   ...   40   41   42   43   44  \\\n",
       "0   1 NaN NaN NaN NaN NaN NaN NaN  NaN  NaN  ...  0.0  0.0  0.0  0.0  0.0   \n",
       "1   2 NaN NaN NaN NaN NaN NaN NaN  0.0  0.0  ...  0.0  0.0  0.0  0.0  0.0   \n",
       "2   3 NaN NaN NaN NaN NaN NaN NaN  NaN  NaN  ...  0.0  0.0  0.0  0.0  0.0   \n",
       "3   4 NaN NaN NaN NaN NaN NaN NaN  NaN  NaN  ...  3.0  3.0  3.0  3.0  3.0   \n",
       "4   5 NaN NaN NaN NaN NaN NaN NaN  NaN  NaN  ...  NaN  NaN  NaN  0.0  0.0   \n",
       "\n",
       "    45   46   47   48  49  \n",
       "0  0.0  0.0  0.0  0.0   0  \n",
       "1  0.0  0.0  0.0  0.0   0  \n",
       "2  0.0  0.0  0.0  0.0   0  \n",
       "3  3.0  3.0  3.0  3.0   3  \n",
       "4  0.0  0.0  1.0  1.0   1  \n",
       "\n",
       "[5 rows x 50 columns]"
      ]
     },
     "execution_count": 67,
     "metadata": {},
     "output_type": "execute_result"
    }
   ],
   "source": [
    "df1.head()"
   ]
  },
  {
   "cell_type": "code",
   "execution_count": 68,
   "metadata": {},
   "outputs": [
    {
     "data": {
      "text/html": [
       "<div>\n",
       "<style scoped>\n",
       "    .dataframe tbody tr th:only-of-type {\n",
       "        vertical-align: middle;\n",
       "    }\n",
       "\n",
       "    .dataframe tbody tr th {\n",
       "        vertical-align: top;\n",
       "    }\n",
       "\n",
       "    .dataframe thead th {\n",
       "        text-align: right;\n",
       "    }\n",
       "</style>\n",
       "<table border=\"1\" class=\"dataframe\">\n",
       "  <thead>\n",
       "    <tr style=\"text-align: right;\">\n",
       "      <th></th>\n",
       "      <th>0</th>\n",
       "      <th>1</th>\n",
       "      <th>2</th>\n",
       "      <th>3</th>\n",
       "      <th>4</th>\n",
       "      <th>5</th>\n",
       "      <th>6</th>\n",
       "      <th>7</th>\n",
       "      <th>8</th>\n",
       "      <th>9</th>\n",
       "      <th>...</th>\n",
       "      <th>40</th>\n",
       "      <th>41</th>\n",
       "      <th>42</th>\n",
       "      <th>43</th>\n",
       "      <th>44</th>\n",
       "      <th>45</th>\n",
       "      <th>46</th>\n",
       "      <th>47</th>\n",
       "      <th>48</th>\n",
       "      <th>49</th>\n",
       "    </tr>\n",
       "  </thead>\n",
       "  <tbody>\n",
       "    <tr>\n",
       "      <td>17380</td>\n",
       "      <td>18717</td>\n",
       "      <td>NaN</td>\n",
       "      <td>NaN</td>\n",
       "      <td>NaN</td>\n",
       "      <td>NaN</td>\n",
       "      <td>NaN</td>\n",
       "      <td>NaN</td>\n",
       "      <td>NaN</td>\n",
       "      <td>NaN</td>\n",
       "      <td>NaN</td>\n",
       "      <td>...</td>\n",
       "      <td>4.0</td>\n",
       "      <td>4.0</td>\n",
       "      <td>4.0</td>\n",
       "      <td>4.0</td>\n",
       "      <td>4.0</td>\n",
       "      <td>4.0</td>\n",
       "      <td>4.0</td>\n",
       "      <td>4.0</td>\n",
       "      <td>4.0</td>\n",
       "      <td>4</td>\n",
       "    </tr>\n",
       "    <tr>\n",
       "      <td>17381</td>\n",
       "      <td>18718</td>\n",
       "      <td>NaN</td>\n",
       "      <td>NaN</td>\n",
       "      <td>NaN</td>\n",
       "      <td>NaN</td>\n",
       "      <td>NaN</td>\n",
       "      <td>NaN</td>\n",
       "      <td>NaN</td>\n",
       "      <td>NaN</td>\n",
       "      <td>NaN</td>\n",
       "      <td>...</td>\n",
       "      <td>NaN</td>\n",
       "      <td>NaN</td>\n",
       "      <td>NaN</td>\n",
       "      <td>NaN</td>\n",
       "      <td>NaN</td>\n",
       "      <td>NaN</td>\n",
       "      <td>0.0</td>\n",
       "      <td>0.0</td>\n",
       "      <td>0.0</td>\n",
       "      <td>0</td>\n",
       "    </tr>\n",
       "  </tbody>\n",
       "</table>\n",
       "<p>2 rows × 50 columns</p>\n",
       "</div>"
      ],
      "text/plain": [
       "          0   1   2   3   4   5   6   7   8   9   ...   40   41   42   43  \\\n",
       "17380  18717 NaN NaN NaN NaN NaN NaN NaN NaN NaN  ...  4.0  4.0  4.0  4.0   \n",
       "17381  18718 NaN NaN NaN NaN NaN NaN NaN NaN NaN  ...  NaN  NaN  NaN  NaN   \n",
       "\n",
       "        44   45   46   47   48  49  \n",
       "17380  4.0  4.0  4.0  4.0  4.0   4  \n",
       "17381  NaN  NaN  0.0  0.0  0.0   0  \n",
       "\n",
       "[2 rows x 50 columns]"
      ]
     },
     "execution_count": 68,
     "metadata": {},
     "output_type": "execute_result"
    }
   ],
   "source": [
    "df1.tail(2)"
   ]
  },
  {
   "cell_type": "markdown",
   "metadata": {},
   "source": [
    "Mas o que significa cada coluna? Caso a base de dados não venha com um cabeçalho, podemos nomear as colunas de forma a facilitar a manipulação dos dados. "
   ]
  },
  {
   "cell_type": "code",
   "execution_count": 69,
   "metadata": {},
   "outputs": [],
   "source": [
    "nomes = ['id_a']\n",
    "nomes = nomes + ['Ano '+str(i) for i in range(1970,2019)]"
   ]
  },
  {
   "cell_type": "code",
   "execution_count": 70,
   "metadata": {},
   "outputs": [
    {
     "data": {
      "text/html": [
       "<div>\n",
       "<style scoped>\n",
       "    .dataframe tbody tr th:only-of-type {\n",
       "        vertical-align: middle;\n",
       "    }\n",
       "\n",
       "    .dataframe tbody tr th {\n",
       "        vertical-align: top;\n",
       "    }\n",
       "\n",
       "    .dataframe thead th {\n",
       "        text-align: right;\n",
       "    }\n",
       "</style>\n",
       "<table border=\"1\" class=\"dataframe\">\n",
       "  <thead>\n",
       "    <tr style=\"text-align: right;\">\n",
       "      <th></th>\n",
       "      <th>id_a</th>\n",
       "      <th>Ano 1970</th>\n",
       "      <th>Ano 1971</th>\n",
       "      <th>Ano 1972</th>\n",
       "      <th>Ano 1973</th>\n",
       "      <th>Ano 1974</th>\n",
       "      <th>Ano 1975</th>\n",
       "      <th>Ano 1976</th>\n",
       "      <th>Ano 1977</th>\n",
       "      <th>Ano 1978</th>\n",
       "      <th>...</th>\n",
       "      <th>Ano 2009</th>\n",
       "      <th>Ano 2010</th>\n",
       "      <th>Ano 2011</th>\n",
       "      <th>Ano 2012</th>\n",
       "      <th>Ano 2013</th>\n",
       "      <th>Ano 2014</th>\n",
       "      <th>Ano 2015</th>\n",
       "      <th>Ano 2016</th>\n",
       "      <th>Ano 2017</th>\n",
       "      <th>Ano 2018</th>\n",
       "    </tr>\n",
       "  </thead>\n",
       "  <tbody>\n",
       "    <tr>\n",
       "      <td>0</td>\n",
       "      <td>1</td>\n",
       "      <td>NaN</td>\n",
       "      <td>NaN</td>\n",
       "      <td>NaN</td>\n",
       "      <td>NaN</td>\n",
       "      <td>NaN</td>\n",
       "      <td>NaN</td>\n",
       "      <td>NaN</td>\n",
       "      <td>NaN</td>\n",
       "      <td>NaN</td>\n",
       "      <td>...</td>\n",
       "      <td>0.0</td>\n",
       "      <td>0.0</td>\n",
       "      <td>0.0</td>\n",
       "      <td>0.0</td>\n",
       "      <td>0.0</td>\n",
       "      <td>0.0</td>\n",
       "      <td>0.0</td>\n",
       "      <td>0.0</td>\n",
       "      <td>0.0</td>\n",
       "      <td>0</td>\n",
       "    </tr>\n",
       "    <tr>\n",
       "      <td>1</td>\n",
       "      <td>2</td>\n",
       "      <td>NaN</td>\n",
       "      <td>NaN</td>\n",
       "      <td>NaN</td>\n",
       "      <td>NaN</td>\n",
       "      <td>NaN</td>\n",
       "      <td>NaN</td>\n",
       "      <td>NaN</td>\n",
       "      <td>0.0</td>\n",
       "      <td>0.0</td>\n",
       "      <td>...</td>\n",
       "      <td>0.0</td>\n",
       "      <td>0.0</td>\n",
       "      <td>0.0</td>\n",
       "      <td>0.0</td>\n",
       "      <td>0.0</td>\n",
       "      <td>0.0</td>\n",
       "      <td>0.0</td>\n",
       "      <td>0.0</td>\n",
       "      <td>0.0</td>\n",
       "      <td>0</td>\n",
       "    </tr>\n",
       "    <tr>\n",
       "      <td>2</td>\n",
       "      <td>3</td>\n",
       "      <td>NaN</td>\n",
       "      <td>NaN</td>\n",
       "      <td>NaN</td>\n",
       "      <td>NaN</td>\n",
       "      <td>NaN</td>\n",
       "      <td>NaN</td>\n",
       "      <td>NaN</td>\n",
       "      <td>NaN</td>\n",
       "      <td>NaN</td>\n",
       "      <td>...</td>\n",
       "      <td>0.0</td>\n",
       "      <td>0.0</td>\n",
       "      <td>0.0</td>\n",
       "      <td>0.0</td>\n",
       "      <td>0.0</td>\n",
       "      <td>0.0</td>\n",
       "      <td>0.0</td>\n",
       "      <td>0.0</td>\n",
       "      <td>0.0</td>\n",
       "      <td>0</td>\n",
       "    </tr>\n",
       "    <tr>\n",
       "      <td>3</td>\n",
       "      <td>4</td>\n",
       "      <td>NaN</td>\n",
       "      <td>NaN</td>\n",
       "      <td>NaN</td>\n",
       "      <td>NaN</td>\n",
       "      <td>NaN</td>\n",
       "      <td>NaN</td>\n",
       "      <td>NaN</td>\n",
       "      <td>NaN</td>\n",
       "      <td>NaN</td>\n",
       "      <td>...</td>\n",
       "      <td>3.0</td>\n",
       "      <td>3.0</td>\n",
       "      <td>3.0</td>\n",
       "      <td>3.0</td>\n",
       "      <td>3.0</td>\n",
       "      <td>3.0</td>\n",
       "      <td>3.0</td>\n",
       "      <td>3.0</td>\n",
       "      <td>3.0</td>\n",
       "      <td>3</td>\n",
       "    </tr>\n",
       "    <tr>\n",
       "      <td>4</td>\n",
       "      <td>5</td>\n",
       "      <td>NaN</td>\n",
       "      <td>NaN</td>\n",
       "      <td>NaN</td>\n",
       "      <td>NaN</td>\n",
       "      <td>NaN</td>\n",
       "      <td>NaN</td>\n",
       "      <td>NaN</td>\n",
       "      <td>NaN</td>\n",
       "      <td>NaN</td>\n",
       "      <td>...</td>\n",
       "      <td>NaN</td>\n",
       "      <td>NaN</td>\n",
       "      <td>NaN</td>\n",
       "      <td>0.0</td>\n",
       "      <td>0.0</td>\n",
       "      <td>0.0</td>\n",
       "      <td>0.0</td>\n",
       "      <td>1.0</td>\n",
       "      <td>1.0</td>\n",
       "      <td>1</td>\n",
       "    </tr>\n",
       "  </tbody>\n",
       "</table>\n",
       "<p>5 rows × 50 columns</p>\n",
       "</div>"
      ],
      "text/plain": [
       "   id_a  Ano 1970  Ano 1971  Ano 1972  Ano 1973  Ano 1974  Ano 1975  Ano 1976  \\\n",
       "0     1       NaN       NaN       NaN       NaN       NaN       NaN       NaN   \n",
       "1     2       NaN       NaN       NaN       NaN       NaN       NaN       NaN   \n",
       "2     3       NaN       NaN       NaN       NaN       NaN       NaN       NaN   \n",
       "3     4       NaN       NaN       NaN       NaN       NaN       NaN       NaN   \n",
       "4     5       NaN       NaN       NaN       NaN       NaN       NaN       NaN   \n",
       "\n",
       "   Ano 1977  Ano 1978  ...  Ano 2009  Ano 2010  Ano 2011  Ano 2012  Ano 2013  \\\n",
       "0       NaN       NaN  ...       0.0       0.0       0.0       0.0       0.0   \n",
       "1       0.0       0.0  ...       0.0       0.0       0.0       0.0       0.0   \n",
       "2       NaN       NaN  ...       0.0       0.0       0.0       0.0       0.0   \n",
       "3       NaN       NaN  ...       3.0       3.0       3.0       3.0       3.0   \n",
       "4       NaN       NaN  ...       NaN       NaN       NaN       0.0       0.0   \n",
       "\n",
       "   Ano 2014  Ano 2015  Ano 2016  Ano 2017  Ano 2018  \n",
       "0       0.0       0.0       0.0       0.0         0  \n",
       "1       0.0       0.0       0.0       0.0         0  \n",
       "2       0.0       0.0       0.0       0.0         0  \n",
       "3       3.0       3.0       3.0       3.0         3  \n",
       "4       0.0       0.0       1.0       1.0         1  \n",
       "\n",
       "[5 rows x 50 columns]"
      ]
     },
     "execution_count": 70,
     "metadata": {},
     "output_type": "execute_result"
    }
   ],
   "source": [
    "df1.columns=nomes\n",
    "df1.head()"
   ]
  },
  {
   "cell_type": "markdown",
   "metadata": {},
   "source": [
    "Assim como nas **Séries**, também podemos alterar a coluna índice. "
   ]
  },
  {
   "cell_type": "code",
   "execution_count": 71,
   "metadata": {},
   "outputs": [
    {
     "data": {
      "text/html": [
       "<div>\n",
       "<style scoped>\n",
       "    .dataframe tbody tr th:only-of-type {\n",
       "        vertical-align: middle;\n",
       "    }\n",
       "\n",
       "    .dataframe tbody tr th {\n",
       "        vertical-align: top;\n",
       "    }\n",
       "\n",
       "    .dataframe thead th {\n",
       "        text-align: right;\n",
       "    }\n",
       "</style>\n",
       "<table border=\"1\" class=\"dataframe\">\n",
       "  <thead>\n",
       "    <tr style=\"text-align: right;\">\n",
       "      <th></th>\n",
       "      <th>id_a</th>\n",
       "      <th>Ano 1970</th>\n",
       "      <th>Ano 1971</th>\n",
       "      <th>Ano 1972</th>\n",
       "      <th>Ano 1973</th>\n",
       "      <th>Ano 1974</th>\n",
       "      <th>Ano 1975</th>\n",
       "      <th>Ano 1976</th>\n",
       "      <th>Ano 1977</th>\n",
       "      <th>Ano 1978</th>\n",
       "      <th>...</th>\n",
       "      <th>Ano 2009</th>\n",
       "      <th>Ano 2010</th>\n",
       "      <th>Ano 2011</th>\n",
       "      <th>Ano 2012</th>\n",
       "      <th>Ano 2013</th>\n",
       "      <th>Ano 2014</th>\n",
       "      <th>Ano 2015</th>\n",
       "      <th>Ano 2016</th>\n",
       "      <th>Ano 2017</th>\n",
       "      <th>Ano 2018</th>\n",
       "    </tr>\n",
       "    <tr>\n",
       "      <th>id_a</th>\n",
       "      <th></th>\n",
       "      <th></th>\n",
       "      <th></th>\n",
       "      <th></th>\n",
       "      <th></th>\n",
       "      <th></th>\n",
       "      <th></th>\n",
       "      <th></th>\n",
       "      <th></th>\n",
       "      <th></th>\n",
       "      <th></th>\n",
       "      <th></th>\n",
       "      <th></th>\n",
       "      <th></th>\n",
       "      <th></th>\n",
       "      <th></th>\n",
       "      <th></th>\n",
       "      <th></th>\n",
       "      <th></th>\n",
       "      <th></th>\n",
       "      <th></th>\n",
       "    </tr>\n",
       "  </thead>\n",
       "  <tbody>\n",
       "    <tr>\n",
       "      <td>1</td>\n",
       "      <td>1</td>\n",
       "      <td>NaN</td>\n",
       "      <td>NaN</td>\n",
       "      <td>NaN</td>\n",
       "      <td>NaN</td>\n",
       "      <td>NaN</td>\n",
       "      <td>NaN</td>\n",
       "      <td>NaN</td>\n",
       "      <td>NaN</td>\n",
       "      <td>NaN</td>\n",
       "      <td>...</td>\n",
       "      <td>0.0</td>\n",
       "      <td>0.0</td>\n",
       "      <td>0.0</td>\n",
       "      <td>0.0</td>\n",
       "      <td>0.0</td>\n",
       "      <td>0.0</td>\n",
       "      <td>0.0</td>\n",
       "      <td>0.0</td>\n",
       "      <td>0.0</td>\n",
       "      <td>0</td>\n",
       "    </tr>\n",
       "    <tr>\n",
       "      <td>2</td>\n",
       "      <td>2</td>\n",
       "      <td>NaN</td>\n",
       "      <td>NaN</td>\n",
       "      <td>NaN</td>\n",
       "      <td>NaN</td>\n",
       "      <td>NaN</td>\n",
       "      <td>NaN</td>\n",
       "      <td>NaN</td>\n",
       "      <td>0.0</td>\n",
       "      <td>0.0</td>\n",
       "      <td>...</td>\n",
       "      <td>0.0</td>\n",
       "      <td>0.0</td>\n",
       "      <td>0.0</td>\n",
       "      <td>0.0</td>\n",
       "      <td>0.0</td>\n",
       "      <td>0.0</td>\n",
       "      <td>0.0</td>\n",
       "      <td>0.0</td>\n",
       "      <td>0.0</td>\n",
       "      <td>0</td>\n",
       "    </tr>\n",
       "  </tbody>\n",
       "</table>\n",
       "<p>2 rows × 50 columns</p>\n",
       "</div>"
      ],
      "text/plain": [
       "      id_a  Ano 1970  Ano 1971  Ano 1972  Ano 1973  Ano 1974  Ano 1975  \\\n",
       "id_a                                                                     \n",
       "1        1       NaN       NaN       NaN       NaN       NaN       NaN   \n",
       "2        2       NaN       NaN       NaN       NaN       NaN       NaN   \n",
       "\n",
       "      Ano 1976  Ano 1977  Ano 1978  ...  Ano 2009  Ano 2010  Ano 2011  \\\n",
       "id_a                                ...                                 \n",
       "1          NaN       NaN       NaN  ...       0.0       0.0       0.0   \n",
       "2          NaN       0.0       0.0  ...       0.0       0.0       0.0   \n",
       "\n",
       "      Ano 2012  Ano 2013  Ano 2014  Ano 2015  Ano 2016  Ano 2017  Ano 2018  \n",
       "id_a                                                                        \n",
       "1          0.0       0.0       0.0       0.0       0.0       0.0         0  \n",
       "2          0.0       0.0       0.0       0.0       0.0       0.0         0  \n",
       "\n",
       "[2 rows x 50 columns]"
      ]
     },
     "execution_count": 71,
     "metadata": {},
     "output_type": "execute_result"
    }
   ],
   "source": [
    "df1.index = df1['id_a'] # podemos alterar a coluna índice\n",
    "df1.head(2)"
   ]
  },
  {
   "cell_type": "markdown",
   "metadata": {},
   "source": [
    "Neste caso, como substituímos a coluna índice pela coluna `id_a`, não tem necessidade de ter uma coluna repetida. Podemos deletar colunas e linhas de um dataframe usando o método `.drop` e indicando o eixo que estamos nos referindo. "
   ]
  },
  {
   "cell_type": "code",
   "execution_count": 72,
   "metadata": {},
   "outputs": [
    {
     "data": {
      "text/html": [
       "<div>\n",
       "<style scoped>\n",
       "    .dataframe tbody tr th:only-of-type {\n",
       "        vertical-align: middle;\n",
       "    }\n",
       "\n",
       "    .dataframe tbody tr th {\n",
       "        vertical-align: top;\n",
       "    }\n",
       "\n",
       "    .dataframe thead th {\n",
       "        text-align: right;\n",
       "    }\n",
       "</style>\n",
       "<table border=\"1\" class=\"dataframe\">\n",
       "  <thead>\n",
       "    <tr style=\"text-align: right;\">\n",
       "      <th></th>\n",
       "      <th>Ano 1970</th>\n",
       "      <th>Ano 1971</th>\n",
       "      <th>Ano 1972</th>\n",
       "      <th>Ano 1973</th>\n",
       "      <th>Ano 1974</th>\n",
       "      <th>Ano 1975</th>\n",
       "      <th>Ano 1976</th>\n",
       "      <th>Ano 1977</th>\n",
       "      <th>Ano 1978</th>\n",
       "      <th>Ano 1979</th>\n",
       "      <th>...</th>\n",
       "      <th>Ano 2009</th>\n",
       "      <th>Ano 2010</th>\n",
       "      <th>Ano 2011</th>\n",
       "      <th>Ano 2012</th>\n",
       "      <th>Ano 2013</th>\n",
       "      <th>Ano 2014</th>\n",
       "      <th>Ano 2015</th>\n",
       "      <th>Ano 2016</th>\n",
       "      <th>Ano 2017</th>\n",
       "      <th>Ano 2018</th>\n",
       "    </tr>\n",
       "    <tr>\n",
       "      <th>id_a</th>\n",
       "      <th></th>\n",
       "      <th></th>\n",
       "      <th></th>\n",
       "      <th></th>\n",
       "      <th></th>\n",
       "      <th></th>\n",
       "      <th></th>\n",
       "      <th></th>\n",
       "      <th></th>\n",
       "      <th></th>\n",
       "      <th></th>\n",
       "      <th></th>\n",
       "      <th></th>\n",
       "      <th></th>\n",
       "      <th></th>\n",
       "      <th></th>\n",
       "      <th></th>\n",
       "      <th></th>\n",
       "      <th></th>\n",
       "      <th></th>\n",
       "      <th></th>\n",
       "    </tr>\n",
       "  </thead>\n",
       "  <tbody>\n",
       "    <tr>\n",
       "      <td>1</td>\n",
       "      <td>NaN</td>\n",
       "      <td>NaN</td>\n",
       "      <td>NaN</td>\n",
       "      <td>NaN</td>\n",
       "      <td>NaN</td>\n",
       "      <td>NaN</td>\n",
       "      <td>NaN</td>\n",
       "      <td>NaN</td>\n",
       "      <td>NaN</td>\n",
       "      <td>NaN</td>\n",
       "      <td>...</td>\n",
       "      <td>0.0</td>\n",
       "      <td>0.0</td>\n",
       "      <td>0.0</td>\n",
       "      <td>0.0</td>\n",
       "      <td>0.0</td>\n",
       "      <td>0.0</td>\n",
       "      <td>0.0</td>\n",
       "      <td>0.0</td>\n",
       "      <td>0.0</td>\n",
       "      <td>0</td>\n",
       "    </tr>\n",
       "    <tr>\n",
       "      <td>2</td>\n",
       "      <td>NaN</td>\n",
       "      <td>NaN</td>\n",
       "      <td>NaN</td>\n",
       "      <td>NaN</td>\n",
       "      <td>NaN</td>\n",
       "      <td>NaN</td>\n",
       "      <td>NaN</td>\n",
       "      <td>0.0</td>\n",
       "      <td>0.0</td>\n",
       "      <td>0.0</td>\n",
       "      <td>...</td>\n",
       "      <td>0.0</td>\n",
       "      <td>0.0</td>\n",
       "      <td>0.0</td>\n",
       "      <td>0.0</td>\n",
       "      <td>0.0</td>\n",
       "      <td>0.0</td>\n",
       "      <td>0.0</td>\n",
       "      <td>0.0</td>\n",
       "      <td>0.0</td>\n",
       "      <td>0</td>\n",
       "    </tr>\n",
       "  </tbody>\n",
       "</table>\n",
       "<p>2 rows × 49 columns</p>\n",
       "</div>"
      ],
      "text/plain": [
       "      Ano 1970  Ano 1971  Ano 1972  Ano 1973  Ano 1974  Ano 1975  Ano 1976  \\\n",
       "id_a                                                                         \n",
       "1          NaN       NaN       NaN       NaN       NaN       NaN       NaN   \n",
       "2          NaN       NaN       NaN       NaN       NaN       NaN       NaN   \n",
       "\n",
       "      Ano 1977  Ano 1978  Ano 1979  ...  Ano 2009  Ano 2010  Ano 2011  \\\n",
       "id_a                                ...                                 \n",
       "1          NaN       NaN       NaN  ...       0.0       0.0       0.0   \n",
       "2          0.0       0.0       0.0  ...       0.0       0.0       0.0   \n",
       "\n",
       "      Ano 2012  Ano 2013  Ano 2014  Ano 2015  Ano 2016  Ano 2017  Ano 2018  \n",
       "id_a                                                                        \n",
       "1          0.0       0.0       0.0       0.0       0.0       0.0         0  \n",
       "2          0.0       0.0       0.0       0.0       0.0       0.0         0  \n",
       "\n",
       "[2 rows x 49 columns]"
      ]
     },
     "execution_count": 72,
     "metadata": {},
     "output_type": "execute_result"
    }
   ],
   "source": [
    "df1.drop(columns=['id_a'], axis=1).head(2) # a atributo .drop, exclui coluna(s) (axis=1) ou linha(s) (axis=0)"
   ]
  },
  {
   "cell_type": "code",
   "execution_count": 73,
   "metadata": {},
   "outputs": [
    {
     "data": {
      "text/html": [
       "<div>\n",
       "<style scoped>\n",
       "    .dataframe tbody tr th:only-of-type {\n",
       "        vertical-align: middle;\n",
       "    }\n",
       "\n",
       "    .dataframe tbody tr th {\n",
       "        vertical-align: top;\n",
       "    }\n",
       "\n",
       "    .dataframe thead th {\n",
       "        text-align: right;\n",
       "    }\n",
       "</style>\n",
       "<table border=\"1\" class=\"dataframe\">\n",
       "  <thead>\n",
       "    <tr style=\"text-align: right;\">\n",
       "      <th></th>\n",
       "      <th>id_a</th>\n",
       "      <th>Ano 1970</th>\n",
       "      <th>Ano 1971</th>\n",
       "      <th>Ano 1972</th>\n",
       "      <th>Ano 1973</th>\n",
       "      <th>Ano 1974</th>\n",
       "      <th>Ano 1975</th>\n",
       "      <th>Ano 1976</th>\n",
       "      <th>Ano 1977</th>\n",
       "      <th>Ano 1978</th>\n",
       "      <th>...</th>\n",
       "      <th>Ano 2009</th>\n",
       "      <th>Ano 2010</th>\n",
       "      <th>Ano 2011</th>\n",
       "      <th>Ano 2012</th>\n",
       "      <th>Ano 2013</th>\n",
       "      <th>Ano 2014</th>\n",
       "      <th>Ano 2015</th>\n",
       "      <th>Ano 2016</th>\n",
       "      <th>Ano 2017</th>\n",
       "      <th>Ano 2018</th>\n",
       "    </tr>\n",
       "    <tr>\n",
       "      <th>id_a</th>\n",
       "      <th></th>\n",
       "      <th></th>\n",
       "      <th></th>\n",
       "      <th></th>\n",
       "      <th></th>\n",
       "      <th></th>\n",
       "      <th></th>\n",
       "      <th></th>\n",
       "      <th></th>\n",
       "      <th></th>\n",
       "      <th></th>\n",
       "      <th></th>\n",
       "      <th></th>\n",
       "      <th></th>\n",
       "      <th></th>\n",
       "      <th></th>\n",
       "      <th></th>\n",
       "      <th></th>\n",
       "      <th></th>\n",
       "      <th></th>\n",
       "      <th></th>\n",
       "    </tr>\n",
       "  </thead>\n",
       "  <tbody>\n",
       "    <tr>\n",
       "      <td>3</td>\n",
       "      <td>3</td>\n",
       "      <td>NaN</td>\n",
       "      <td>NaN</td>\n",
       "      <td>NaN</td>\n",
       "      <td>NaN</td>\n",
       "      <td>NaN</td>\n",
       "      <td>NaN</td>\n",
       "      <td>NaN</td>\n",
       "      <td>NaN</td>\n",
       "      <td>NaN</td>\n",
       "      <td>...</td>\n",
       "      <td>0.0</td>\n",
       "      <td>0.0</td>\n",
       "      <td>0.0</td>\n",
       "      <td>0.0</td>\n",
       "      <td>0.0</td>\n",
       "      <td>0.0</td>\n",
       "      <td>0.0</td>\n",
       "      <td>0.0</td>\n",
       "      <td>0.0</td>\n",
       "      <td>0</td>\n",
       "    </tr>\n",
       "    <tr>\n",
       "      <td>4</td>\n",
       "      <td>4</td>\n",
       "      <td>NaN</td>\n",
       "      <td>NaN</td>\n",
       "      <td>NaN</td>\n",
       "      <td>NaN</td>\n",
       "      <td>NaN</td>\n",
       "      <td>NaN</td>\n",
       "      <td>NaN</td>\n",
       "      <td>NaN</td>\n",
       "      <td>NaN</td>\n",
       "      <td>...</td>\n",
       "      <td>3.0</td>\n",
       "      <td>3.0</td>\n",
       "      <td>3.0</td>\n",
       "      <td>3.0</td>\n",
       "      <td>3.0</td>\n",
       "      <td>3.0</td>\n",
       "      <td>3.0</td>\n",
       "      <td>3.0</td>\n",
       "      <td>3.0</td>\n",
       "      <td>3</td>\n",
       "    </tr>\n",
       "    <tr>\n",
       "      <td>6</td>\n",
       "      <td>6</td>\n",
       "      <td>NaN</td>\n",
       "      <td>NaN</td>\n",
       "      <td>NaN</td>\n",
       "      <td>NaN</td>\n",
       "      <td>NaN</td>\n",
       "      <td>NaN</td>\n",
       "      <td>NaN</td>\n",
       "      <td>NaN</td>\n",
       "      <td>NaN</td>\n",
       "      <td>...</td>\n",
       "      <td>1.0</td>\n",
       "      <td>1.0</td>\n",
       "      <td>1.0</td>\n",
       "      <td>1.0</td>\n",
       "      <td>1.0</td>\n",
       "      <td>1.0</td>\n",
       "      <td>1.0</td>\n",
       "      <td>1.0</td>\n",
       "      <td>1.0</td>\n",
       "      <td>1</td>\n",
       "    </tr>\n",
       "    <tr>\n",
       "      <td>7</td>\n",
       "      <td>7</td>\n",
       "      <td>NaN</td>\n",
       "      <td>NaN</td>\n",
       "      <td>NaN</td>\n",
       "      <td>NaN</td>\n",
       "      <td>NaN</td>\n",
       "      <td>NaN</td>\n",
       "      <td>NaN</td>\n",
       "      <td>NaN</td>\n",
       "      <td>NaN</td>\n",
       "      <td>...</td>\n",
       "      <td>NaN</td>\n",
       "      <td>NaN</td>\n",
       "      <td>0.0</td>\n",
       "      <td>0.0</td>\n",
       "      <td>0.0</td>\n",
       "      <td>0.0</td>\n",
       "      <td>0.0</td>\n",
       "      <td>0.0</td>\n",
       "      <td>0.0</td>\n",
       "      <td>0</td>\n",
       "    </tr>\n",
       "    <tr>\n",
       "      <td>8</td>\n",
       "      <td>8</td>\n",
       "      <td>NaN</td>\n",
       "      <td>NaN</td>\n",
       "      <td>NaN</td>\n",
       "      <td>NaN</td>\n",
       "      <td>NaN</td>\n",
       "      <td>NaN</td>\n",
       "      <td>NaN</td>\n",
       "      <td>NaN</td>\n",
       "      <td>NaN</td>\n",
       "      <td>...</td>\n",
       "      <td>1.0</td>\n",
       "      <td>1.0</td>\n",
       "      <td>1.0</td>\n",
       "      <td>1.0</td>\n",
       "      <td>1.0</td>\n",
       "      <td>1.0</td>\n",
       "      <td>1.0</td>\n",
       "      <td>1.0</td>\n",
       "      <td>1.0</td>\n",
       "      <td>1</td>\n",
       "    </tr>\n",
       "  </tbody>\n",
       "</table>\n",
       "<p>5 rows × 50 columns</p>\n",
       "</div>"
      ],
      "text/plain": [
       "      id_a  Ano 1970  Ano 1971  Ano 1972  Ano 1973  Ano 1974  Ano 1975  \\\n",
       "id_a                                                                     \n",
       "3        3       NaN       NaN       NaN       NaN       NaN       NaN   \n",
       "4        4       NaN       NaN       NaN       NaN       NaN       NaN   \n",
       "6        6       NaN       NaN       NaN       NaN       NaN       NaN   \n",
       "7        7       NaN       NaN       NaN       NaN       NaN       NaN   \n",
       "8        8       NaN       NaN       NaN       NaN       NaN       NaN   \n",
       "\n",
       "      Ano 1976  Ano 1977  Ano 1978  ...  Ano 2009  Ano 2010  Ano 2011  \\\n",
       "id_a                                ...                                 \n",
       "3          NaN       NaN       NaN  ...       0.0       0.0       0.0   \n",
       "4          NaN       NaN       NaN  ...       3.0       3.0       3.0   \n",
       "6          NaN       NaN       NaN  ...       1.0       1.0       1.0   \n",
       "7          NaN       NaN       NaN  ...       NaN       NaN       0.0   \n",
       "8          NaN       NaN       NaN  ...       1.0       1.0       1.0   \n",
       "\n",
       "      Ano 2012  Ano 2013  Ano 2014  Ano 2015  Ano 2016  Ano 2017  Ano 2018  \n",
       "id_a                                                                        \n",
       "3          0.0       0.0       0.0       0.0       0.0       0.0         0  \n",
       "4          3.0       3.0       3.0       3.0       3.0       3.0         3  \n",
       "6          1.0       1.0       1.0       1.0       1.0       1.0         1  \n",
       "7          0.0       0.0       0.0       0.0       0.0       0.0         0  \n",
       "8          1.0       1.0       1.0       1.0       1.0       1.0         1  \n",
       "\n",
       "[5 rows x 50 columns]"
      ]
     },
     "execution_count": 73,
     "metadata": {},
     "output_type": "execute_result"
    }
   ],
   "source": [
    "df1.drop([1,2,5],axis=0).head() # para atualizar, tem que armazenar o resultado em outra (ou na mesma) variável"
   ]
  },
  {
   "cell_type": "code",
   "execution_count": 74,
   "metadata": {},
   "outputs": [
    {
     "data": {
      "text/html": [
       "<div>\n",
       "<style scoped>\n",
       "    .dataframe tbody tr th:only-of-type {\n",
       "        vertical-align: middle;\n",
       "    }\n",
       "\n",
       "    .dataframe tbody tr th {\n",
       "        vertical-align: top;\n",
       "    }\n",
       "\n",
       "    .dataframe thead th {\n",
       "        text-align: right;\n",
       "    }\n",
       "</style>\n",
       "<table border=\"1\" class=\"dataframe\">\n",
       "  <thead>\n",
       "    <tr style=\"text-align: right;\">\n",
       "      <th></th>\n",
       "      <th>id_a</th>\n",
       "      <th>Ano 1970</th>\n",
       "      <th>Ano 1971</th>\n",
       "      <th>Ano 1972</th>\n",
       "      <th>Ano 1973</th>\n",
       "      <th>Ano 1974</th>\n",
       "      <th>Ano 1975</th>\n",
       "      <th>Ano 1976</th>\n",
       "      <th>Ano 1977</th>\n",
       "      <th>Ano 1978</th>\n",
       "      <th>...</th>\n",
       "      <th>Ano 2009</th>\n",
       "      <th>Ano 2010</th>\n",
       "      <th>Ano 2011</th>\n",
       "      <th>Ano 2012</th>\n",
       "      <th>Ano 2013</th>\n",
       "      <th>Ano 2014</th>\n",
       "      <th>Ano 2015</th>\n",
       "      <th>Ano 2016</th>\n",
       "      <th>Ano 2017</th>\n",
       "      <th>Ano 2018</th>\n",
       "    </tr>\n",
       "  </thead>\n",
       "  <tbody>\n",
       "    <tr>\n",
       "      <td>1</td>\n",
       "      <td>1</td>\n",
       "      <td>NaN</td>\n",
       "      <td>NaN</td>\n",
       "      <td>NaN</td>\n",
       "      <td>NaN</td>\n",
       "      <td>NaN</td>\n",
       "      <td>NaN</td>\n",
       "      <td>NaN</td>\n",
       "      <td>NaN</td>\n",
       "      <td>NaN</td>\n",
       "      <td>...</td>\n",
       "      <td>0.0</td>\n",
       "      <td>0.0</td>\n",
       "      <td>0.0</td>\n",
       "      <td>0.0</td>\n",
       "      <td>0.0</td>\n",
       "      <td>0.0</td>\n",
       "      <td>0.0</td>\n",
       "      <td>0.0</td>\n",
       "      <td>0.0</td>\n",
       "      <td>0</td>\n",
       "    </tr>\n",
       "    <tr>\n",
       "      <td>2</td>\n",
       "      <td>2</td>\n",
       "      <td>NaN</td>\n",
       "      <td>NaN</td>\n",
       "      <td>NaN</td>\n",
       "      <td>NaN</td>\n",
       "      <td>NaN</td>\n",
       "      <td>NaN</td>\n",
       "      <td>NaN</td>\n",
       "      <td>0.0</td>\n",
       "      <td>0.0</td>\n",
       "      <td>...</td>\n",
       "      <td>0.0</td>\n",
       "      <td>0.0</td>\n",
       "      <td>0.0</td>\n",
       "      <td>0.0</td>\n",
       "      <td>0.0</td>\n",
       "      <td>0.0</td>\n",
       "      <td>0.0</td>\n",
       "      <td>0.0</td>\n",
       "      <td>0.0</td>\n",
       "      <td>0</td>\n",
       "    </tr>\n",
       "    <tr>\n",
       "      <td>3</td>\n",
       "      <td>3</td>\n",
       "      <td>NaN</td>\n",
       "      <td>NaN</td>\n",
       "      <td>NaN</td>\n",
       "      <td>NaN</td>\n",
       "      <td>NaN</td>\n",
       "      <td>NaN</td>\n",
       "      <td>NaN</td>\n",
       "      <td>NaN</td>\n",
       "      <td>NaN</td>\n",
       "      <td>...</td>\n",
       "      <td>0.0</td>\n",
       "      <td>0.0</td>\n",
       "      <td>0.0</td>\n",
       "      <td>0.0</td>\n",
       "      <td>0.0</td>\n",
       "      <td>0.0</td>\n",
       "      <td>0.0</td>\n",
       "      <td>0.0</td>\n",
       "      <td>0.0</td>\n",
       "      <td>0</td>\n",
       "    </tr>\n",
       "    <tr>\n",
       "      <td>4</td>\n",
       "      <td>4</td>\n",
       "      <td>NaN</td>\n",
       "      <td>NaN</td>\n",
       "      <td>NaN</td>\n",
       "      <td>NaN</td>\n",
       "      <td>NaN</td>\n",
       "      <td>NaN</td>\n",
       "      <td>NaN</td>\n",
       "      <td>NaN</td>\n",
       "      <td>NaN</td>\n",
       "      <td>...</td>\n",
       "      <td>3.0</td>\n",
       "      <td>3.0</td>\n",
       "      <td>3.0</td>\n",
       "      <td>3.0</td>\n",
       "      <td>3.0</td>\n",
       "      <td>3.0</td>\n",
       "      <td>3.0</td>\n",
       "      <td>3.0</td>\n",
       "      <td>3.0</td>\n",
       "      <td>3</td>\n",
       "    </tr>\n",
       "    <tr>\n",
       "      <td>5</td>\n",
       "      <td>5</td>\n",
       "      <td>NaN</td>\n",
       "      <td>NaN</td>\n",
       "      <td>NaN</td>\n",
       "      <td>NaN</td>\n",
       "      <td>NaN</td>\n",
       "      <td>NaN</td>\n",
       "      <td>NaN</td>\n",
       "      <td>NaN</td>\n",
       "      <td>NaN</td>\n",
       "      <td>...</td>\n",
       "      <td>NaN</td>\n",
       "      <td>NaN</td>\n",
       "      <td>NaN</td>\n",
       "      <td>0.0</td>\n",
       "      <td>0.0</td>\n",
       "      <td>0.0</td>\n",
       "      <td>0.0</td>\n",
       "      <td>1.0</td>\n",
       "      <td>1.0</td>\n",
       "      <td>1</td>\n",
       "    </tr>\n",
       "  </tbody>\n",
       "</table>\n",
       "<p>5 rows × 50 columns</p>\n",
       "</div>"
      ],
      "text/plain": [
       "   id_a  Ano 1970  Ano 1971  Ano 1972  Ano 1973  Ano 1974  Ano 1975  Ano 1976  \\\n",
       "1     1       NaN       NaN       NaN       NaN       NaN       NaN       NaN   \n",
       "2     2       NaN       NaN       NaN       NaN       NaN       NaN       NaN   \n",
       "3     3       NaN       NaN       NaN       NaN       NaN       NaN       NaN   \n",
       "4     4       NaN       NaN       NaN       NaN       NaN       NaN       NaN   \n",
       "5     5       NaN       NaN       NaN       NaN       NaN       NaN       NaN   \n",
       "\n",
       "   Ano 1977  Ano 1978  ...  Ano 2009  Ano 2010  Ano 2011  Ano 2012  Ano 2013  \\\n",
       "1       NaN       NaN  ...       0.0       0.0       0.0       0.0       0.0   \n",
       "2       0.0       0.0  ...       0.0       0.0       0.0       0.0       0.0   \n",
       "3       NaN       NaN  ...       0.0       0.0       0.0       0.0       0.0   \n",
       "4       NaN       NaN  ...       3.0       3.0       3.0       3.0       3.0   \n",
       "5       NaN       NaN  ...       NaN       NaN       NaN       0.0       0.0   \n",
       "\n",
       "   Ano 2014  Ano 2015  Ano 2016  Ano 2017  Ano 2018  \n",
       "1       0.0       0.0       0.0       0.0         0  \n",
       "2       0.0       0.0       0.0       0.0         0  \n",
       "3       0.0       0.0       0.0       0.0         0  \n",
       "4       3.0       3.0       3.0       3.0         3  \n",
       "5       0.0       0.0       1.0       1.0         1  \n",
       "\n",
       "[5 rows x 50 columns]"
      ]
     },
     "execution_count": 74,
     "metadata": {},
     "output_type": "execute_result"
    }
   ],
   "source": [
    "df1.index = [i for i in range(1,len(df1)+1)]\n",
    "df1.head()"
   ]
  },
  {
   "cell_type": "markdown",
   "metadata": {},
   "source": [
    "Quando coletamos dados, alguns campos podem estar faltando. E dependendo do tipo de análise que desejamos fazer, vamos precisar de um tratamento diferenciado. \n",
    "\n",
    "Trata-se do processo de **limpeza e preparação dos dados**. "
   ]
  },
  {
   "cell_type": "code",
   "execution_count": 75,
   "metadata": {},
   "outputs": [
    {
     "data": {
      "text/html": [
       "<div>\n",
       "<style scoped>\n",
       "    .dataframe tbody tr th:only-of-type {\n",
       "        vertical-align: middle;\n",
       "    }\n",
       "\n",
       "    .dataframe tbody tr th {\n",
       "        vertical-align: top;\n",
       "    }\n",
       "\n",
       "    .dataframe thead th {\n",
       "        text-align: right;\n",
       "    }\n",
       "</style>\n",
       "<table border=\"1\" class=\"dataframe\">\n",
       "  <thead>\n",
       "    <tr style=\"text-align: right;\">\n",
       "      <th></th>\n",
       "      <th>id_a</th>\n",
       "      <th>Ano 1970</th>\n",
       "      <th>Ano 1971</th>\n",
       "      <th>Ano 1972</th>\n",
       "      <th>Ano 1973</th>\n",
       "      <th>Ano 1974</th>\n",
       "      <th>Ano 1975</th>\n",
       "      <th>Ano 1976</th>\n",
       "      <th>Ano 1977</th>\n",
       "      <th>Ano 1978</th>\n",
       "      <th>...</th>\n",
       "      <th>Ano 2009</th>\n",
       "      <th>Ano 2010</th>\n",
       "      <th>Ano 2011</th>\n",
       "      <th>Ano 2012</th>\n",
       "      <th>Ano 2013</th>\n",
       "      <th>Ano 2014</th>\n",
       "      <th>Ano 2015</th>\n",
       "      <th>Ano 2016</th>\n",
       "      <th>Ano 2017</th>\n",
       "      <th>Ano 2018</th>\n",
       "    </tr>\n",
       "  </thead>\n",
       "  <tbody>\n",
       "    <tr>\n",
       "      <td>1</td>\n",
       "      <td>1</td>\n",
       "      <td>0.0</td>\n",
       "      <td>0.0</td>\n",
       "      <td>0.0</td>\n",
       "      <td>0.0</td>\n",
       "      <td>0.0</td>\n",
       "      <td>0.0</td>\n",
       "      <td>0.0</td>\n",
       "      <td>0.0</td>\n",
       "      <td>0.0</td>\n",
       "      <td>...</td>\n",
       "      <td>0.0</td>\n",
       "      <td>0.0</td>\n",
       "      <td>0.0</td>\n",
       "      <td>0.0</td>\n",
       "      <td>0.0</td>\n",
       "      <td>0.0</td>\n",
       "      <td>0.0</td>\n",
       "      <td>0.0</td>\n",
       "      <td>0.0</td>\n",
       "      <td>0</td>\n",
       "    </tr>\n",
       "    <tr>\n",
       "      <td>2</td>\n",
       "      <td>2</td>\n",
       "      <td>0.0</td>\n",
       "      <td>0.0</td>\n",
       "      <td>0.0</td>\n",
       "      <td>0.0</td>\n",
       "      <td>0.0</td>\n",
       "      <td>0.0</td>\n",
       "      <td>0.0</td>\n",
       "      <td>0.0</td>\n",
       "      <td>0.0</td>\n",
       "      <td>...</td>\n",
       "      <td>0.0</td>\n",
       "      <td>0.0</td>\n",
       "      <td>0.0</td>\n",
       "      <td>0.0</td>\n",
       "      <td>0.0</td>\n",
       "      <td>0.0</td>\n",
       "      <td>0.0</td>\n",
       "      <td>0.0</td>\n",
       "      <td>0.0</td>\n",
       "      <td>0</td>\n",
       "    </tr>\n",
       "    <tr>\n",
       "      <td>3</td>\n",
       "      <td>3</td>\n",
       "      <td>0.0</td>\n",
       "      <td>0.0</td>\n",
       "      <td>0.0</td>\n",
       "      <td>0.0</td>\n",
       "      <td>0.0</td>\n",
       "      <td>0.0</td>\n",
       "      <td>0.0</td>\n",
       "      <td>0.0</td>\n",
       "      <td>0.0</td>\n",
       "      <td>...</td>\n",
       "      <td>0.0</td>\n",
       "      <td>0.0</td>\n",
       "      <td>0.0</td>\n",
       "      <td>0.0</td>\n",
       "      <td>0.0</td>\n",
       "      <td>0.0</td>\n",
       "      <td>0.0</td>\n",
       "      <td>0.0</td>\n",
       "      <td>0.0</td>\n",
       "      <td>0</td>\n",
       "    </tr>\n",
       "    <tr>\n",
       "      <td>4</td>\n",
       "      <td>4</td>\n",
       "      <td>0.0</td>\n",
       "      <td>0.0</td>\n",
       "      <td>0.0</td>\n",
       "      <td>0.0</td>\n",
       "      <td>0.0</td>\n",
       "      <td>0.0</td>\n",
       "      <td>0.0</td>\n",
       "      <td>0.0</td>\n",
       "      <td>0.0</td>\n",
       "      <td>...</td>\n",
       "      <td>3.0</td>\n",
       "      <td>3.0</td>\n",
       "      <td>3.0</td>\n",
       "      <td>3.0</td>\n",
       "      <td>3.0</td>\n",
       "      <td>3.0</td>\n",
       "      <td>3.0</td>\n",
       "      <td>3.0</td>\n",
       "      <td>3.0</td>\n",
       "      <td>3</td>\n",
       "    </tr>\n",
       "    <tr>\n",
       "      <td>5</td>\n",
       "      <td>5</td>\n",
       "      <td>0.0</td>\n",
       "      <td>0.0</td>\n",
       "      <td>0.0</td>\n",
       "      <td>0.0</td>\n",
       "      <td>0.0</td>\n",
       "      <td>0.0</td>\n",
       "      <td>0.0</td>\n",
       "      <td>0.0</td>\n",
       "      <td>0.0</td>\n",
       "      <td>...</td>\n",
       "      <td>0.0</td>\n",
       "      <td>0.0</td>\n",
       "      <td>0.0</td>\n",
       "      <td>0.0</td>\n",
       "      <td>0.0</td>\n",
       "      <td>0.0</td>\n",
       "      <td>0.0</td>\n",
       "      <td>1.0</td>\n",
       "      <td>1.0</td>\n",
       "      <td>1</td>\n",
       "    </tr>\n",
       "  </tbody>\n",
       "</table>\n",
       "<p>5 rows × 50 columns</p>\n",
       "</div>"
      ],
      "text/plain": [
       "   id_a  Ano 1970  Ano 1971  Ano 1972  Ano 1973  Ano 1974  Ano 1975  Ano 1976  \\\n",
       "1     1       0.0       0.0       0.0       0.0       0.0       0.0       0.0   \n",
       "2     2       0.0       0.0       0.0       0.0       0.0       0.0       0.0   \n",
       "3     3       0.0       0.0       0.0       0.0       0.0       0.0       0.0   \n",
       "4     4       0.0       0.0       0.0       0.0       0.0       0.0       0.0   \n",
       "5     5       0.0       0.0       0.0       0.0       0.0       0.0       0.0   \n",
       "\n",
       "   Ano 1977  Ano 1978  ...  Ano 2009  Ano 2010  Ano 2011  Ano 2012  Ano 2013  \\\n",
       "1       0.0       0.0  ...       0.0       0.0       0.0       0.0       0.0   \n",
       "2       0.0       0.0  ...       0.0       0.0       0.0       0.0       0.0   \n",
       "3       0.0       0.0  ...       0.0       0.0       0.0       0.0       0.0   \n",
       "4       0.0       0.0  ...       3.0       3.0       3.0       3.0       3.0   \n",
       "5       0.0       0.0  ...       0.0       0.0       0.0       0.0       0.0   \n",
       "\n",
       "   Ano 2014  Ano 2015  Ano 2016  Ano 2017  Ano 2018  \n",
       "1       0.0       0.0       0.0       0.0         0  \n",
       "2       0.0       0.0       0.0       0.0         0  \n",
       "3       0.0       0.0       0.0       0.0         0  \n",
       "4       3.0       3.0       3.0       3.0         3  \n",
       "5       0.0       0.0       1.0       1.0         1  \n",
       "\n",
       "[5 rows x 50 columns]"
      ]
     },
     "execution_count": 75,
     "metadata": {},
     "output_type": "execute_result"
    }
   ],
   "source": [
    "df1_fillna = df1.fillna(0) # substitui todas as ocorrêcias de NaN's por zero\n",
    "df1_fillna.head()"
   ]
  },
  {
   "cell_type": "code",
   "execution_count": 76,
   "metadata": {},
   "outputs": [
    {
     "data": {
      "text/plain": [
       "30826"
      ]
     },
     "execution_count": 76,
     "metadata": {},
     "output_type": "execute_result"
    }
   ],
   "source": [
    "np.array(df1['Ano 2018']).sum()"
   ]
  },
  {
   "cell_type": "code",
   "execution_count": 77,
   "metadata": {},
   "outputs": [
    {
     "name": "stdout",
     "output_type": "stream",
     "text": [
      "nan\n",
      "29205.0\n"
     ]
    }
   ],
   "source": [
    "print(np.array(df1['Ano 2017']).sum())\n",
    "print(np.array(df1_fillna['Ano 2017']).sum())"
   ]
  },
  {
   "cell_type": "code",
   "execution_count": 78,
   "metadata": {},
   "outputs": [],
   "source": [
    "df_R2 = pd.read_csv('https://raw.githubusercontent.com/anacwagner/scopus-scraping/master/outputs/matlab/T_R2.csv',\n",
    "                sep=',',     \n",
    "                header=None,\n",
    "                names=['id_a', 'n', 'var', 'fval', 'r2']\n",
    "                 )"
   ]
  },
  {
   "cell_type": "code",
   "execution_count": 79,
   "metadata": {},
   "outputs": [
    {
     "data": {
      "text/html": [
       "<div>\n",
       "<style scoped>\n",
       "    .dataframe tbody tr th:only-of-type {\n",
       "        vertical-align: middle;\n",
       "    }\n",
       "\n",
       "    .dataframe tbody tr th {\n",
       "        vertical-align: top;\n",
       "    }\n",
       "\n",
       "    .dataframe thead th {\n",
       "        text-align: right;\n",
       "    }\n",
       "</style>\n",
       "<table border=\"1\" class=\"dataframe\">\n",
       "  <thead>\n",
       "    <tr style=\"text-align: right;\">\n",
       "      <th></th>\n",
       "      <th>id_a</th>\n",
       "      <th>n</th>\n",
       "      <th>var</th>\n",
       "      <th>fval</th>\n",
       "      <th>r2</th>\n",
       "    </tr>\n",
       "  </thead>\n",
       "  <tbody>\n",
       "    <tr>\n",
       "      <td>0</td>\n",
       "      <td>1</td>\n",
       "      <td>11.0</td>\n",
       "      <td>0.00000</td>\n",
       "      <td>7.308100e-11</td>\n",
       "      <td>NaN</td>\n",
       "    </tr>\n",
       "    <tr>\n",
       "      <td>1</td>\n",
       "      <td>2</td>\n",
       "      <td>42.0</td>\n",
       "      <td>0.00000</td>\n",
       "      <td>1.819300e-27</td>\n",
       "      <td>NaN</td>\n",
       "    </tr>\n",
       "    <tr>\n",
       "      <td>2</td>\n",
       "      <td>3</td>\n",
       "      <td>11.0</td>\n",
       "      <td>0.00000</td>\n",
       "      <td>7.308100e-11</td>\n",
       "      <td>NaN</td>\n",
       "    </tr>\n",
       "    <tr>\n",
       "      <td>3</td>\n",
       "      <td>4</td>\n",
       "      <td>39.0</td>\n",
       "      <td>0.58704</td>\n",
       "      <td>2.223400e+00</td>\n",
       "      <td>0.99986</td>\n",
       "    </tr>\n",
       "    <tr>\n",
       "      <td>4</td>\n",
       "      <td>5</td>\n",
       "      <td>7.0</td>\n",
       "      <td>0.28571</td>\n",
       "      <td>3.725300e-02</td>\n",
       "      <td>0.99999</td>\n",
       "    </tr>\n",
       "  </tbody>\n",
       "</table>\n",
       "</div>"
      ],
      "text/plain": [
       "   id_a     n      var          fval       r2\n",
       "0     1  11.0  0.00000  7.308100e-11      NaN\n",
       "1     2  42.0  0.00000  1.819300e-27      NaN\n",
       "2     3  11.0  0.00000  7.308100e-11      NaN\n",
       "3     4  39.0  0.58704  2.223400e+00  0.99986\n",
       "4     5   7.0  0.28571  3.725300e-02  0.99999"
      ]
     },
     "execution_count": 79,
     "metadata": {},
     "output_type": "execute_result"
    }
   ],
   "source": [
    "df_R2.head()"
   ]
  },
  {
   "cell_type": "code",
   "execution_count": 80,
   "metadata": {},
   "outputs": [
    {
     "name": "stdout",
     "output_type": "stream",
     "text": [
      "<class 'pandas.core.frame.DataFrame'>\n",
      "RangeIndex: 17382 entries, 0 to 17381\n",
      "Data columns (total 5 columns):\n",
      "id_a    17382 non-null int64\n",
      "n       16358 non-null float64\n",
      "var     16358 non-null float64\n",
      "fval    16358 non-null float64\n",
      "r2      8229 non-null float64\n",
      "dtypes: float64(4), int64(1)\n",
      "memory usage: 679.1 KB\n"
     ]
    }
   ],
   "source": [
    "df_R2.info() "
   ]
  },
  {
   "cell_type": "code",
   "execution_count": 81,
   "metadata": {},
   "outputs": [
    {
     "data": {
      "text/html": [
       "<div>\n",
       "<style scoped>\n",
       "    .dataframe tbody tr th:only-of-type {\n",
       "        vertical-align: middle;\n",
       "    }\n",
       "\n",
       "    .dataframe tbody tr th {\n",
       "        vertical-align: top;\n",
       "    }\n",
       "\n",
       "    .dataframe thead th {\n",
       "        text-align: right;\n",
       "    }\n",
       "</style>\n",
       "<table border=\"1\" class=\"dataframe\">\n",
       "  <thead>\n",
       "    <tr style=\"text-align: right;\">\n",
       "      <th></th>\n",
       "      <th>id_a</th>\n",
       "      <th>n</th>\n",
       "      <th>var</th>\n",
       "      <th>fval</th>\n",
       "      <th>r2</th>\n",
       "    </tr>\n",
       "  </thead>\n",
       "  <tbody>\n",
       "    <tr>\n",
       "      <td>3</td>\n",
       "      <td>4</td>\n",
       "      <td>39.0</td>\n",
       "      <td>0.587040</td>\n",
       "      <td>2.223400e+00</td>\n",
       "      <td>0.99986</td>\n",
       "    </tr>\n",
       "    <tr>\n",
       "      <td>4</td>\n",
       "      <td>5</td>\n",
       "      <td>7.0</td>\n",
       "      <td>0.285710</td>\n",
       "      <td>3.725300e-02</td>\n",
       "      <td>0.99999</td>\n",
       "    </tr>\n",
       "    <tr>\n",
       "      <td>5</td>\n",
       "      <td>6</td>\n",
       "      <td>23.0</td>\n",
       "      <td>0.083004</td>\n",
       "      <td>2.236300e-07</td>\n",
       "      <td>1.00000</td>\n",
       "    </tr>\n",
       "    <tr>\n",
       "      <td>7</td>\n",
       "      <td>8</td>\n",
       "      <td>27.0</td>\n",
       "      <td>0.259260</td>\n",
       "      <td>1.104700e+00</td>\n",
       "      <td>0.99976</td>\n",
       "    </tr>\n",
       "    <tr>\n",
       "      <td>8</td>\n",
       "      <td>9</td>\n",
       "      <td>6.0</td>\n",
       "      <td>0.166670</td>\n",
       "      <td>1.389600e-03</td>\n",
       "      <td>1.00000</td>\n",
       "    </tr>\n",
       "  </tbody>\n",
       "</table>\n",
       "</div>"
      ],
      "text/plain": [
       "   id_a     n       var          fval       r2\n",
       "3     4  39.0  0.587040  2.223400e+00  0.99986\n",
       "4     5   7.0  0.285710  3.725300e-02  0.99999\n",
       "5     6  23.0  0.083004  2.236300e-07  1.00000\n",
       "7     8  27.0  0.259260  1.104700e+00  0.99976\n",
       "8     9   6.0  0.166670  1.389600e-03  1.00000"
      ]
     },
     "execution_count": 81,
     "metadata": {},
     "output_type": "execute_result"
    }
   ],
   "source": [
    "df_R2_cleaned = df_R2.dropna() # remove todas as linhas que possuem NaN's\n",
    "df_R2_cleaned.head()"
   ]
  },
  {
   "cell_type": "code",
   "execution_count": 82,
   "metadata": {},
   "outputs": [
    {
     "data": {
      "text/plain": [
       "id_a     4.00000\n",
       "n       39.00000\n",
       "var      0.58704\n",
       "fval     2.22340\n",
       "r2       0.99986\n",
       "Name: 3, dtype: float64"
      ]
     },
     "execution_count": 82,
     "metadata": {},
     "output_type": "execute_result"
    }
   ],
   "source": [
    "df_R2_cleaned.iloc[0] # acessa uma linha pelo sua posição, independente do índice"
   ]
  },
  {
   "cell_type": "code",
   "execution_count": 83,
   "metadata": {},
   "outputs": [
    {
     "data": {
      "text/plain": [
       "id_a     4.00000\n",
       "n       39.00000\n",
       "var      0.58704\n",
       "fval     2.22340\n",
       "r2       0.99986\n",
       "Name: 3, dtype: float64"
      ]
     },
     "execution_count": 83,
     "metadata": {},
     "output_type": "execute_result"
    }
   ],
   "source": [
    "df_R2_cleaned.loc[3] # acessa uma linha pelo seu índice"
   ]
  },
  {
   "cell_type": "code",
   "execution_count": 84,
   "metadata": {},
   "outputs": [
    {
     "data": {
      "text/html": [
       "<div>\n",
       "<style scoped>\n",
       "    .dataframe tbody tr th:only-of-type {\n",
       "        vertical-align: middle;\n",
       "    }\n",
       "\n",
       "    .dataframe tbody tr th {\n",
       "        vertical-align: top;\n",
       "    }\n",
       "\n",
       "    .dataframe thead th {\n",
       "        text-align: right;\n",
       "    }\n",
       "</style>\n",
       "<table border=\"1\" class=\"dataframe\">\n",
       "  <thead>\n",
       "    <tr style=\"text-align: right;\">\n",
       "      <th></th>\n",
       "      <th>id_a</th>\n",
       "      <th>n</th>\n",
       "      <th>var</th>\n",
       "      <th>fval</th>\n",
       "      <th>r2</th>\n",
       "    </tr>\n",
       "  </thead>\n",
       "  <tbody>\n",
       "    <tr>\n",
       "      <td>3</td>\n",
       "      <td>4</td>\n",
       "      <td>39.0</td>\n",
       "      <td>0.587040</td>\n",
       "      <td>2.223400e+00</td>\n",
       "      <td>0.99986</td>\n",
       "    </tr>\n",
       "    <tr>\n",
       "      <td>4</td>\n",
       "      <td>5</td>\n",
       "      <td>7.0</td>\n",
       "      <td>0.285710</td>\n",
       "      <td>3.725300e-02</td>\n",
       "      <td>0.99999</td>\n",
       "    </tr>\n",
       "    <tr>\n",
       "      <td>5</td>\n",
       "      <td>6</td>\n",
       "      <td>23.0</td>\n",
       "      <td>0.083004</td>\n",
       "      <td>2.236300e-07</td>\n",
       "      <td>1.00000</td>\n",
       "    </tr>\n",
       "    <tr>\n",
       "      <td>7</td>\n",
       "      <td>8</td>\n",
       "      <td>27.0</td>\n",
       "      <td>0.259260</td>\n",
       "      <td>1.104700e+00</td>\n",
       "      <td>0.99976</td>\n",
       "    </tr>\n",
       "    <tr>\n",
       "      <td>8</td>\n",
       "      <td>9</td>\n",
       "      <td>6.0</td>\n",
       "      <td>0.166670</td>\n",
       "      <td>1.389600e-03</td>\n",
       "      <td>1.00000</td>\n",
       "    </tr>\n",
       "    <tr>\n",
       "      <td>...</td>\n",
       "      <td>...</td>\n",
       "      <td>...</td>\n",
       "      <td>...</td>\n",
       "      <td>...</td>\n",
       "      <td>...</td>\n",
       "    </tr>\n",
       "    <tr>\n",
       "      <td>17372</td>\n",
       "      <td>18709</td>\n",
       "      <td>37.0</td>\n",
       "      <td>0.120120</td>\n",
       "      <td>1.806600e-02</td>\n",
       "      <td>1.00000</td>\n",
       "    </tr>\n",
       "    <tr>\n",
       "      <td>17373</td>\n",
       "      <td>18710</td>\n",
       "      <td>19.0</td>\n",
       "      <td>2.578900</td>\n",
       "      <td>3.012800e+00</td>\n",
       "      <td>0.99949</td>\n",
       "    </tr>\n",
       "    <tr>\n",
       "      <td>17376</td>\n",
       "      <td>18713</td>\n",
       "      <td>19.0</td>\n",
       "      <td>0.707600</td>\n",
       "      <td>2.641100e+00</td>\n",
       "      <td>0.99856</td>\n",
       "    </tr>\n",
       "    <tr>\n",
       "      <td>17378</td>\n",
       "      <td>18715</td>\n",
       "      <td>7.0</td>\n",
       "      <td>0.619050</td>\n",
       "      <td>1.978500e-05</td>\n",
       "      <td>1.00000</td>\n",
       "    </tr>\n",
       "    <tr>\n",
       "      <td>17380</td>\n",
       "      <td>18717</td>\n",
       "      <td>21.0</td>\n",
       "      <td>2.590500</td>\n",
       "      <td>2.171000e-02</td>\n",
       "      <td>1.00000</td>\n",
       "    </tr>\n",
       "  </tbody>\n",
       "</table>\n",
       "<p>8002 rows × 5 columns</p>\n",
       "</div>"
      ],
      "text/plain": [
       "        id_a     n       var          fval       r2\n",
       "3          4  39.0  0.587040  2.223400e+00  0.99986\n",
       "4          5   7.0  0.285710  3.725300e-02  0.99999\n",
       "5          6  23.0  0.083004  2.236300e-07  1.00000\n",
       "7          8  27.0  0.259260  1.104700e+00  0.99976\n",
       "8          9   6.0  0.166670  1.389600e-03  1.00000\n",
       "...      ...   ...       ...           ...      ...\n",
       "17372  18709  37.0  0.120120  1.806600e-02  1.00000\n",
       "17373  18710  19.0  2.578900  3.012800e+00  0.99949\n",
       "17376  18713  19.0  0.707600  2.641100e+00  0.99856\n",
       "17378  18715   7.0  0.619050  1.978500e-05  1.00000\n",
       "17380  18717  21.0  2.590500  2.171000e-02  1.00000\n",
       "\n",
       "[8002 rows x 5 columns]"
      ]
     },
     "execution_count": 84,
     "metadata": {},
     "output_type": "execute_result"
    }
   ],
   "source": [
    "df_R2_cleaned.loc[df_R2_cleaned.r2 > 0.98]"
   ]
  },
  {
   "cell_type": "code",
   "execution_count": 85,
   "metadata": {},
   "outputs": [
    {
     "data": {
      "text/plain": [
       "array([    4,     5,     6, ..., 18713, 18715, 18717])"
      ]
     },
     "execution_count": 85,
     "metadata": {},
     "output_type": "execute_result"
    }
   ],
   "source": [
    "np.array(df_R2_cleaned.loc[df_R2_cleaned.r2 > 0.98, 'id_a'])"
   ]
  },
  {
   "cell_type": "code",
   "execution_count": 86,
   "metadata": {},
   "outputs": [],
   "source": [
    "df_cit = pd.read_csv('https://raw.githubusercontent.com/anacwagner/scopus-scraping/master/outputs/var_cit_LOGIC.csv',\n",
    "                sep=','\n",
    "                 )"
   ]
  },
  {
   "cell_type": "code",
   "execution_count": 87,
   "metadata": {},
   "outputs": [
    {
     "data": {
      "text/plain": [
       "(326864, 7)"
      ]
     },
     "execution_count": 87,
     "metadata": {},
     "output_type": "execute_result"
    }
   ],
   "source": [
    "df_cit.shape"
   ]
  },
  {
   "cell_type": "code",
   "execution_count": 88,
   "metadata": {},
   "outputs": [
    {
     "data": {
      "text/html": [
       "<div>\n",
       "<style scoped>\n",
       "    .dataframe tbody tr th:only-of-type {\n",
       "        vertical-align: middle;\n",
       "    }\n",
       "\n",
       "    .dataframe tbody tr th {\n",
       "        vertical-align: top;\n",
       "    }\n",
       "\n",
       "    .dataframe thead th {\n",
       "        text-align: right;\n",
       "    }\n",
       "</style>\n",
       "<table border=\"1\" class=\"dataframe\">\n",
       "  <thead>\n",
       "    <tr style=\"text-align: right;\">\n",
       "      <th></th>\n",
       "      <th>SOURCE_A_ID</th>\n",
       "      <th>SOURCE_A_YEAR</th>\n",
       "      <th>SOURCE_J_ID</th>\n",
       "      <th>TARGET_A_ID</th>\n",
       "      <th>TARGET_A_YEAR</th>\n",
       "      <th>TARGET_J_ID</th>\n",
       "      <th>EDITIONS</th>\n",
       "    </tr>\n",
       "  </thead>\n",
       "  <tbody>\n",
       "    <tr>\n",
       "      <td>1</td>\n",
       "      <td>1</td>\n",
       "      <td>2008</td>\n",
       "      <td>1</td>\n",
       "      <td>1232</td>\n",
       "      <td>2003</td>\n",
       "      <td>1</td>\n",
       "      <td>12</td>\n",
       "    </tr>\n",
       "    <tr>\n",
       "      <td>2</td>\n",
       "      <td>1</td>\n",
       "      <td>2008</td>\n",
       "      <td>1</td>\n",
       "      <td>18720</td>\n",
       "      <td>2003</td>\n",
       "      <td>19</td>\n",
       "      <td>1</td>\n",
       "    </tr>\n",
       "    <tr>\n",
       "      <td>3</td>\n",
       "      <td>1</td>\n",
       "      <td>2008</td>\n",
       "      <td>1</td>\n",
       "      <td>18102</td>\n",
       "      <td>2005</td>\n",
       "      <td>1</td>\n",
       "      <td>9</td>\n",
       "    </tr>\n",
       "    <tr>\n",
       "      <td>4</td>\n",
       "      <td>1</td>\n",
       "      <td>2008</td>\n",
       "      <td>1</td>\n",
       "      <td>9849</td>\n",
       "      <td>1973</td>\n",
       "      <td>1</td>\n",
       "      <td>7</td>\n",
       "    </tr>\n",
       "    <tr>\n",
       "      <td>5</td>\n",
       "      <td>1</td>\n",
       "      <td>2008</td>\n",
       "      <td>1</td>\n",
       "      <td>18723</td>\n",
       "      <td>1993</td>\n",
       "      <td>20</td>\n",
       "      <td>1</td>\n",
       "    </tr>\n",
       "  </tbody>\n",
       "</table>\n",
       "</div>"
      ],
      "text/plain": [
       "   SOURCE_A_ID  SOURCE_A_YEAR  SOURCE_J_ID  TARGET_A_ID  TARGET_A_YEAR  \\\n",
       "1            1           2008            1         1232           2003   \n",
       "2            1           2008            1        18720           2003   \n",
       "3            1           2008            1        18102           2005   \n",
       "4            1           2008            1         9849           1973   \n",
       "5            1           2008            1        18723           1993   \n",
       "\n",
       "   TARGET_J_ID  EDITIONS  \n",
       "1            1        12  \n",
       "2           19         1  \n",
       "3            1         9  \n",
       "4            1         7  \n",
       "5           20         1  "
      ]
     },
     "execution_count": 88,
     "metadata": {},
     "output_type": "execute_result"
    }
   ],
   "source": [
    "df_cit.index+=1\n",
    "df_cit.head()"
   ]
  },
  {
   "cell_type": "code",
   "execution_count": 89,
   "metadata": {},
   "outputs": [
    {
     "data": {
      "text/plain": [
       "8133     1590\n",
       "14901     560\n",
       "9114      534\n",
       "17057     468\n",
       "17343     443\n",
       "         ... \n",
       "941         1\n",
       "248         1\n",
       "3388        1\n",
       "9093        1\n",
       "17572       1\n",
       "Name: SOURCE_A_ID, Length: 17382, dtype: int64"
      ]
     },
     "execution_count": 89,
     "metadata": {},
     "output_type": "execute_result"
    }
   ],
   "source": [
    "pd.value_counts(df_cit.SOURCE_A_ID)"
   ]
  },
  {
   "cell_type": "code",
   "execution_count": 90,
   "metadata": {},
   "outputs": [
    {
     "data": {
      "text/plain": [
       "array([1590,  560,  534, ...,    1,    1,    1])"
      ]
     },
     "execution_count": 90,
     "metadata": {},
     "output_type": "execute_result"
    }
   ],
   "source": [
    "np.array(pd.value_counts(df_cit.SOURCE_A_ID))"
   ]
  },
  {
   "cell_type": "code",
   "execution_count": 91,
   "metadata": {},
   "outputs": [
    {
     "data": {
      "text/html": [
       "<div>\n",
       "<style scoped>\n",
       "    .dataframe tbody tr th:only-of-type {\n",
       "        vertical-align: middle;\n",
       "    }\n",
       "\n",
       "    .dataframe tbody tr th {\n",
       "        vertical-align: top;\n",
       "    }\n",
       "\n",
       "    .dataframe thead th {\n",
       "        text-align: right;\n",
       "    }\n",
       "</style>\n",
       "<table border=\"1\" class=\"dataframe\">\n",
       "  <thead>\n",
       "    <tr style=\"text-align: right;\">\n",
       "      <th></th>\n",
       "      <th>SOURCE_A_ID</th>\n",
       "      <th>SOURCE_A_YEAR</th>\n",
       "      <th>SOURCE_J_ID</th>\n",
       "      <th>TARGET_A_ID</th>\n",
       "      <th>TARGET_A_YEAR</th>\n",
       "      <th>TARGET_J_ID</th>\n",
       "      <th>EDITIONS</th>\n",
       "    </tr>\n",
       "  </thead>\n",
       "  <tbody>\n",
       "    <tr>\n",
       "      <td>141387</td>\n",
       "      <td>8133</td>\n",
       "      <td>2007</td>\n",
       "      <td>10</td>\n",
       "      <td>106457</td>\n",
       "      <td>2002</td>\n",
       "      <td>28573</td>\n",
       "      <td>5</td>\n",
       "    </tr>\n",
       "    <tr>\n",
       "      <td>141388</td>\n",
       "      <td>8133</td>\n",
       "      <td>2007</td>\n",
       "      <td>10</td>\n",
       "      <td>106458</td>\n",
       "      <td>1991</td>\n",
       "      <td>28574</td>\n",
       "      <td>5</td>\n",
       "    </tr>\n",
       "    <tr>\n",
       "      <td>141389</td>\n",
       "      <td>8133</td>\n",
       "      <td>2007</td>\n",
       "      <td>10</td>\n",
       "      <td>106459</td>\n",
       "      <td>1991</td>\n",
       "      <td>28575</td>\n",
       "      <td>5</td>\n",
       "    </tr>\n",
       "    <tr>\n",
       "      <td>141390</td>\n",
       "      <td>8133</td>\n",
       "      <td>2007</td>\n",
       "      <td>10</td>\n",
       "      <td>106460</td>\n",
       "      <td>1991</td>\n",
       "      <td>28575</td>\n",
       "      <td>5</td>\n",
       "    </tr>\n",
       "    <tr>\n",
       "      <td>141391</td>\n",
       "      <td>8133</td>\n",
       "      <td>2007</td>\n",
       "      <td>10</td>\n",
       "      <td>106461</td>\n",
       "      <td>0</td>\n",
       "      <td>24</td>\n",
       "      <td>9</td>\n",
       "    </tr>\n",
       "    <tr>\n",
       "      <td>...</td>\n",
       "      <td>...</td>\n",
       "      <td>...</td>\n",
       "      <td>...</td>\n",
       "      <td>...</td>\n",
       "      <td>...</td>\n",
       "      <td>...</td>\n",
       "      <td>...</td>\n",
       "    </tr>\n",
       "    <tr>\n",
       "      <td>142972</td>\n",
       "      <td>8133</td>\n",
       "      <td>2007</td>\n",
       "      <td>10</td>\n",
       "      <td>108007</td>\n",
       "      <td>2003</td>\n",
       "      <td>28835</td>\n",
       "      <td>5</td>\n",
       "    </tr>\n",
       "    <tr>\n",
       "      <td>142973</td>\n",
       "      <td>8133</td>\n",
       "      <td>2007</td>\n",
       "      <td>10</td>\n",
       "      <td>108008</td>\n",
       "      <td>2004</td>\n",
       "      <td>28836</td>\n",
       "      <td>6</td>\n",
       "    </tr>\n",
       "    <tr>\n",
       "      <td>142974</td>\n",
       "      <td>8133</td>\n",
       "      <td>2007</td>\n",
       "      <td>10</td>\n",
       "      <td>108009</td>\n",
       "      <td>2002</td>\n",
       "      <td>2262</td>\n",
       "      <td>11</td>\n",
       "    </tr>\n",
       "    <tr>\n",
       "      <td>142975</td>\n",
       "      <td>8133</td>\n",
       "      <td>2007</td>\n",
       "      <td>10</td>\n",
       "      <td>108010</td>\n",
       "      <td>2004</td>\n",
       "      <td>28634</td>\n",
       "      <td>5</td>\n",
       "    </tr>\n",
       "    <tr>\n",
       "      <td>142976</td>\n",
       "      <td>8133</td>\n",
       "      <td>2007</td>\n",
       "      <td>10</td>\n",
       "      <td>107219</td>\n",
       "      <td>1994</td>\n",
       "      <td>1170</td>\n",
       "      <td>1</td>\n",
       "    </tr>\n",
       "  </tbody>\n",
       "</table>\n",
       "<p>1590 rows × 7 columns</p>\n",
       "</div>"
      ],
      "text/plain": [
       "        SOURCE_A_ID  SOURCE_A_YEAR  SOURCE_J_ID  TARGET_A_ID  TARGET_A_YEAR  \\\n",
       "141387         8133           2007           10       106457           2002   \n",
       "141388         8133           2007           10       106458           1991   \n",
       "141389         8133           2007           10       106459           1991   \n",
       "141390         8133           2007           10       106460           1991   \n",
       "141391         8133           2007           10       106461              0   \n",
       "...             ...            ...          ...          ...            ...   \n",
       "142972         8133           2007           10       108007           2003   \n",
       "142973         8133           2007           10       108008           2004   \n",
       "142974         8133           2007           10       108009           2002   \n",
       "142975         8133           2007           10       108010           2004   \n",
       "142976         8133           2007           10       107219           1994   \n",
       "\n",
       "        TARGET_J_ID  EDITIONS  \n",
       "141387        28573         5  \n",
       "141388        28574         5  \n",
       "141389        28575         5  \n",
       "141390        28575         5  \n",
       "141391           24         9  \n",
       "...             ...       ...  \n",
       "142972        28835         5  \n",
       "142973        28836         6  \n",
       "142974         2262        11  \n",
       "142975        28634         5  \n",
       "142976         1170         1  \n",
       "\n",
       "[1590 rows x 7 columns]"
      ]
     },
     "execution_count": 91,
     "metadata": {},
     "output_type": "execute_result"
    }
   ],
   "source": [
    "df_cit[df_cit.SOURCE_A_ID == 8133]"
   ]
  },
  {
   "cell_type": "markdown",
   "metadata": {},
   "source": [
    "* O método `.duplicated()` retorna uma série booleana indicando se cada linha é uma duplicata (foi observada em uma linha anterior) ou não. \n",
    "\n",
    "\n",
    "* De maneira semelhante, `.drop_duplicates()` retorna um DataFrame em que a matriz duplicada é False."
   ]
  },
  {
   "cell_type": "code",
   "execution_count": 92,
   "metadata": {},
   "outputs": [
    {
     "data": {
      "text/plain": [
       "1         False\n",
       "2          True\n",
       "3          True\n",
       "4          True\n",
       "5          True\n",
       "          ...  \n",
       "326860     True\n",
       "326861     True\n",
       "326862     True\n",
       "326863     True\n",
       "326864     True\n",
       "Name: SOURCE_A_ID, Length: 326864, dtype: bool"
      ]
     },
     "execution_count": 92,
     "metadata": {},
     "output_type": "execute_result"
    }
   ],
   "source": [
    "df_cit.SOURCE_A_ID.duplicated()\n",
    "#df_cit[df_cit.SOURCE_A_ID.duplicated()]"
   ]
  },
  {
   "cell_type": "code",
   "execution_count": 93,
   "metadata": {},
   "outputs": [
    {
     "data": {
      "text/html": [
       "<div>\n",
       "<style scoped>\n",
       "    .dataframe tbody tr th:only-of-type {\n",
       "        vertical-align: middle;\n",
       "    }\n",
       "\n",
       "    .dataframe tbody tr th {\n",
       "        vertical-align: top;\n",
       "    }\n",
       "\n",
       "    .dataframe thead th {\n",
       "        text-align: right;\n",
       "    }\n",
       "</style>\n",
       "<table border=\"1\" class=\"dataframe\">\n",
       "  <thead>\n",
       "    <tr style=\"text-align: right;\">\n",
       "      <th></th>\n",
       "      <th>SOURCE_A_ID</th>\n",
       "      <th>SOURCE_A_YEAR</th>\n",
       "      <th>SOURCE_J_ID</th>\n",
       "      <th>TARGET_A_ID</th>\n",
       "      <th>TARGET_A_YEAR</th>\n",
       "      <th>TARGET_J_ID</th>\n",
       "      <th>EDITIONS</th>\n",
       "    </tr>\n",
       "  </thead>\n",
       "  <tbody>\n",
       "    <tr>\n",
       "      <td>1</td>\n",
       "      <td>1</td>\n",
       "      <td>2008</td>\n",
       "      <td>1</td>\n",
       "      <td>1232</td>\n",
       "      <td>2003</td>\n",
       "      <td>1</td>\n",
       "      <td>12</td>\n",
       "    </tr>\n",
       "    <tr>\n",
       "      <td>7</td>\n",
       "      <td>2</td>\n",
       "      <td>1977</td>\n",
       "      <td>2</td>\n",
       "      <td>18725</td>\n",
       "      <td>1969</td>\n",
       "      <td>22</td>\n",
       "      <td>12</td>\n",
       "    </tr>\n",
       "    <tr>\n",
       "      <td>15</td>\n",
       "      <td>3</td>\n",
       "      <td>2008</td>\n",
       "      <td>3</td>\n",
       "      <td>18732</td>\n",
       "      <td>2000</td>\n",
       "      <td>29</td>\n",
       "      <td>10</td>\n",
       "    </tr>\n",
       "    <tr>\n",
       "      <td>59</td>\n",
       "      <td>4</td>\n",
       "      <td>1980</td>\n",
       "      <td>1</td>\n",
       "      <td>18776</td>\n",
       "      <td>1955</td>\n",
       "      <td>64</td>\n",
       "      <td>12</td>\n",
       "    </tr>\n",
       "    <tr>\n",
       "      <td>79</td>\n",
       "      <td>5</td>\n",
       "      <td>2012</td>\n",
       "      <td>4</td>\n",
       "      <td>18796</td>\n",
       "      <td>1985</td>\n",
       "      <td>47</td>\n",
       "      <td>7</td>\n",
       "    </tr>\n",
       "  </tbody>\n",
       "</table>\n",
       "</div>"
      ],
      "text/plain": [
       "    SOURCE_A_ID  SOURCE_A_YEAR  SOURCE_J_ID  TARGET_A_ID  TARGET_A_YEAR  \\\n",
       "1             1           2008            1         1232           2003   \n",
       "7             2           1977            2        18725           1969   \n",
       "15            3           2008            3        18732           2000   \n",
       "59            4           1980            1        18776           1955   \n",
       "79            5           2012            4        18796           1985   \n",
       "\n",
       "    TARGET_J_ID  EDITIONS  \n",
       "1             1        12  \n",
       "7            22        12  \n",
       "15           29        10  \n",
       "59           64        12  \n",
       "79           47         7  "
      ]
     },
     "execution_count": 93,
     "metadata": {},
     "output_type": "execute_result"
    }
   ],
   "source": [
    "df_cit_drop = df_cit.drop_duplicates('SOURCE_A_ID' , keep='first')\n",
    "df_cit_drop.head()"
   ]
  },
  {
   "cell_type": "code",
   "execution_count": 94,
   "metadata": {},
   "outputs": [
    {
     "data": {
      "text/plain": [
       "array([ 1,  2,  3, ..., 12, 13,  6])"
      ]
     },
     "execution_count": 94,
     "metadata": {},
     "output_type": "execute_result"
    }
   ],
   "source": [
    "id_j = np.array(df_cit_drop.SOURCE_J_ID)\n",
    "id_j"
   ]
  },
  {
   "cell_type": "code",
   "execution_count": 95,
   "metadata": {},
   "outputs": [],
   "source": [
    "df_R2['id_j'] = id_j"
   ]
  },
  {
   "cell_type": "code",
   "execution_count": 96,
   "metadata": {},
   "outputs": [
    {
     "data": {
      "text/html": [
       "<div>\n",
       "<style scoped>\n",
       "    .dataframe tbody tr th:only-of-type {\n",
       "        vertical-align: middle;\n",
       "    }\n",
       "\n",
       "    .dataframe tbody tr th {\n",
       "        vertical-align: top;\n",
       "    }\n",
       "\n",
       "    .dataframe thead th {\n",
       "        text-align: right;\n",
       "    }\n",
       "</style>\n",
       "<table border=\"1\" class=\"dataframe\">\n",
       "  <thead>\n",
       "    <tr style=\"text-align: right;\">\n",
       "      <th></th>\n",
       "      <th>id_a</th>\n",
       "      <th>n</th>\n",
       "      <th>var</th>\n",
       "      <th>fval</th>\n",
       "      <th>r2</th>\n",
       "      <th>id_j</th>\n",
       "    </tr>\n",
       "  </thead>\n",
       "  <tbody>\n",
       "    <tr>\n",
       "      <td>0</td>\n",
       "      <td>1</td>\n",
       "      <td>11.0</td>\n",
       "      <td>0.00000</td>\n",
       "      <td>7.308100e-11</td>\n",
       "      <td>NaN</td>\n",
       "      <td>1</td>\n",
       "    </tr>\n",
       "    <tr>\n",
       "      <td>1</td>\n",
       "      <td>2</td>\n",
       "      <td>42.0</td>\n",
       "      <td>0.00000</td>\n",
       "      <td>1.819300e-27</td>\n",
       "      <td>NaN</td>\n",
       "      <td>2</td>\n",
       "    </tr>\n",
       "    <tr>\n",
       "      <td>2</td>\n",
       "      <td>3</td>\n",
       "      <td>11.0</td>\n",
       "      <td>0.00000</td>\n",
       "      <td>7.308100e-11</td>\n",
       "      <td>NaN</td>\n",
       "      <td>3</td>\n",
       "    </tr>\n",
       "    <tr>\n",
       "      <td>3</td>\n",
       "      <td>4</td>\n",
       "      <td>39.0</td>\n",
       "      <td>0.58704</td>\n",
       "      <td>2.223400e+00</td>\n",
       "      <td>0.99986</td>\n",
       "      <td>1</td>\n",
       "    </tr>\n",
       "    <tr>\n",
       "      <td>4</td>\n",
       "      <td>5</td>\n",
       "      <td>7.0</td>\n",
       "      <td>0.28571</td>\n",
       "      <td>3.725300e-02</td>\n",
       "      <td>0.99999</td>\n",
       "      <td>4</td>\n",
       "    </tr>\n",
       "  </tbody>\n",
       "</table>\n",
       "</div>"
      ],
      "text/plain": [
       "   id_a     n      var          fval       r2  id_j\n",
       "0     1  11.0  0.00000  7.308100e-11      NaN     1\n",
       "1     2  42.0  0.00000  1.819300e-27      NaN     2\n",
       "2     3  11.0  0.00000  7.308100e-11      NaN     3\n",
       "3     4  39.0  0.58704  2.223400e+00  0.99986     1\n",
       "4     5   7.0  0.28571  3.725300e-02  0.99999     4"
      ]
     },
     "execution_count": 96,
     "metadata": {},
     "output_type": "execute_result"
    }
   ],
   "source": [
    "df_R2.head()"
   ]
  },
  {
   "cell_type": "code",
   "execution_count": 97,
   "metadata": {},
   "outputs": [
    {
     "data": {
      "text/plain": [
       "id_j\n",
       "1     48846.0\n",
       "2     51069.0\n",
       "3      1671.0\n",
       "4      3983.0\n",
       "5     28702.0\n",
       "6     23049.0\n",
       "7     35747.0\n",
       "8     37259.0\n",
       "9      2984.0\n",
       "10     6584.0\n",
       "11      957.0\n",
       "12    56540.0\n",
       "13    16235.0\n",
       "14    13262.0\n",
       "15     3544.0\n",
       "16     2469.0\n",
       "17      618.0\n",
       "18      201.0\n",
       "Name: n, dtype: float64"
      ]
     },
     "execution_count": 97,
     "metadata": {},
     "output_type": "execute_result"
    }
   ],
   "source": [
    "df_R2.groupby('id_j').n.sum()"
   ]
  },
  {
   "cell_type": "code",
   "execution_count": 98,
   "metadata": {},
   "outputs": [],
   "source": [
    "df_param = pd.read_csv('https://raw.githubusercontent.com/anacwagner/scopus-scraping/master/outputs/matlab/T_param.csv',\n",
    "                sep=',',\n",
    "                header=None,\n",
    "                names = ['id_a', 'fitness', 'immediacy', 'longevity', 'id_j']\n",
    "                 )"
   ]
  },
  {
   "cell_type": "code",
   "execution_count": 99,
   "metadata": {},
   "outputs": [
    {
     "data": {
      "text/html": [
       "<div>\n",
       "<style scoped>\n",
       "    .dataframe tbody tr th:only-of-type {\n",
       "        vertical-align: middle;\n",
       "    }\n",
       "\n",
       "    .dataframe tbody tr th {\n",
       "        vertical-align: top;\n",
       "    }\n",
       "\n",
       "    .dataframe thead th {\n",
       "        text-align: right;\n",
       "    }\n",
       "</style>\n",
       "<table border=\"1\" class=\"dataframe\">\n",
       "  <thead>\n",
       "    <tr style=\"text-align: right;\">\n",
       "      <th></th>\n",
       "      <th>id_a</th>\n",
       "      <th>fitness</th>\n",
       "      <th>immediacy</th>\n",
       "      <th>longevity</th>\n",
       "      <th>id_j</th>\n",
       "    </tr>\n",
       "  </thead>\n",
       "  <tbody>\n",
       "    <tr>\n",
       "      <td>0</td>\n",
       "      <td>1</td>\n",
       "      <td>9.017600e-08</td>\n",
       "      <td>0.46073</td>\n",
       "      <td>0.22800</td>\n",
       "      <td>1</td>\n",
       "    </tr>\n",
       "    <tr>\n",
       "      <td>1</td>\n",
       "      <td>2</td>\n",
       "      <td>1.125000e-16</td>\n",
       "      <td>0.13028</td>\n",
       "      <td>0.05093</td>\n",
       "      <td>2</td>\n",
       "    </tr>\n",
       "    <tr>\n",
       "      <td>2</td>\n",
       "      <td>3</td>\n",
       "      <td>9.017600e-08</td>\n",
       "      <td>0.46073</td>\n",
       "      <td>0.22800</td>\n",
       "      <td>3</td>\n",
       "    </tr>\n",
       "    <tr>\n",
       "      <td>3</td>\n",
       "      <td>4</td>\n",
       "      <td>9.688700e-02</td>\n",
       "      <td>0.73605</td>\n",
       "      <td>0.84364</td>\n",
       "      <td>1</td>\n",
       "    </tr>\n",
       "    <tr>\n",
       "      <td>4</td>\n",
       "      <td>5</td>\n",
       "      <td>3.374000e-02</td>\n",
       "      <td>1.14490</td>\n",
       "      <td>0.32122</td>\n",
       "      <td>4</td>\n",
       "    </tr>\n",
       "  </tbody>\n",
       "</table>\n",
       "</div>"
      ],
      "text/plain": [
       "   id_a       fitness  immediacy  longevity  id_j\n",
       "0     1  9.017600e-08    0.46073    0.22800     1\n",
       "1     2  1.125000e-16    0.13028    0.05093     2\n",
       "2     3  9.017600e-08    0.46073    0.22800     3\n",
       "3     4  9.688700e-02    0.73605    0.84364     1\n",
       "4     5  3.374000e-02    1.14490    0.32122     4"
      ]
     },
     "execution_count": 99,
     "metadata": {},
     "output_type": "execute_result"
    }
   ],
   "source": [
    "df_param.head()"
   ]
  },
  {
   "cell_type": "markdown",
   "metadata": {},
   "source": [
    "## Matlplotlib"
   ]
  },
  {
   "cell_type": "code",
   "execution_count": 100,
   "metadata": {},
   "outputs": [],
   "source": [
    "import matplotlib.pyplot as plt #!pip install matplotlib\n",
    "#%matplotlib notebook"
   ]
  },
  {
   "cell_type": "code",
   "execution_count": 101,
   "metadata": {},
   "outputs": [
    {
     "data": {
      "image/png": "[encoded data removed]",
      "text/plain": [
       "<Figure size 432x288 with 1 Axes>"
      ]
     },
     "metadata": {
      "needs_background": "light"
     },
     "output_type": "display_data"
    }
   ],
   "source": [
    "plt.plot([1, 2, 3, 4]) #plt.plot([1, 2, 3, 4],[0, 1, 2, 3])\n",
    "#plt.plot([1, 2, 3, 4], 'ro')\n",
    "plt.title('Título')\n",
    "plt.xlabel('eixo x')\n",
    "plt.ylabel('eixo y')\n",
    "plt.show()"
   ]
  },
  {
   "cell_type": "code",
   "execution_count": 102,
   "metadata": {},
   "outputs": [
    {
     "data": {
      "image/png": "[encoded data removed]",
      "text/plain": [
       "<Figure size 1080x864 with 4 Axes>"
      ]
     },
     "metadata": {
      "needs_background": "light"
     },
     "output_type": "display_data"
    }
   ],
   "source": [
    "x = np.arange(-2*np.pi,2*np.pi,0.1)\n",
    "fig1, f1_axes = plt.subplots(ncols=2, nrows=2, figsize=(15, 12))\n",
    "fig1.suptitle('Funçõe Trigonométricas', size=20)\n",
    "\n",
    "f1_axes[0,0].plot(x, np.sin(x))\n",
    "f1_axes[0,0].set_title('Seno')\n",
    "f1_axes[0,0].set_xlabel('valores de x')\n",
    "f1_axes[0,0].set_ylabel('seno de x')\n",
    "f1_axes[0,0].grid()\n",
    "\n",
    "f1_axes[0,1].plot(x, np.cos(x), color='orange')\n",
    "f1_axes[0,1].set_title('Cosseno')\n",
    "f1_axes[0,1].grid()\n",
    "\n",
    "f1_axes[1,0].plot(x, np.tan(x), color='red')\n",
    "f1_axes[1,0].set_title('Tangente')\n",
    "\n",
    "f1_axes[1,1].plot(x, np.sin(x), label='sen(x)')\n",
    "f1_axes[1,1].plot(x, np.cos(x), label='cos(x)')\n",
    "f1_axes[1,1].set_title('Seno e Cosseno')\n",
    "f1_axes[1,1].legend()\n",
    "\n",
    "plt.show()"
   ]
  },
  {
   "cell_type": "code",
   "execution_count": 103,
   "metadata": {},
   "outputs": [
    {
     "name": "stderr",
     "output_type": "stream",
     "text": [
      "/Library/Frameworks/Python.framework/Versions/3.7/lib/python3.7/site-packages/numpy/lib/histograms.py:829: RuntimeWarning: invalid value encountered in greater_equal\n",
      "  keep = (tmp_a >= first_edge)\n",
      "/Library/Frameworks/Python.framework/Versions/3.7/lib/python3.7/site-packages/numpy/lib/histograms.py:830: RuntimeWarning: invalid value encountered in less_equal\n",
      "  keep &= (tmp_a <= last_edge)\n"
     ]
    },
    {
     "data": {
      "image/png": "[encoded data removed]",
      "text/plain": [
       "<Figure size 1440x1440 with 18 Axes>"
      ]
     },
     "metadata": {
      "needs_background": "light"
     },
     "output_type": "display_data"
    }
   ],
   "source": [
    "fig1, f1_axes = plt.subplots(ncols=3, nrows=6, figsize=(20, 20))\n",
    "fig1.suptitle('Distribuição dos Fitness por Periódico', size=18)\n",
    "fig1.subplots_adjust(hspace=0.5)\n",
    "\n",
    "k=0\n",
    "for i in range(6):\n",
    "    for j in range(3):\n",
    "        k = k +1\n",
    "        f1_axes[i,j].hist(df_param[df_param['id_j']==k].fitness)\n",
    "        f1_axes[i,j].set_title('Periódico ' + str(k))\n",
    "        f1_axes[i,j].set_xlabel('fitness')\n",
    "        f1_axes[i,j].set_ylabel('quantidade de artigos')\n",
    "\n",
    "plt.show()"
   ]
  },
  {
   "cell_type": "markdown",
   "metadata": {},
   "source": [
    "* https://nbviewer.jupyter.org/github/anacwagner/scopus-scraping/blob/master/Análise%20dos%20Resultados%20-%20Lógica.ipynb"
   ]
  },
  {
   "cell_type": "code",
   "execution_count": null,
   "metadata": {},
   "outputs": [],
   "source": []
  }
 ],
 "metadata": {
  "kernelspec": {
   "display_name": "Python 3",
   "language": "python",
   "name": "python3"
  },
  "language_info": {
   "codemirror_mode": {
    "name": "ipython",
    "version": 3
   },
   "file_extension": ".py",
   "mimetype": "text/x-python",
   "name": "python",
   "nbconvert_exporter": "python",
   "pygments_lexer": "ipython3",
   "version": "3.7.4"
  }
 },
 "nbformat": 4,
 "nbformat_minor": 2
}
