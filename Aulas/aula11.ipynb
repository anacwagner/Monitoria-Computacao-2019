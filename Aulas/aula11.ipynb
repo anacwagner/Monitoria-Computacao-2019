{
 "cells": [
  {
   "cell_type": "markdown",
   "metadata": {},
   "source": [
    "# Aula 11"
   ]
  },
  {
   "cell_type": "markdown",
   "metadata": {},
   "source": [
    "Simulação: robô andante"
   ]
  },
  {
   "cell_type": "code",
   "execution_count": 2,
   "metadata": {},
   "outputs": [],
   "source": [
    "from random import *"
   ]
  },
  {
   "cell_type": "code",
   "execution_count": 14,
   "metadata": {},
   "outputs": [],
   "source": [
    "def robo(lado):\n",
    "    x=0\n",
    "    y=0\n",
    "    passos=0\n",
    "    while abs(x)<lado and abs(y)<lado:\n",
    "        passos=passos+1\n",
    "        p=random()\n",
    "        if p<0.25:\n",
    "            x=x-1\n",
    "        elif p<0.5:\n",
    "            x=x+1\n",
    "        elif p<0.75:\n",
    "            y=y+1\n",
    "        else:\n",
    "            y=y-1\n",
    "    return passos\n",
    "        "
   ]
  },
  {
   "cell_type": "code",
   "execution_count": 25,
   "metadata": {},
   "outputs": [
    {
     "data": {
      "text/plain": [
       "1605"
      ]
     },
     "execution_count": 25,
     "metadata": {},
     "output_type": "execute_result"
    }
   ],
   "source": [
    "robo(50)"
   ]
  },
  {
   "cell_type": "code",
   "execution_count": 26,
   "metadata": {},
   "outputs": [],
   "source": [
    "def simulacao(lado,nvezes):\n",
    "    totaldepassos=0\n",
    "    for rodada in range (nvezes):\n",
    "        passosrodada=robo(lado)\n",
    "        totaldepassos=totaldepassos+passosrodada\n",
    "    return totaldepassos/nvezes"
   ]
  },
  {
   "cell_type": "code",
   "execution_count": 42,
   "metadata": {},
   "outputs": [
    {
     "data": {
      "text/plain": [
       "2936.4444"
      ]
     },
     "execution_count": 42,
     "metadata": {},
     "output_type": "execute_result"
    }
   ],
   "source": [
    "simulacao(50,10000)"
   ]
  }
 ],
 "metadata": {
  "kernelspec": {
   "display_name": "Python 3",
   "language": "python",
   "name": "python3"
  },
  "language_info": {
   "codemirror_mode": {
    "name": "ipython",
    "version": 3
   },
   "file_extension": ".py",
   "mimetype": "text/x-python",
   "name": "python",
   "nbconvert_exporter": "python",
   "pygments_lexer": "ipython3",
   "version": "3.7.3"
  }
 },
 "nbformat": 4,
 "nbformat_minor": 2
}
