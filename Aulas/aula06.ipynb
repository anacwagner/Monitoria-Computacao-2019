{
 "cells": [
  {
   "cell_type": "markdown",
   "metadata": {},
   "source": [
    "# Aula 6"
   ]
  },
  {
   "cell_type": "code",
   "execution_count": 1,
   "metadata": {},
   "outputs": [],
   "source": [
    "# Importando as bibliotecas\n",
    "from math import *"
   ]
  },
  {
   "cell_type": "code",
   "execution_count": 2,
   "metadata": {},
   "outputs": [
    {
     "data": {
      "text/plain": [
       "0.49825172687791053"
      ]
     },
     "execution_count": 2,
     "metadata": {},
     "output_type": "execute_result"
    }
   ],
   "source": [
    "sqrt(639*8)-int(sqrt(639*8))"
   ]
  },
  {
   "cell_type": "markdown",
   "metadata": {},
   "source": [
    "**EXERCÍCÍO 1:** Criar uma função para verificar se um número é triangular ou não.\n",
    "\n",
    "\n",
    "Um número \"x\" é triangular se o resultado da expressão \n",
    "$$\\frac{\\sqrt{8x+1}-1}{2}$$\n",
    "é um número inteiro."
   ]
  },
  {
   "cell_type": "code",
   "execution_count": 3,
   "metadata": {},
   "outputs": [],
   "source": [
    "def tri(x):\n",
    "    n=(sqrt(8*x+1)-1)/2\n",
    "    if n-int(n)==0:\n",
    "        saida=True #é um número triangular\n",
    "    else:\n",
    "        saida=False #não é um número triangular\n",
    "    return saida\n",
    "    "
   ]
  },
  {
   "cell_type": "code",
   "execution_count": 4,
   "metadata": {},
   "outputs": [
    {
     "data": {
      "text/plain": [
       "False"
      ]
     },
     "execution_count": 4,
     "metadata": {},
     "output_type": "execute_result"
    }
   ],
   "source": [
    "tri(4)"
   ]
  },
  {
   "cell_type": "markdown",
   "metadata": {},
   "source": [
    "**EXERCÍCÍO 2:** \n",
    "\n",
    "No calendário Gregoriano, é possível usar fórmulas para saber o dia da semana correspondente a uma data. Sendo\n",
    "$d$ o número correspondente ao dia, $m$ o número correspondente ao mês e $a$ o número correspondente ao ano (escrito com quatro algarismos), o dia da semana $DS$ (1=segunda, 2=terça, ...), correspondente à data **dd/mm/aaaa** é dado pela seguinte sequência:\n",
    "\n",
    "$y=a-\\frac{14-m}{12}$;  \n",
    "\n",
    "\n",
    "$x=y+\\frac{y}{4}-\\frac{y}{100}+\\frac{y}{400}$\n",
    "\n",
    "\n",
    "$k=m+12\\cdot \\frac{14-m}{12}-2$;  \n",
    "\n",
    "\n",
    "$N=d+x+\\frac{31\\cdot k}{12}$\n",
    "\n",
    "\n",
    "**DS** = resto da divisão de $N$ por 7\n",
    "\n",
    "**Obs.:** Nestes cálculos, deve-se pegar apenas a parte inteira do resultado de cada divisão!"
   ]
  },
  {
   "cell_type": "code",
   "execution_count": 5,
   "metadata": {},
   "outputs": [],
   "source": [
    "def diadasemana(d,m,a):\n",
    "    y=a-(14-m)//12\n",
    "    x=y+y//4-y//100+y//400\n",
    "    k=m+12*((14-m)//12)-2\n",
    "    n=d+x+(31*k)//12\n",
    "    ds=n%7\n",
    "    if ds==0:\n",
    "        dia=\"Domingo\"\n",
    "    elif ds==1:\n",
    "        dia=\"Segunda\"\n",
    "    elif ds==2:\n",
    "        dia=\"Terça\"\n",
    "    elif ds==3:\n",
    "        dia=\"Quarta\"\n",
    "    elif ds==4:\n",
    "        dia=\"Quinta\"\n",
    "    elif ds==5:\n",
    "        dia=\"Sexta\"\n",
    "    elif ds==6:\n",
    "        dia=\"Sábado\"\n",
    "    return dia"
   ]
  },
  {
   "cell_type": "code",
   "execution_count": 6,
   "metadata": {},
   "outputs": [
    {
     "data": {
      "text/plain": [
       "'Terça'"
      ]
     },
     "execution_count": 6,
     "metadata": {},
     "output_type": "execute_result"
    }
   ],
   "source": [
    "diadasemana(29,6,1965)"
   ]
  },
  {
   "cell_type": "code",
   "execution_count": 7,
   "metadata": {},
   "outputs": [
    {
     "name": "stdout",
     "output_type": "stream",
     "text": [
      "Digite um número: 1\n",
      "1.0\n"
     ]
    }
   ],
   "source": [
    "x=float(input(\"Digite um número: \"))\n",
    "print(x)"
   ]
  },
  {
   "cell_type": "markdown",
   "metadata": {},
   "source": [
    "## Comando de repetição: `while`\n",
    "\n",
    "A estrutura `while` repete um bloco de instruções enquanto uma condição for verdadeira. Quando o resultado dessa condição passa a ser falso, a execução do *loop* é interrompida. \n",
    "\n",
    "\n",
    "Estrutura: em Python, para indicarmos o bloco de intruções pertencentes ao `while`, devemos apenas indentar o código.\n",
    "\n",
    "\n",
    "```Python\n",
    "while condicao == verdadeira:\n",
    "    # enquanto a condiçao é verdadeira, a seguinte sequência de comandos são executadas \n",
    "    <comando_1>\n",
    "    <comando_2>\n",
    "    ...\n",
    "    <comando_n>\n",
    "```\n",
    "\n",
    "\n",
    "Para utilizar o comando `while` corretamente devemos:\n",
    "\n",
    "1. Antes do comando, inicializar a variável de controle.\n",
    "\n",
    "\n",
    "2. Criar uma condição que utiliza essa mesma variável de controle. Enquanto essa condição for verdadeira, as instruções dentro do `while` serão executadas. Atente-se ao fato de que é essa variável de controle que irá garantir que a condição se mantenha verdadeira pelo número correto de iterações necessárias.\n",
    "\n",
    "\n",
    "3. Lembrar de modificar/atualizar a variável de controle para garantir uma condição de parada. A falta desta etapa faz com que o seu programa entre no que chamamos de *loop infinito*. Evite que isto aconteça, pois leva ao congelamento do programa e, no nosso caso, consequentemente do notebook (normalmente a célula fica com o seguinte símbolo do lado esqeurdo quando fica rodando **[*]**).  \n",
    "\n",
    "\n",
    "Por exemplo,\n",
    "\n",
    "```Python\n",
    "contador = 0 #1.variável de controle\n",
    "while contador < 5: #2.condição de parada\n",
    "    print(contador)\n",
    "    contador = contador + 1 #3.incremento da variável de controle\n",
    "```"
   ]
  },
  {
   "cell_type": "code",
   "execution_count": 8,
   "metadata": {},
   "outputs": [],
   "source": [
    "def repeticao():\n",
    "    x=\"inicio\" \n",
    "    while x!=\"\": \n",
    "        x=(input(\"Digite alguma coisa: \"))\n",
    "        print (x)"
   ]
  },
  {
   "cell_type": "code",
   "execution_count": 9,
   "metadata": {},
   "outputs": [
    {
     "name": "stdout",
     "output_type": "stream",
     "text": [
      "Digite alguma coisa: fdzbsfdfs\n",
      "fdzbsfdfs\n",
      "Digite alguma coisa: \n",
      "\n"
     ]
    }
   ],
   "source": [
    "repeticao()"
   ]
  },
  {
   "cell_type": "markdown",
   "metadata": {},
   "source": [
    "Na função `repeticao()`, enquanto digitamos algo no `input` a função fica se repetindo. Quando a condição de parada é atingida, ou seja, quando no `input` você não digita nada e aperta ENTER, a função termina de ser executada. "
   ]
  },
  {
   "cell_type": "code",
   "execution_count": 10,
   "metadata": {},
   "outputs": [],
   "source": [
    "def repeticao2():\n",
    "    #Faz print dos números informados no input\n",
    "    x=0\n",
    "    digitou=\"sim\"\n",
    "    while digitou==\"sim\":\n",
    "        n=input(\"Digite um número: \")\n",
    "        if n!=\"\":\n",
    "            x=float(n)\n",
    "            print(x)\n",
    "        else:\n",
    "            digitou=\"nao\""
   ]
  },
  {
   "cell_type": "code",
   "execution_count": 11,
   "metadata": {},
   "outputs": [
    {
     "name": "stdout",
     "output_type": "stream",
     "text": [
      "Digite um número: 3\n",
      "3.0\n",
      "Digite um número: \n"
     ]
    }
   ],
   "source": [
    "repeticao2()"
   ]
  },
  {
   "cell_type": "markdown",
   "metadata": {},
   "source": [
    "Na função `repeticao2()`, você consegue identificar a variável de controle e a condição de parada? "
   ]
  },
  {
   "cell_type": "markdown",
   "metadata": {},
   "source": [
    "___\n",
    "**DEVER DE CASA:** \n",
    "\n",
    "Criar a função `repeticao3()` que modifica a função `repeticao2()` para fazer a soma dos números informados no `input`. \n",
    "___"
   ]
  },
  {
   "cell_type": "code",
   "execution_count": null,
   "metadata": {},
   "outputs": [],
   "source": []
  }
 ],
 "metadata": {
  "kernelspec": {
   "display_name": "Python 3",
   "language": "python",
   "name": "python3"
  },
  "language_info": {
   "codemirror_mode": {
    "name": "ipython",
    "version": 3
   },
   "file_extension": ".py",
   "mimetype": "text/x-python",
   "name": "python",
   "nbconvert_exporter": "python",
   "pygments_lexer": "ipython3",
   "version": "3.7.4"
  }
 },
 "nbformat": 4,
 "nbformat_minor": 2
}
