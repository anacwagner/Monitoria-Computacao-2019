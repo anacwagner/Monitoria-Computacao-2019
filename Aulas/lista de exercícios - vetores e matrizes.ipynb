{
 "cells": [
  {
   "cell_type": "markdown",
   "metadata": {},
   "source": [
    "# Lista de Exercícios: Vetores e Matrizes"
   ]
  },
  {
   "cell_type": "code",
   "execution_count": 2,
   "metadata": {},
   "outputs": [],
   "source": [
    "import numpy as np\n",
    "import math as mt"
   ]
  },
  {
   "cell_type": "markdown",
   "metadata": {},
   "source": [
    "## Exercício 1\n",
    "\n",
    "Implementar a ordenação de arrays pelo método do [Bubble Sort](https://pt.wikipedia.org/wiki/Bubble_sort)."
   ]
  },
  {
   "cell_type": "code",
   "execution_count": 3,
   "metadata": {},
   "outputs": [],
   "source": [
    "def bubble_Julia(lista):\n",
    "    for i in range (0,len(lista)-1):\n",
    "        x=lista[i]\n",
    "        y=lista[i+1]\n",
    "        if x>y:\n",
    "            lista[i+1]=x\n",
    "            lista[i]=y\n",
    "    for i in range (0,len(lista)-1):\n",
    "        x=lista[i]\n",
    "        y=lista[i+1]\n",
    "        if x>y:\n",
    "            bubble_Julia(lista)\n",
    "    return lista"
   ]
  },
  {
   "cell_type": "code",
   "execution_count": 7,
   "metadata": {},
   "outputs": [],
   "source": [
    "def meu_bobo_sort(lista):\n",
    "    houvetroca=1\n",
    "    passadas=0 #serve para controlar o loop e evitar que vá até o final da lista desnecessariamente\n",
    "    while houvetroca==1:\n",
    "        houvetroca=0\n",
    "        for i in range(len(lista)-1-passadas):\n",
    "            if lista[i]>lista[i+1]:\n",
    "                aux=lista[i+1]\n",
    "                lista[i+1]=lista[i]\n",
    "                lista[i]=aux\n",
    "                houvetroca=1\n",
    "        passadas=passadas+1\n",
    "    return lista\n",
    "                "
   ]
  },
  {
   "cell_type": "code",
   "execution_count": 9,
   "metadata": {},
   "outputs": [
    {
     "data": {
      "text/plain": [
       "[1, 2, 3, 4, 5, 8, 10, 20]"
      ]
     },
     "execution_count": 9,
     "metadata": {},
     "output_type": "execute_result"
    }
   ],
   "source": [
    "meu_bobo_sort([1,5,10,2,8,4,3,20])"
   ]
  },
  {
   "cell_type": "markdown",
   "metadata": {},
   "source": [
    "## Exercício 2\n",
    "\n",
    "Somar duas matrizes, por meio de uma soma dos elementos correspondentes (soma elemento a elemento). Ou seja, sejam $A$ e $B$ as matrizes que serão somadas, cada elemento da matriz resultante $C$ será dado por:\n",
    "\n",
    "$$c_{ij}= a_{ij} + b_{ij}$$"
   ]
  },
  {
   "cell_type": "code",
   "execution_count": 21,
   "metadata": {},
   "outputs": [],
   "source": [
    "def somamat(a,b):\n",
    "    #soma os elementos correspondentes de duas matrizes\n",
    "    if a.shape!=b.shape:\n",
    "        print (\"Erro: Matrizes de dimensões diferentes\")\n",
    "        return nan\n",
    "    c=np.matrix(np.zeros(a.shape))\n",
    "    for i in range(a.shape[0]):\n",
    "        for j in range(a.shape[1]):\n",
    "            c[i,j]=a[i,j]+b[i,j]\n",
    "    return c"
   ]
  },
  {
   "cell_type": "code",
   "execution_count": 19,
   "metadata": {},
   "outputs": [],
   "source": [
    "z=np.matrix([[1,2,3],[5,6,7]])\n",
    "y=np.matrix([[10,20,30],[50,60,70]])"
   ]
  },
  {
   "cell_type": "code",
   "execution_count": 22,
   "metadata": {},
   "outputs": [
    {
     "data": {
      "text/plain": [
       "matrix([[11., 22., 33.],\n",
       "        [55., 66., 77.]])"
      ]
     },
     "execution_count": 22,
     "metadata": {},
     "output_type": "execute_result"
    }
   ],
   "source": [
    "somamat(z,y)"
   ]
  },
  {
   "cell_type": "markdown",
   "metadata": {},
   "source": [
    "## Exercício 3\n",
    "\n",
    "Criar uma função que recebe uma matriz como parâmetro de entrada e troca 2 linhas escolhidas (parâmetros de entrada) de posição. "
   ]
  },
  {
   "cell_type": "code",
   "execution_count": 23,
   "metadata": {},
   "outputs": [],
   "source": [
    "def trocalinhas(mat,l1,l2):\n",
    "    #troca as linhas l1 e l2 da matriz mat de posição\n",
    "    for i in range (mat.shape[1]):\n",
    "        aux=mat[l1,i]\n",
    "        mat[l1,i]=mat[l2,i]\n",
    "        mat[l2,i]=aux\n",
    "    return mat"
   ]
  },
  {
   "cell_type": "code",
   "execution_count": 24,
   "metadata": {
    "scrolled": true
   },
   "outputs": [
    {
     "data": {
      "text/plain": [
       "matrix([[ 1,  2,  3,  4],\n",
       "        [ 5,  6,  7,  8],\n",
       "        [ 9, 10, 11, 12],\n",
       "        [13, 14, 15, 16],\n",
       "        [17, 18, 19, 20]])"
      ]
     },
     "execution_count": 24,
     "metadata": {},
     "output_type": "execute_result"
    }
   ],
   "source": [
    "tr=np.matrix([[1,2,3,4],[5,6,7,8],[9,10,11,12],[13,14,15,16],[17,18,19,20]])\n",
    "tr"
   ]
  },
  {
   "cell_type": "code",
   "execution_count": 27,
   "metadata": {},
   "outputs": [
    {
     "data": {
      "text/plain": [
       "matrix([[17, 18, 19, 20],\n",
       "        [ 5,  6,  7,  8],\n",
       "        [ 1,  2,  3,  4],\n",
       "        [13, 14, 15, 16],\n",
       "        [ 9, 10, 11, 12]])"
      ]
     },
     "execution_count": 27,
     "metadata": {},
     "output_type": "execute_result"
    }
   ],
   "source": [
    "trocalinhas(tr,2,0)"
   ]
  },
  {
   "cell_type": "markdown",
   "metadata": {},
   "source": [
    "## Exercício 4\n",
    "\n",
    "Criar uma função que recebe uma matriz como parâmetro de entrada e inverte a ordem das linhas dessa matriz. "
   ]
  },
  {
   "cell_type": "markdown",
   "metadata": {},
   "source": [
    "## Exercício 5\n",
    "\n",
    "Criar uma função para multiplicar duas matrizes, pela implementação do método de multiplicação matricial (não usar a função de multiplicação de matrizes do Python)"
   ]
  },
  {
   "cell_type": "markdown",
   "metadata": {},
   "source": [
    "## Exercício 6\n",
    "\n",
    "Contar os pontos do boliche. Use os dados da planilha disponível na pasta da disciplina na rede."
   ]
  },
  {
   "cell_type": "markdown",
   "metadata": {},
   "source": [
    "## Exercício 7\n",
    "\n",
    "Campo minado: Defina o tamanho do quadro do jogo e a quantidade de bombas no quadro. Crie uma função que recebe a lista com a posicões das bombas e retorne uma matriz, com o tamanho do quadro, em que cada célula contém a quantidade de bombas presentes nas células vizinhas."
   ]
  },
  {
   "cell_type": "markdown",
   "metadata": {},
   "source": [
    "## Exercício 8\n",
    "\n",
    "Calcular o [determinante](https://pt.wikipedia.org/wiki/Determinante) de uma matriz usando o **método de escalonamento**. "
   ]
  },
  {
   "cell_type": "markdown",
   "metadata": {},
   "source": [
    "## Exercício 9\n",
    "\n",
    "Calcular o [determinante](https://pt.wikipedia.org/wiki/Teorema_de_Laplace) de uma matriz usando o **método dos cofatores** (recursivo)."
   ]
  },
  {
   "cell_type": "markdown",
   "metadata": {},
   "source": [
    "## Exercício 10\n",
    "\n",
    "Criar uma função que recebe como parâmetros de entrada uma matriz de dados e uma sequência de valores (array ou lista), e localiza a sequência na matriz, retornando a lista com as posições $(i,j)$ onde a sequência foi encontrada."
   ]
  },
  {
   "cell_type": "markdown",
   "metadata": {},
   "source": [
    "## Exercício 11\n",
    "\n",
    "Troca-troca de figurinhas: Criar uma função que recebe dois pares de listas, representando as figurinhas de dois jogadores: para cada jogador, passe a lista de figurinhas que ele precisa e a lista de figurinhas que ele tem duplicatas. Retorne com a lista de trocas que esses dois jogadores podem fazer entre si."
   ]
  }
 ],
 "metadata": {
  "kernelspec": {
   "display_name": "Python 3",
   "language": "python",
   "name": "python3"
  },
  "language_info": {
   "codemirror_mode": {
    "name": "ipython",
    "version": 3
   },
   "file_extension": ".py",
   "mimetype": "text/x-python",
   "name": "python",
   "nbconvert_exporter": "python",
   "pygments_lexer": "ipython3",
   "version": "3.7.3"
  }
 },
 "nbformat": 4,
 "nbformat_minor": 2
}
