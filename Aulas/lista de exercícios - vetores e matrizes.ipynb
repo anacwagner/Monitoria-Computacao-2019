{
 "cells": [
  {
   "cell_type": "markdown",
   "metadata": {},
   "source": [
    "# Lista de Exercícios: Vetores e Matrizes"
   ]
  },
  {
   "cell_type": "code",
   "execution_count": 1,
   "metadata": {},
   "outputs": [],
   "source": [
    "import numpy as np\n",
    "import math as mt\n",
    "import pandas as pd"
   ]
  },
  {
   "cell_type": "markdown",
   "metadata": {},
   "source": [
    "## Exercício 1\n",
    "\n",
    "Implementar a ordenação de arrays pelo método do [Bubble Sort](https://pt.wikipedia.org/wiki/Bubble_sort)."
   ]
  },
  {
   "cell_type": "code",
   "execution_count": 2,
   "metadata": {},
   "outputs": [],
   "source": [
    "def bubble_Julia(lista):\n",
    "    for i in range (0,len(lista)-1):\n",
    "        x=lista[i]\n",
    "        y=lista[i+1]\n",
    "        if x>y:\n",
    "            lista[i+1]=x\n",
    "            lista[i]=y\n",
    "    for i in range (0,len(lista)-1):\n",
    "        x=lista[i]\n",
    "        y=lista[i+1]\n",
    "        if x>y:\n",
    "            bubble_Julia(lista)\n",
    "    return lista"
   ]
  },
  {
   "cell_type": "code",
   "execution_count": 3,
   "metadata": {},
   "outputs": [],
   "source": [
    "def meu_bobo_sort(lista):\n",
    "    houvetroca=1\n",
    "    passadas=0 #serve para controlar o loop e evitar que vá até o final da lista desnecessariamente\n",
    "    while houvetroca==1:\n",
    "        houvetroca=0\n",
    "        for i in range(len(lista)-1-passadas):\n",
    "            if lista[i]>lista[i+1]:\n",
    "                aux=lista[i+1]\n",
    "                lista[i+1]=lista[i]\n",
    "                lista[i]=aux\n",
    "                houvetroca=1\n",
    "        passadas=passadas+1\n",
    "    return lista\n",
    "                "
   ]
  },
  {
   "cell_type": "code",
   "execution_count": 4,
   "metadata": {},
   "outputs": [
    {
     "data": {
      "text/plain": [
       "[1, 2, 3, 4, 5, 8, 10, 20]"
      ]
     },
     "execution_count": 4,
     "metadata": {},
     "output_type": "execute_result"
    }
   ],
   "source": [
    "meu_bobo_sort([1,5,10,2,8,4,3,20])"
   ]
  },
  {
   "cell_type": "markdown",
   "metadata": {},
   "source": [
    "## Exercício 2\n",
    "\n",
    "Somar duas matrizes, por meio de uma soma dos elementos correspondentes (soma elemento a elemento). Ou seja, sejam $A$ e $B$ as matrizes que serão somadas, cada elemento da matriz resultante $C$ será dado por:\n",
    "\n",
    "$$c_{ij}= a_{ij} + b_{ij}$$"
   ]
  },
  {
   "cell_type": "code",
   "execution_count": 5,
   "metadata": {},
   "outputs": [],
   "source": [
    "def somamat(a,b):\n",
    "    #soma os elementos correspondentes de duas matrizes\n",
    "    if a.shape!=b.shape:\n",
    "        print (\"Erro: Matrizes de dimensões diferentes\")\n",
    "        return nan\n",
    "    c=np.matrix(np.zeros(a.shape))\n",
    "    for i in range(a.shape[0]):\n",
    "        for j in range(a.shape[1]):\n",
    "            c[i,j]=a[i,j]+b[i,j]\n",
    "    return c"
   ]
  },
  {
   "cell_type": "code",
   "execution_count": 6,
   "metadata": {},
   "outputs": [],
   "source": [
    "z=np.matrix([[1,2,3],[5,6,7]])\n",
    "y=np.matrix([[10,20,30],[50,60,70]])"
   ]
  },
  {
   "cell_type": "code",
   "execution_count": 7,
   "metadata": {},
   "outputs": [
    {
     "data": {
      "text/plain": [
       "matrix([[11., 22., 33.],\n",
       "        [55., 66., 77.]])"
      ]
     },
     "execution_count": 7,
     "metadata": {},
     "output_type": "execute_result"
    }
   ],
   "source": [
    "somamat(z,y)"
   ]
  },
  {
   "cell_type": "markdown",
   "metadata": {},
   "source": [
    "## Exercício 3\n",
    "\n",
    "Criar uma função que recebe uma matriz como parâmetro de entrada e troca 2 linhas escolhidas (parâmetros de entrada) de posição. "
   ]
  },
  {
   "cell_type": "code",
   "execution_count": 8,
   "metadata": {},
   "outputs": [],
   "source": [
    "def trocalinhas(mat,l1,l2):\n",
    "    #troca as linhas l1 e l2 da matriz mat de posição\n",
    "    for i in range (mat.shape[1]):\n",
    "        aux=mat[l1,i]\n",
    "        mat[l1,i]=mat[l2,i]\n",
    "        mat[l2,i]=aux\n",
    "    return mat"
   ]
  },
  {
   "cell_type": "code",
   "execution_count": 9,
   "metadata": {
    "scrolled": true
   },
   "outputs": [
    {
     "data": {
      "text/plain": [
       "matrix([[ 1,  2,  3,  4],\n",
       "        [ 5,  6,  7,  8],\n",
       "        [ 9, 10, 11, 12],\n",
       "        [13, 14, 15, 16],\n",
       "        [17, 18, 19, 20]])"
      ]
     },
     "execution_count": 9,
     "metadata": {},
     "output_type": "execute_result"
    }
   ],
   "source": [
    "tr=np.matrix([[1,2,3,4],[5,6,7,8],[9,10,11,12],[13,14,15,16],[17,18,19,20]])\n",
    "tr"
   ]
  },
  {
   "cell_type": "code",
   "execution_count": 10,
   "metadata": {},
   "outputs": [
    {
     "data": {
      "text/plain": [
       "matrix([[ 9, 10, 11, 12],\n",
       "        [ 5,  6,  7,  8],\n",
       "        [ 1,  2,  3,  4],\n",
       "        [13, 14, 15, 16],\n",
       "        [17, 18, 19, 20]])"
      ]
     },
     "execution_count": 10,
     "metadata": {},
     "output_type": "execute_result"
    }
   ],
   "source": [
    "trocalinhas(tr,2,0)"
   ]
  },
  {
   "cell_type": "markdown",
   "metadata": {},
   "source": [
    "## Exercício 4\n",
    "\n",
    "Criar uma função que recebe uma matriz como parâmetro de entrada e inverte a ordem das linhas dessa matriz. "
   ]
  },
  {
   "cell_type": "code",
   "execution_count": 11,
   "metadata": {},
   "outputs": [],
   "source": [
    "def trocatudo(mat):\n",
    "    nlin=mat.shape[0]\n",
    "    ncol=mat.shape[1]\n",
    "    for i in range(nlin//2):\n",
    "        for j in range (ncol):\n",
    "            aux=mat[i,j]\n",
    "            mat[i,j]=mat[(nlin-i-1),j]\n",
    "            mat[(nlin-i-1),j]=aux\n",
    "    return mat"
   ]
  },
  {
   "cell_type": "code",
   "execution_count": 12,
   "metadata": {},
   "outputs": [
    {
     "data": {
      "text/plain": [
       "matrix([[ 1,  2,  3,  4],\n",
       "        [ 5,  6,  7,  8],\n",
       "        [ 9, 10, 11, 12],\n",
       "        [13, 14, 15, 16],\n",
       "        [17, 18, 19, 20]])"
      ]
     },
     "execution_count": 12,
     "metadata": {},
     "output_type": "execute_result"
    }
   ],
   "source": [
    "tr=np.matrix([[1,2,3,4],[5,6,7,8],[9,10,11,12],[13,14,15,16],[17,18,19,20]])\n",
    "tr"
   ]
  },
  {
   "cell_type": "code",
   "execution_count": 13,
   "metadata": {},
   "outputs": [
    {
     "data": {
      "text/plain": [
       "matrix([[17, 18, 19, 20],\n",
       "        [13, 14, 15, 16],\n",
       "        [ 9, 10, 11, 12],\n",
       "        [ 5,  6,  7,  8],\n",
       "        [ 1,  2,  3,  4]])"
      ]
     },
     "execution_count": 13,
     "metadata": {},
     "output_type": "execute_result"
    }
   ],
   "source": [
    "trocatudo(tr)"
   ]
  },
  {
   "cell_type": "markdown",
   "metadata": {},
   "source": [
    "## Exercício 5\n",
    "\n",
    "Criar uma função para multiplicar duas matrizes, pela implementação do método de multiplicação matricial (não usar a função de multiplicação de matrizes do Python)"
   ]
  },
  {
   "cell_type": "code",
   "execution_count": 14,
   "metadata": {},
   "outputs": [],
   "source": [
    "def matmult(a,b):\n",
    "    #multiplica as matrizes a e b \"na marra\", sem usar a função de multiplicação de matrizes do NumPy\n",
    "    nlina=a.shape[0]\n",
    "    ncola=a.shape[1]\n",
    "    nlinb=b.shape[0]\n",
    "    ncolb=b.shape[1]\n",
    "    if ncola!=nlinb:\n",
    "        print(\"Dimensões incompatíveis\")\n",
    "        return nan\n",
    "    nlinc=nlina\n",
    "    ncolc=ncolb\n",
    "    c=np.zeros((nlinc,ncolc))\n",
    "    for i in range (nlinc):\n",
    "        for j in range (ncolc):\n",
    "            c[i,j]=0\n",
    "            for k in range (ncola):\n",
    "                c[i,j]=c[i,j]+a[i,k]*b[k,j]\n",
    "    return c\n",
    "                "
   ]
  },
  {
   "cell_type": "code",
   "execution_count": 15,
   "metadata": {},
   "outputs": [],
   "source": [
    "tr1=np.matrix([[1,2,3,4],[5,6,7,8],[9,10,11,12],[13,14,15,16],[17,18,19,20]])\n",
    "tr2=np.matrix([[1,2],[5,6],[9,10],[13,14]])"
   ]
  },
  {
   "cell_type": "code",
   "execution_count": 16,
   "metadata": {},
   "outputs": [
    {
     "data": {
      "text/plain": [
       "array([[ 90., 100.],\n",
       "       [202., 228.],\n",
       "       [314., 356.],\n",
       "       [426., 484.],\n",
       "       [538., 612.]])"
      ]
     },
     "execution_count": 16,
     "metadata": {},
     "output_type": "execute_result"
    }
   ],
   "source": [
    "matmult(tr1,tr2)"
   ]
  },
  {
   "cell_type": "code",
   "execution_count": 17,
   "metadata": {},
   "outputs": [
    {
     "data": {
      "text/plain": [
       "matrix([[ 90, 100],\n",
       "        [202, 228],\n",
       "        [314, 356],\n",
       "        [426, 484],\n",
       "        [538, 612]])"
      ]
     },
     "execution_count": 17,
     "metadata": {},
     "output_type": "execute_result"
    }
   ],
   "source": [
    "x=tr1*tr2\n",
    "x"
   ]
  },
  {
   "cell_type": "markdown",
   "metadata": {},
   "source": [
    "## Exercício 6\n",
    "\n",
    "Contar os pontos do boliche. Use os dados da planilha disponível na pasta da disciplina na rede."
   ]
  },
  {
   "cell_type": "markdown",
   "metadata": {},
   "source": [
    "## Exercício 7\n",
    "\n",
    "Campo minado: Defina o tamanho do quadro do jogo e a quantidade de bombas no quadro. Crie uma função que recebe a lista com a posicões das bombas e retorne uma matriz, com o tamanho do quadro, em que cada célula contém a quantidade de bombas presentes nas células vizinhas."
   ]
  },
  {
   "cell_type": "code",
   "execution_count": 54,
   "metadata": {},
   "outputs": [
    {
     "data": {
      "text/plain": [
       "matrix([[0, 2],\n",
       "        [0, 3],\n",
       "        [1, 6],\n",
       "        [2, 2],\n",
       "        [2, 7],\n",
       "        [3, 0],\n",
       "        [3, 4],\n",
       "        [4, 6],\n",
       "        [5, 2],\n",
       "        [6, 5]])"
      ]
     },
     "execution_count": 54,
     "metadata": {},
     "output_type": "execute_result"
    }
   ],
   "source": [
    "bombas=np.asmatrix([[0,2],[0,3],[1,6],[2,2],[2,7],[3,0],[3,4],[4,6],[5,2],[6,5]])\n",
    "bombas"
   ]
  },
  {
   "cell_type": "code",
   "execution_count": 81,
   "metadata": {},
   "outputs": [],
   "source": [
    "def campominado(bombas,tamanho):\n",
    "    campo=np.zeros([tamanho,tamanho])\n",
    "    for b in range (bombas.shape[0]):\n",
    "        #marca a célula da bomba com \"nan\"\n",
    "        campo[bombas[b,0],bombas[b,1]]=np.nan\n",
    "        #aumenta a quantidade de bombas nas células vizinhas\n",
    "        #esquerda\n",
    "        if bombas[b,1]>0:\n",
    "            campo[bombas[b,0],bombas[b,1]-1]=campo[bombas[b,0],bombas[b,1]-1]+1\n",
    "        #direita\n",
    "        if bombas[b,1]<tamanho-2:\n",
    "            campo[bombas[b,0],bombas[b,1]+1]=campo[bombas[b,0],bombas[b,1]+1]+1\n",
    "        #em cima\n",
    "        if bombas[b,0]>0:\n",
    "            campo[bombas[b,0]-1,bombas[b,1]]=campo[bombas[b,0]-1,bombas[b,1]]+1\n",
    "        #em baixo\n",
    "        if bombas[b,0]<tamanho-2:\n",
    "            campo[bombas[b,0]+1,bombas[b,1]]=campo[bombas[b,0]+1,bombas[b,1]]+1\n",
    "        #FALTA ACERTAR AS CÉLULAS NA DIAGONAL\n",
    "    return campo"
   ]
  },
  {
   "cell_type": "code",
   "execution_count": 80,
   "metadata": {},
   "outputs": [
    {
     "data": {
      "text/plain": [
       "array([[ 0.,  1., nan, nan,  1.,  0.,  1.,  0.],\n",
       "       [ 0.,  0.,  2.,  1.,  0.,  1., nan,  1.],\n",
       "       [ 1.,  1., nan,  1.,  1.,  0.,  2., nan],\n",
       "       [nan,  1.,  1.,  1., nan,  1.,  1.,  1.],\n",
       "       [ 1.,  0.,  1.,  0.,  1.,  1., nan,  0.],\n",
       "       [ 0.,  1., nan,  1.,  0.,  1.,  1.,  0.],\n",
       "       [ 0.,  0.,  1.,  0.,  1., nan,  1.,  0.],\n",
       "       [ 0.,  0.,  0.,  0.,  0.,  0.,  0.,  0.]])"
      ]
     },
     "execution_count": 80,
     "metadata": {},
     "output_type": "execute_result"
    }
   ],
   "source": [
    "campominado(bombas,8)"
   ]
  },
  {
   "cell_type": "markdown",
   "metadata": {},
   "source": [
    "## Exercício 8\n",
    "\n",
    "Calcular o [determinante](https://pt.wikipedia.org/wiki/Determinante) de uma matriz usando o **método de escalonamento**. "
   ]
  },
  {
   "cell_type": "code",
   "execution_count": 2,
   "metadata": {},
   "outputs": [],
   "source": [
    "def det(a):\n",
    "    #calcula o determinante da matriz pelo método do escalonamento\n",
    "    nlins=a.shape[0]\n",
    "    ncols=a.shape[1]\n",
    "    mult=1\n",
    "    for linbase in range(nlins):\n",
    "        #pega o elemento da diagonal como fator da linha base\n",
    "        fator=a[linbase,linbase]\n",
    "        mult=mult*fator\n",
    "        #divide os elementos da linha base pelo fator, pra ficar com 1 na diagonal\n",
    "        for col in range(ncols):\n",
    "            a[linbase,col]=a[linbase,col]/fator\n",
    "        #substitui os elementos das linhas abaixo de forma a fazer os elementos abaixo do fator ficarem com zero\n",
    "        for lin in range (linbase+1,nlins):\n",
    "            #pega como \"pivô\" o elemento da linha que está na coluna do fator da linha base \n",
    "            pivo=a[lin,linbase]\n",
    "            for col in range(ncols):\n",
    "                a[lin,col]=a[lin,col]-pivo*a[linbase,col]\n",
    "        #print (mat)\n",
    "    return mult\n"
   ]
  },
  {
   "cell_type": "code",
   "execution_count": 3,
   "metadata": {},
   "outputs": [
    {
     "data": {
      "text/plain": [
       "matrix([[ 4.,  1.,  2.],\n",
       "        [ 3.,  2.,  0.],\n",
       "        [ 2., -1.,  1.]])"
      ]
     },
     "execution_count": 3,
     "metadata": {},
     "output_type": "execute_result"
    }
   ],
   "source": [
    "mat=np.matrix([[4.,1.,2.],[3.,2.,0.],[2.,-1.,1.]])\n",
    "mat"
   ]
  },
  {
   "cell_type": "code",
   "execution_count": 4,
   "metadata": {},
   "outputs": [
    {
     "data": {
      "text/plain": [
       "-9.0"
      ]
     },
     "execution_count": 4,
     "metadata": {},
     "output_type": "execute_result"
    }
   ],
   "source": [
    "det(mat)"
   ]
  },
  {
   "cell_type": "markdown",
   "metadata": {},
   "source": [
    "## Exercício 9\n",
    "\n",
    "Calcular o [determinante](https://pt.wikipedia.org/wiki/Teorema_de_Laplace) de uma matriz usando o **método dos cofatores** (recursivo)."
   ]
  },
  {
   "cell_type": "code",
   "execution_count": 7,
   "metadata": {},
   "outputs": [],
   "source": [
    "def detcof(a):\n",
    "    #calcula o determinante da matriz pelo método dos cofatores (recursivo)\n",
    "    nlins=a.shape[0]\n",
    "    ncols=a.shape[1]\n",
    "    #cofs=np.zeros((1,ncols))\n",
    "    if nlins==1 and ncols==1:\n",
    "        return a[0,0]\n",
    "    #calcula o determinante com base nos cofatores dos elementos da primeira linha\n",
    "    det=0\n",
    "    for elemento in range(ncols): #pega todos os elementos da primeira linha da matriz, calcula o cofator e o menor\n",
    "        menor=np.zeros((nlins-1,ncols-1))\n",
    "        cof=((-1)**elemento)*a[0,elemento]\n",
    "        for lin in range(1,nlins): #pega as linhas abaixo da primeira\n",
    "            colmenor=0\n",
    "            for col in range(ncols):\n",
    "                if col!=elemento:\n",
    "                    menor[lin-1,colmenor]=a[lin,col]\n",
    "                    colmenor=colmenor+1\n",
    "            det=det+cof*detcof(menor)\n",
    "    return det\n"
   ]
  },
  {
   "cell_type": "code",
   "execution_count": 8,
   "metadata": {
    "scrolled": true
   },
   "outputs": [
    {
     "data": {
      "text/plain": [
       "matrix([[ 4.,  1.,  2.],\n",
       "        [ 3.,  2.,  0.],\n",
       "        [ 2., -1.,  1.]])"
      ]
     },
     "execution_count": 8,
     "metadata": {},
     "output_type": "execute_result"
    }
   ],
   "source": [
    "mat=np.matrix([[4.,1.,2.],[3.,2.,0.],[2.,-1.,1.]])\n",
    "mat"
   ]
  },
  {
   "cell_type": "code",
   "execution_count": 9,
   "metadata": {},
   "outputs": [
    {
     "data": {
      "text/plain": [
       "-9.0"
      ]
     },
     "execution_count": 9,
     "metadata": {},
     "output_type": "execute_result"
    }
   ],
   "source": [
    "detcof(mat)"
   ]
  },
  {
   "cell_type": "markdown",
   "metadata": {},
   "source": [
    "## Exercício 10\n",
    "\n",
    "a) Criar uma função que recebe como parâmetros de entrada (i) uma matriz de dados; e (ii) um valor a ser procurado, e retorna como parâmetros de saída (i) a quantidade de vezes que este valor aparece na matriz, e (ii) uma lista com as posições (linha coluna) onde esses valores são encontrados\n",
    "\n",
    "b) Criar uma função que recebe como parâmetros de entrada uma matriz de dados e uma sequência de valores (array ou lista), e localiza a sequência na matriz, retornando a lista com as posições $(i,j)$ onde a sequência foi encontrada."
   ]
  },
  {
   "cell_type": "code",
   "execution_count": 27,
   "metadata": {},
   "outputs": [],
   "source": [
    "def contaocorr(matriz,valor):\n",
    "    #conta quantas vezes o \"valor\" aparece na \"matriz\"\n",
    "    cont=0\n",
    "    lista=[]\n",
    "    for i in range(matriz.shape[0]):\n",
    "        for j in range (matriz.shape[1]):\n",
    "            if matriz[i,j]==valor:\n",
    "                cont=cont+1\n",
    "                lista.append([i,j])\n",
    "    return cont,lista"
   ]
  },
  {
   "cell_type": "code",
   "execution_count": 50,
   "metadata": {
    "scrolled": true
   },
   "outputs": [],
   "source": [
    "dados=np.matrix(pd.read_excel(\"Documents\\ocorrencias.xlsx\",header=None))\n",
    "seq1=np.matrix(pd.read_excel(\"Documents\\ocorrencias.xlsx\",header=None,sheet_name=\"seq1\"))\n",
    "seq2=np.matrix(pd.read_excel(\"Documents\\ocorrencias.xlsx\",header=None,sheet_name=\"seq2\"))\n",
    "seq3=np.matrix(pd.read_excel(\"Documents\\ocorrencias.xlsx\",header=None,sheet_name=\"seq3\"))"
   ]
  },
  {
   "cell_type": "code",
   "execution_count": 28,
   "metadata": {},
   "outputs": [
    {
     "data": {
      "text/plain": [
       "(119,\n",
       " [[4, 14],\n",
       "  [9, 29],\n",
       "  [12, 29],\n",
       "  [20, 23],\n",
       "  [28, 30],\n",
       "  [30, 5],\n",
       "  [37, 2],\n",
       "  [39, 12],\n",
       "  [51, 3],\n",
       "  [52, 1],\n",
       "  [52, 40],\n",
       "  [59, 15],\n",
       "  [60, 20],\n",
       "  [63, 25],\n",
       "  [66, 21],\n",
       "  [71, 9],\n",
       "  [73, 37],\n",
       "  [77, 45],\n",
       "  [81, 6],\n",
       "  [81, 46],\n",
       "  [83, 26],\n",
       "  [84, 25],\n",
       "  [84, 40],\n",
       "  [91, 10],\n",
       "  [91, 11],\n",
       "  [93, 44],\n",
       "  [95, 18],\n",
       "  [97, 43],\n",
       "  [99, 8],\n",
       "  [104, 38],\n",
       "  [109, 6],\n",
       "  [113, 29],\n",
       "  [115, 45],\n",
       "  [117, 21],\n",
       "  [118, 49],\n",
       "  [120, 33],\n",
       "  [124, 15],\n",
       "  [130, 2],\n",
       "  [135, 5],\n",
       "  [137, 43],\n",
       "  [137, 47],\n",
       "  [139, 31],\n",
       "  [147, 7],\n",
       "  [156, 47],\n",
       "  [163, 38],\n",
       "  [165, 12],\n",
       "  [165, 14],\n",
       "  [171, 17],\n",
       "  [175, 43],\n",
       "  [181, 37],\n",
       "  [190, 18],\n",
       "  [190, 34],\n",
       "  [194, 9],\n",
       "  [195, 23],\n",
       "  [197, 13],\n",
       "  [197, 32],\n",
       "  [199, 37],\n",
       "  [206, 8],\n",
       "  [215, 24],\n",
       "  [224, 28],\n",
       "  [224, 43],\n",
       "  [229, 22],\n",
       "  [233, 8],\n",
       "  [235, 20],\n",
       "  [236, 33],\n",
       "  [259, 26],\n",
       "  [274, 14],\n",
       "  [284, 30],\n",
       "  [285, 1],\n",
       "  [287, 49],\n",
       "  [293, 13],\n",
       "  [300, 12],\n",
       "  [308, 34],\n",
       "  [318, 13],\n",
       "  [323, 24],\n",
       "  [324, 45],\n",
       "  [329, 26],\n",
       "  [330, 23],\n",
       "  [344, 13],\n",
       "  [345, 49],\n",
       "  [346, 42],\n",
       "  [346, 47],\n",
       "  [353, 2],\n",
       "  [354, 14],\n",
       "  [358, 28],\n",
       "  [359, 15],\n",
       "  [362, 14],\n",
       "  [367, 6],\n",
       "  [369, 14],\n",
       "  [370, 44],\n",
       "  [374, 39],\n",
       "  [376, 37],\n",
       "  [381, 15],\n",
       "  [383, 41],\n",
       "  [398, 35],\n",
       "  [403, 14],\n",
       "  [406, 25],\n",
       "  [413, 2],\n",
       "  [417, 35],\n",
       "  [419, 28],\n",
       "  [421, 18],\n",
       "  [424, 30],\n",
       "  [426, 35],\n",
       "  [426, 44],\n",
       "  [427, 2],\n",
       "  [434, 45],\n",
       "  [441, 6],\n",
       "  [443, 14],\n",
       "  [444, 16],\n",
       "  [455, 22],\n",
       "  [457, 6],\n",
       "  [467, 19],\n",
       "  [470, 15],\n",
       "  [472, 48],\n",
       "  [473, 13],\n",
       "  [475, 24],\n",
       "  [481, 27],\n",
       "  [482, 36],\n",
       "  [490, 0]])"
      ]
     },
     "execution_count": 28,
     "metadata": {},
     "output_type": "execute_result"
    }
   ],
   "source": [
    "contaocorr(dados,20)"
   ]
  },
  {
   "cell_type": "code",
   "execution_count": 51,
   "metadata": {},
   "outputs": [],
   "source": [
    "def contaocorr2(matriz,seq):\n",
    "    #conta quantas vezes a sequência \"seq\" aparece na \"matriz\", e identifica as posições das ocorrências\n",
    "    cont=0\n",
    "    lista=[]\n",
    "    nlin=matriz.shape[0]\n",
    "    ncol=matriz.shape[1]\n",
    "    tamanho=seq.shape[1]\n",
    "    primeiro=seq[0,0]\n",
    "    for i in range(matriz.shape[0]): #todas as linhas da matriz\n",
    "        for j in range (ncol-tamanho+1): #todas as colunas, até a última possível\n",
    "            if matriz[i,j]==primeiro:  #se encontrou o primeiro elemento da sequência, vai tentar achar os demais\n",
    "                achou=1\n",
    "                ind=1\n",
    "                while achou==1 and ind <tamanho:\n",
    "                    if matriz[i,j+ind]!=seq[0,ind]:\n",
    "                        achou=0\n",
    "                    ind=ind+1\n",
    "                if achou==1:\n",
    "                    cont=cont+1\n",
    "                    lista.append([i,j])\n",
    "    return cont,lista"
   ]
  },
  {
   "cell_type": "code",
   "execution_count": 53,
   "metadata": {},
   "outputs": [
    {
     "data": {
      "text/plain": [
       "((3, [[14, 3], [66, 25], [115, 45]]),\n",
       " (5, [[4, 19], [19, 2], [20, 37], [281, 34], [439, 16]]),\n",
       " (2, [[10, 40], [36, 4]]))"
      ]
     },
     "execution_count": 53,
     "metadata": {},
     "output_type": "execute_result"
    }
   ],
   "source": [
    "contaocorr2(dados,seq1),contaocorr2(dados,seq2),contaocorr2(dados,seq3)"
   ]
  },
  {
   "cell_type": "markdown",
   "metadata": {},
   "source": [
    "## Exercício 11\n",
    "\n",
    "Troca-troca de figurinhas: Criar uma função que recebe dois pares de listas, representando as figurinhas de dois jogadores: para cada jogador, passe a lista de figurinhas que ele precisa e a lista de figurinhas que ele tem duplicatas. Retorne com a lista de trocas que esses dois jogadores podem fazer entre si."
   ]
  }
 ],
 "metadata": {
  "kernelspec": {
   "display_name": "Python 3",
   "language": "python",
   "name": "python3"
  },
  "language_info": {
   "codemirror_mode": {
    "name": "ipython",
    "version": 3
   },
   "file_extension": ".py",
   "mimetype": "text/x-python",
   "name": "python",
   "nbconvert_exporter": "python",
   "pygments_lexer": "ipython3",
   "version": "3.7.3"
  }
 },
 "nbformat": 4,
 "nbformat_minor": 2
}
