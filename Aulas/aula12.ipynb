{
 "cells": [
  {
   "cell_type": "markdown",
   "metadata": {},
   "source": [
    "# Aula 12"
   ]
  },
  {
   "cell_type": "code",
   "execution_count": 1,
   "metadata": {},
   "outputs": [],
   "source": [
    "from math import *"
   ]
  },
  {
   "cell_type": "code",
   "execution_count": 5,
   "metadata": {},
   "outputs": [],
   "source": [
    "def somadivisores(n):\n",
    "    soma=0\n",
    "    for i in range(1,n):\n",
    "        if n%i==0:\n",
    "            soma=soma+i\n",
    "    return soma"
   ]
  },
  {
   "cell_type": "code",
   "execution_count": 12,
   "metadata": {},
   "outputs": [
    {
     "data": {
      "text/plain": [
       "1"
      ]
     },
     "execution_count": 12,
     "metadata": {},
     "output_type": "execute_result"
    }
   ],
   "source": [
    "somadivisores(2)"
   ]
  },
  {
   "cell_type": "code",
   "execution_count": 13,
   "metadata": {},
   "outputs": [],
   "source": [
    "def classificanumeros(n):\n",
    "    #conta quantos números perfeitos, abundantes e deficientes há até n\n",
    "    perfeitos=0\n",
    "    abundantes=0\n",
    "    deficientes=0\n",
    "    for numero in range (1,n+1):\n",
    "        s=somadivisores(numero)\n",
    "        if numero==s:\n",
    "            perfeitos=perfeitos+1\n",
    "            #print (\"p\", numero)\n",
    "        elif numero<s:\n",
    "            abundantes=abundantes+1\n",
    "            #print (\"a\", numero)\n",
    "        else:\n",
    "            deficientes=deficientes+1\n",
    "            #print (\"d\", numero)\n",
    "    return (perfeitos,abundantes,deficientes)"
   ]
  },
  {
   "cell_type": "code",
   "execution_count": 14,
   "metadata": {},
   "outputs": [
    {
     "data": {
      "text/plain": [
       "(2, 9, 39)"
      ]
     },
     "execution_count": 14,
     "metadata": {},
     "output_type": "execute_result"
    }
   ],
   "source": [
    "classificanumeros(50)"
   ]
  }
 ],
 "metadata": {
  "kernelspec": {
   "display_name": "Python 3",
   "language": "python",
   "name": "python3"
  },
  "language_info": {
   "codemirror_mode": {
    "name": "ipython",
    "version": 3
   },
   "file_extension": ".py",
   "mimetype": "text/x-python",
   "name": "python",
   "nbconvert_exporter": "python",
   "pygments_lexer": "ipython3",
   "version": "3.7.3"
  }
 },
 "nbformat": 4,
 "nbformat_minor": 2
}
