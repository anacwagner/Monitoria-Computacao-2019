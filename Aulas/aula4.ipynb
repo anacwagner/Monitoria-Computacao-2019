{
 "cells": [
  {
   "cell_type": "markdown",
   "metadata": {},
   "source": [
    "# Aula 4"
   ]
  },
  {
   "cell_type": "code",
   "execution_count": 1,
   "metadata": {},
   "outputs": [],
   "source": [
    "# Importando as bibliotecas\n",
    "from math import *\n",
    "from random import *"
   ]
  },
  {
   "cell_type": "code",
   "execution_count": 2,
   "metadata": {},
   "outputs": [],
   "source": [
    "# Usando as funções criadas na aula anterior\n",
    "def cf(tempc):\n",
    "    tempf=9*tempc/5+32\n",
    "    return tempf\n",
    "def fc(tempf):\n",
    "    tempc=5*(tempf-32)/9\n",
    "    return tempc"
   ]
  },
  {
   "cell_type": "markdown",
   "metadata": {},
   "source": [
    "**EXERCÍCÍO 1:** Criar uma função que receba uma temperatura e a unidade em que ela se encontra (Fahrenheit ou Celsius) e converte para a outra unidade (Celsius ou Fahrenheit)."
   ]
  },
  {
   "cell_type": "code",
   "execution_count": 3,
   "metadata": {},
   "outputs": [],
   "source": [
    "def converte(temp,unidade):\n",
    "    unidade=unidade.upper() # converte a unidade para maiúscula\n",
    "    if unidade==\"C\": \n",
    "        tconv=cf(temp)\n",
    "        uconv=\"F\"\n",
    "    else:\n",
    "        if unidade==\"F\":\n",
    "            tconv=fc(temp)\n",
    "            uconv=\"C\"\n",
    "        else:\n",
    "            print(\"A unidade deve ser C ou F\")\n",
    "            tconv=\"ERRO\"\n",
    "            uconv=\"X\"\n",
    "    return tconv, uconv # uma função pode retornar mais de um valor"
   ]
  },
  {
   "cell_type": "code",
   "execution_count": 4,
   "metadata": {},
   "outputs": [
    {
     "data": {
      "text/plain": [
       "(30.0, 'C')"
      ]
     },
     "execution_count": 4,
     "metadata": {},
     "output_type": "execute_result"
    }
   ],
   "source": [
    "converte(86,\"f\")"
   ]
  },
  {
   "cell_type": "markdown",
   "metadata": {},
   "source": [
    "Note que na função `converte(temp, unidade)` adicionamos um tratamento à **string** que recebemos como entrada. Para não termos problemas em passar as letras correspondentes às unidades usando minúscula (a função que criamos foi definida para fazer o teste de igualdade usando maiúsculas), sempre convertemos a unidade para letra maiúscula. Para isso, usamos a função `upper()`. \n",
    "\n",
    "**Obs.:.** Note que as funções a seguir, que manipulam as strings são utilizadas de forma diferente. "
   ]
  },
  {
   "cell_type": "code",
   "execution_count": 5,
   "metadata": {},
   "outputs": [
    {
     "name": "stdout",
     "output_type": "stream",
     "text": [
      "ABcd\n",
      "ABCD\n",
      "abcd\n",
      "abCD\n"
     ]
    }
   ],
   "source": [
    "texto=\"ABcd\"\n",
    "textoup=texto.upper() # converte todo o texto para letras maiúsculas\n",
    "textolo=texto.lower() # converte todo o texto para letras minúsculas\n",
    "textosw=texto.swapcase() # o que é maiúscula vira minúscula e vice-versa\n",
    "print(texto)\n",
    "print(textoup)\n",
    "print(textolo)\n",
    "print(textosw)"
   ]
  },
  {
   "cell_type": "markdown",
   "metadata": {},
   "source": [
    "**EXERCÍCÍO 2:** Criar uma função que receba os coeficientes de uma equação linear do segundo grau e resolva-a, encontrando as raízes, caso existam. \n",
    "\n",
    "$$f(x) = ax^2+bx+c$$\n",
    "\n",
    "As raízes ou zeros da função quadrática representam os valores de $x$ tais que $f(x) = 0$. As raízes da função são determinadas pela resolução da equação de segundo grau:\n",
    "\n",
    "$$f(x) = ax^2+bx+c = 0$$\n",
    "\n",
    "Para resolver essa equação podemos aplicar a Fórmula de Bhaskara: \n",
    "\n",
    "$$x = \\frac{-b \\pm \\sqrt{\\Delta}}{2a}$$\n",
    "\n",
    "onde, $\\Delta=b^2-4ac $."
   ]
  },
  {
   "cell_type": "code",
   "execution_count": 6,
   "metadata": {},
   "outputs": [],
   "source": [
    "def raizes(a,b,c):\n",
    "    delta=b**2-4*a*c\n",
    "    if delta>0:\n",
    "        x1=(-b+sqrt(delta))/(2*a)\n",
    "        x2=(-b-sqrt(delta))/(2*a)\n",
    "        print (\"São duas raízes diferentes:\", x1, \"e\", x2)\n",
    "    else:\n",
    "        if delta==0:\n",
    "            x1=(-b+sqrt(delta))/(2*a)\n",
    "            print (\"São duas raízes iguais a\", x1)\n",
    "        else:\n",
    "            print (\"Não tem raízes reais\")"
   ]
  },
  {
   "cell_type": "code",
   "execution_count": 7,
   "metadata": {},
   "outputs": [
    {
     "name": "stdout",
     "output_type": "stream",
     "text": [
      "São duas raízes iguais a -1.0\n"
     ]
    }
   ],
   "source": [
    "raizes(1,2,1)"
   ]
  },
  {
   "cell_type": "markdown",
   "metadata": {},
   "source": [
    "**EXERCÍCÍO 3:** Criar uma função que recebe um número $n$ e por meio de testes condicionais você consiga classificá-lo da seguinte forma:\n",
    "\n",
    "* Maior que cinco;\n",
    "* É cinco;\n",
    "* É quatro;\n",
    "* É três;\n",
    "* É dois, um ou zero."
   ]
  },
  {
   "cell_type": "code",
   "execution_count": 8,
   "metadata": {},
   "outputs": [],
   "source": [
    "def condicionais(n):\n",
    "    if n>5:\n",
    "        print(\"Maior que cinco\")\n",
    "    elif n>4:\n",
    "        print(\"É cinco\")\n",
    "    elif n>3:\n",
    "        print(\"É quatro\")\n",
    "    elif n>2:\n",
    "        print(\"É três\")\n",
    "    else:\n",
    "        print(\"É dois, um ou zero\")"
   ]
  },
  {
   "cell_type": "code",
   "execution_count": 9,
   "metadata": {},
   "outputs": [
    {
     "name": "stdout",
     "output_type": "stream",
     "text": [
      "É quatro\n"
     ]
    }
   ],
   "source": [
    "condicionais(4)"
   ]
  },
  {
   "cell_type": "markdown",
   "metadata": {},
   "source": [
    "## Biblioteca `random`\n",
    "\n",
    "A função `seed()` é um método que define o valor inicial inteiro usado na geração de números aleatórios. É recomendável que execute sempre esta função antes de chamar qualquer outra função do módulo `random`.\n",
    "\n",
    "Na realidade, quando usamos a funçõ `random` o que obtemos são números pseudo-aleatórios, uma vez que o computador não consegue gerar números verdadeiramente aleatórios (são útilizados cálculos complexos que acabam torando o número gerad praticamente aleatório).\n",
    "\n",
    "Trata-se de um processo completamente determinístico, dependendo sempre do valor que incializamos o processo randômico. Assim, se passarmos sempre o mesmo valor inicial, obtemos o mesmo número \"aleatório\". "
   ]
  },
  {
   "cell_type": "code",
   "execution_count": 10,
   "metadata": {},
   "outputs": [
    {
     "name": "stdout",
     "output_type": "stream",
     "text": [
      "Escolha um número para ser a semente do próximo número aletório: 10\n",
      "Número aleatório com seed(10) :  0.5714025946899135\n",
      "Número aleatório com seed(10) :  0.5714025946899135\n",
      "Número aleatório com seed(10) :  0.5714025946899135\n"
     ]
    }
   ],
   "source": [
    "n = int(input('Escolha um número para ser a semente do próximo número aletório: '))\n",
    "\n",
    "seed(n)\n",
    "print(\"Número aleatório com seed(10) : \", random())\n",
    "\n",
    "# It will generate same random number\n",
    "seed(n)\n",
    "print(\"Número aleatório com seed(10) : \", random())\n",
    "\n",
    "# It will generate same random number\n",
    "seed(n)\n",
    "print(\"Número aleatório com seed(10) : \", random())"
   ]
  },
  {
   "cell_type": "code",
   "execution_count": 11,
   "metadata": {},
   "outputs": [
    {
     "name": "stdout",
     "output_type": "stream",
     "text": [
      "137\n",
      "582\n",
      "867\n",
      "821\n",
      "782\n",
      "64\n",
      "261\n",
      "120\n",
      "507\n",
      "779\n"
     ]
    }
   ],
   "source": [
    "seed(1)\n",
    "#gera 10 numeros aleatórios\n",
    "for i in range(10):\n",
    "#Escolhe um numero aleatório entre 0 e 999\n",
    "    numero = randint(0,1000)\n",
    "    print(numero)"
   ]
  },
  {
   "cell_type": "markdown",
   "metadata": {},
   "source": [
    "Por exemplo, ao executar esse código múltiplas vezes você **não obtem resultados diferentes** para um mesmo `range` (foram gerados 10 números) pois **a `seed()` fica viciada** (e sempre gera os mesmo números. \n",
    "\n",
    "Ficou curioso? Execute a célula anterior novamente e veja o que acontece. Se ainda tiver dúvida, altere o parâmetro da função `seed()`."
   ]
  },
  {
   "cell_type": "code",
   "execution_count": 12,
   "metadata": {},
   "outputs": [],
   "source": [
    "seed() # inicializa a semente para a geração dos números pseudo-aleatório"
   ]
  },
  {
   "cell_type": "code",
   "execution_count": 13,
   "metadata": {},
   "outputs": [
    {
     "data": {
      "text/plain": [
       "0.13902835071846953"
      ]
     },
     "execution_count": 13,
     "metadata": {},
     "output_type": "execute_result"
    }
   ],
   "source": [
    "random() # retorna um float x tal que 0 <= x < 1"
   ]
  },
  {
   "cell_type": "code",
   "execution_count": 14,
   "metadata": {},
   "outputs": [
    {
     "data": {
      "text/plain": [
       "0"
      ]
     },
     "execution_count": 14,
     "metadata": {},
     "output_type": "execute_result"
    }
   ],
   "source": [
    "randint(0,10) # retorna um inteiro x tal que 0 <= x <= 10"
   ]
  },
  {
   "cell_type": "code",
   "execution_count": 15,
   "metadata": {},
   "outputs": [
    {
     "data": {
      "text/plain": [
       "4"
      ]
     },
     "execution_count": 15,
     "metadata": {},
     "output_type": "execute_result"
    }
   ],
   "source": [
    "randrange(2,10,2) # retorna um inteiro x tal que 2 <= x < 10 e x é par"
   ]
  },
  {
   "cell_type": "code",
   "execution_count": 16,
   "metadata": {},
   "outputs": [
    {
     "data": {
      "text/plain": [
       "9"
      ]
     },
     "execution_count": 16,
     "metadata": {},
     "output_type": "execute_result"
    }
   ],
   "source": [
    "randrange(1,10,2) # retorna um inteiro x tal que 1 <= x < 10 e x é ímpar"
   ]
  },
  {
   "cell_type": "markdown",
   "metadata": {},
   "source": [
    "A função `uniform(a,b)` gera um número aleatório obtido a partir de uma distribuição normal no intrevalo $[a,b)$ - fechado em $a$ e aberto em $b$. "
   ]
  },
  {
   "cell_type": "code",
   "execution_count": 17,
   "metadata": {},
   "outputs": [
    {
     "data": {
      "text/plain": [
       "11.669779624350396"
      ]
     },
     "execution_count": 17,
     "metadata": {},
     "output_type": "execute_result"
    }
   ],
   "source": [
    "uniform(10,20) # retorna um float x tal que 10 <= x < 20"
   ]
  }
 ],
 "metadata": {
  "kernelspec": {
   "display_name": "Python 3",
   "language": "python",
   "name": "python3"
  },
  "language_info": {
   "codemirror_mode": {
    "name": "ipython",
    "version": 3
   },
   "file_extension": ".py",
   "mimetype": "text/x-python",
   "name": "python",
   "nbconvert_exporter": "python",
   "pygments_lexer": "ipython3",
   "version": "3.7.4"
  }
 },
 "nbformat": 4,
 "nbformat_minor": 2
}
