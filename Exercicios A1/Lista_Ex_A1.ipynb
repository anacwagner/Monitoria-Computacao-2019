{
 "cells": [
  {
   "cell_type": "markdown",
   "metadata": {},
   "source": [
    "# Lista de Exercícios A1"
   ]
  },
  {
   "cell_type": "code",
   "execution_count": 1,
   "metadata": {},
   "outputs": [],
   "source": [
    "# Bibliotecas importadas\n",
    "import math as mt\n",
    "import numpy as np"
   ]
  },
  {
   "cell_type": "markdown",
   "metadata": {},
   "source": [
    "## QUESTÃO 1 (2 pontos):\n",
    "\n",
    "Chamamos de binômio de Newton todo o binômio da forma $(a+b)^n$, sendo $n$ um número natural. Os termos do polinômio resultante são dados por: \n",
    "\n",
    "$$...$$\n",
    "\n",
    "Onde o coeficiente\n",
    "\n",
    "$$c_k={n\\choose k}=\\frac{n!}{k!\\cdot (n-k)!}$$\n",
    "\n",
    "Escreva uma função Python chamada `sbin`, que recebe como parâmetro de **entrada** um número natural $n$, correspondente ao expoente do binômio de Newton, e retorna como parâmetro de **saída** o resultado da soma da multiplicação de cada coeficiente pelo quadrado de seu índice. Ou seja,  \n",
    "\n",
    "$$s=\\sum_{k=0}^{n}{k^2\\cdot c_k}$$"
   ]
  },
  {
   "cell_type": "code",
   "execution_count": 2,
   "metadata": {},
   "outputs": [],
   "source": [
    "def sbin(n):\n",
    "    soma = 0\n",
    "    for k in range(n+1):\n",
    "        ck = mt.factorial(n)/(mt.factorial(k)*mt.factorial(n-k))\n",
    "        termo = k**2*ck\n",
    "        soma = soma + termo\n",
    "    return soma"
   ]
  },
  {
   "cell_type": "code",
   "execution_count": 3,
   "metadata": {},
   "outputs": [
    {
     "data": {
      "text/plain": [
       "240.0"
      ]
     },
     "execution_count": 3,
     "metadata": {},
     "output_type": "execute_result"
    }
   ],
   "source": [
    "sbin(5)"
   ]
  },
  {
   "cell_type": "markdown",
   "metadata": {},
   "source": [
    "## QUESTÃO 2 (4 pontos):\n",
    "\n",
    "A antiga raça de Gulamatu é muito avançada no seu esquema de cálculo dos anos. Eles entendem o que é ano bissexto (ano que é divisível por 4 e não é divisível por 100, com a ressalva de que anos que são divisíveis por 400 são também anos bissextos). Em alguns anos, ocorrem festivais. Nos anos divisíveis por 15, acontece o Festival Huluculu, e nos anos bissextos divisíveis por 55 acontece o Festival Bulukulu. \n",
    "\n",
    "Com base nisto, podemos criar um escore a atribuir a um ano, da seguinte maneira: \n",
    "\n",
    "* Se um ano é bissexto, soma-se 1 ao escore;  \n",
    "\n",
    "\n",
    "* Se neste ano ocorre o Festival Huluculu, soma-se 10 ao escore;\n",
    "\n",
    "\n",
    "* Se neste ano ocorre o Festival Bulukulu, soma-se 100 ao escore.  \n",
    "\n",
    "\n",
    "Assim, por exemplo, se for possível que em um ano bissexto aconteçam ambos os festivais, o escore será $1+10+100=111$. Se acontecer apenas o festival Hulukulu, o escore será $10$. Em anos simplesmente bissextos, o escore será $1$, e em anos normais, o escore será zero. \n",
    "\n",
    "### Tarefas: \n",
    "\n",
    "a) **(2 pontos)**  Escreva uma função Python chamada `EscoreGulumatu`, que recebe como parâmetro de **entrada** um número natural $a$, com até quatro dígitos, correspondente ao ano que se deseja verificar, e retorna como parâmetro de **saída** o escore do ano, calculado conforme descrito acima; "
   ]
  },
  {
   "cell_type": "code",
   "execution_count": 4,
   "metadata": {},
   "outputs": [],
   "source": [
    "def bissexto(n):    \n",
    "    if (n%4==0 and n%100!=0) or (n%400==0):\n",
    "        return 1\n",
    "    else:\n",
    "        return 0"
   ]
  },
  {
   "cell_type": "code",
   "execution_count": 5,
   "metadata": {},
   "outputs": [
    {
     "data": {
      "text/plain": [
       "1"
      ]
     },
     "execution_count": 5,
     "metadata": {},
     "output_type": "execute_result"
    }
   ],
   "source": [
    "bissexto(2020)"
   ]
  },
  {
   "cell_type": "code",
   "execution_count": 6,
   "metadata": {},
   "outputs": [],
   "source": [
    "def EscoreGulumatu(n):\n",
    "    if n//10000 > 0:\n",
    "        return \"Erro: n corresponde a um ano, então deve ser um número com até quatro dígitos!\"\n",
    "    escore = 0\n",
    "    if bissexto(n) == 1: # ano bissexto\n",
    "        escore = escore + 1\n",
    "        if n%55==0: # ano bissexto e Festival Bulukulu\n",
    "            escore = escore + 100  \n",
    "    if n%15==0: # Festival Huluculu\n",
    "        escore = escore + 10\n",
    "    return escore"
   ]
  },
  {
   "cell_type": "code",
   "execution_count": 7,
   "metadata": {},
   "outputs": [
    {
     "name": "stdout",
     "output_type": "stream",
     "text": [
      "Ano: 1980\n",
      "Escore: 111\n"
     ]
    }
   ],
   "source": [
    "ano = 55*36\n",
    "print('Ano: '+ str(ano))\n",
    "print('Escore: ' + str(EscoreGulumatu(ano)))"
   ]
  },
  {
   "cell_type": "code",
   "execution_count": 8,
   "metadata": {},
   "outputs": [
    {
     "name": "stdout",
     "output_type": "stream",
     "text": [
      "Ano: 1925\n",
      "Escore: 0\n"
     ]
    }
   ],
   "source": [
    "ano = 55*35\n",
    "print('Ano: '+ str(ano))\n",
    "print('Escore: ' + str(EscoreGulumatu(ano)))"
   ]
  },
  {
   "cell_type": "code",
   "execution_count": 9,
   "metadata": {},
   "outputs": [
    {
     "name": "stdout",
     "output_type": "stream",
     "text": [
      "Ano: 2010\n",
      "Escore: 10\n"
     ]
    }
   ],
   "source": [
    "ano = 15*134\n",
    "print('Ano: '+ str(ano))\n",
    "print('Escore: ' + str(EscoreGulumatu(ano)))"
   ]
  },
  {
   "cell_type": "code",
   "execution_count": 10,
   "metadata": {},
   "outputs": [
    {
     "name": "stdout",
     "output_type": "stream",
     "text": [
      "Ano: 2020\n",
      "Escore: 1\n"
     ]
    }
   ],
   "source": [
    "ano = 2020\n",
    "print('Ano: '+ str(ano))\n",
    "print('Escore: ' + str(EscoreGulumatu(ano)))"
   ]
  },
  {
   "cell_type": "code",
   "execution_count": 11,
   "metadata": {},
   "outputs": [
    {
     "name": "stdout",
     "output_type": "stream",
     "text": [
      "Ano: 2019\n",
      "Escore: 0\n"
     ]
    }
   ],
   "source": [
    "ano = 2019\n",
    "print('Ano: '+ str(ano))\n",
    "print('Escore: ' + str(EscoreGulumatu(ano)))"
   ]
  },
  {
   "cell_type": "markdown",
   "metadata": {},
   "source": [
    "b) **(2 pontos)** Escreva uma função Python chamada `ContaGulumatu`, que recebe como parâmetros de **entrada** dois números $a$ e $b$, com até quatro dígitos, correspondentes a um intervalo de anos, e retorna como parâmetros de **saída**, nesta ordem: \n",
    "\n",
    "    (i) a quantidade de anos bissextos; \n",
    "    (ii) a quantidade de anos com Festival Huluculu; \n",
    "    (iii) a quantidade de anos com Festival Bulukulu;\n",
    "    (iv) a quantidade de anos com ambos os festivais.  "
   ]
  },
  {
   "cell_type": "code",
   "execution_count": 12,
   "metadata": {},
   "outputs": [],
   "source": [
    "def ContaGulumatu(a,b):\n",
    "    cont_bissexto = 0\n",
    "    cont_Huluculu = 0\n",
    "    cont_Bulukulu = 0\n",
    "    cont_ambos = 0\n",
    "    for ano in range(a,b+1):\n",
    "        escore = EscoreGulumatu(ano)\n",
    "        \n",
    "        if escore==111: # ambos festivais\n",
    "            cont_ambos+=1\n",
    "            \n",
    "        if escore%10==1: # escore==1 (último dígito): bissexto\n",
    "            cont_bissexto+=1\n",
    "        \n",
    "        escore = escore//10 # retira o último dígito do escore\n",
    "        if escore%10==1: # escore==10 or escore==11 or escore==111 (segundo dígito): Huluculu\n",
    "            cont_Huluculu+=1\n",
    "        \n",
    "        escore = escore//10 # retira o segundo último dígito do escore que sobrou\n",
    "        if escore%10==1: # escore==101 or escore==111 (terceiro dígito): Bulukulu\n",
    "            cont_Bulukulu+=1\n",
    "        \n",
    "    return cont_bissexto, cont_Huluculu, cont_Bulukulu, cont_ambos"
   ]
  },
  {
   "cell_type": "code",
   "execution_count": 13,
   "metadata": {},
   "outputs": [
    {
     "data": {
      "text/plain": [
       "(24, 6, 1, 1)"
      ]
     },
     "execution_count": 13,
     "metadata": {},
     "output_type": "execute_result"
    }
   ],
   "source": [
    "ContaGulumatu(1925,2020)"
   ]
  },
  {
   "cell_type": "markdown",
   "metadata": {},
   "source": [
    "## QUESTÃO 3 (4 pontos)\n",
    "\n",
    "A mineradora Xingue Lingue faz prospecções avançadas para extração de minério. Para saber se um terreno é lucrativo, ela precisa estimar a quantidade de minério que poderá extrair. O minério se encontra em uma faixa do solo, entre camadas de terra, como na figura abaixo, que representa um corte vertical num terreno com 8 km de comprimento e 1.000 metros de profundidade (cada marca na escala vertical corresponde a 100 metros). Podemos considerar que a distribuição do minério no solo só depende do comprimento e da profundidade, se mantendo constante ao longo da largura do terreno). A mineradora fez intensas pesquisas e conseguiu determinar as funções que definem as duas interfaces entre as camadas de terra e a camada de minério. \n",
    "\n",
    "$$f(x)=\\frac{-1392+864x-216x^2+24x^3-x^4}{1392-864x+216x^2-24x^3+x^4}; \\qquad g(x)=\\frac{-73+36x-54x^2+36x^3-9x^4}{17-4x+6x^2-4x^3+x^4}$$\n",
    "\n",
    "\n",
    "\n",
    "\n",
    "$$0\\leq x \\leq8; \\qquad 0\\geq y \\geq -10$$\n",
    "\n",
    "Para estimar a quantidade de minério, o método que a Xingue Lingue pretende implementar é um cálculo iterativo aproximado, que calcule a quantidade de minério em faixas de 20 metros de profundidade.  Partindo do pressuposto de que o perfil é constante ao longo da largura do terreno, é possível considerar os cálculos apenas para as áreas estimadas em um corte vertical. Os valores informados, portanto, referem-se ao custo e à receita a cada quilômetro de largura.\n",
    "\n",
    "A escavação do comprimento total (8km) de cada faixa de 20 metros de profundidade acarreta num custo operacional de 250.000 reais, e cada quilômetro de minério proporciona uma receita líquida de 90.000 reais. A lucratividade de um terreno depende da quantidade de minério que se consegue encontrar. \n",
    "\n",
    "Assim, se numa faixa forem encontrados 3,5km de minério, o custo desta faixa será de 250.000 reais e a receita será de 315.000 reais.\n",
    "\n",
    "O **método** consiste em dividir o terreno em faixas horizontais de 20 metros de profundidade (ou seja, vamos ter 50 faixas, indo de 20 a 1000 metros de profundidade: desde $y=−0.2$ até $y=−10$, com intervalos $\\Delta_y=0.2$). Para cada faixa de profundidade, precisamos verificar onde o terreno tem minério e onde tem apenas terra. Para isso, em cada faixa de profundidade vamos “marcar” o comprimento terreno em pontos a cada 20 metros (desde $x=0$ até $x=7.98$, com intervalos $\\Delta_x=0.02$). Portanto, cada ponto será identificado por uma coordenada (x, y).\n",
    "\n",
    "Com estas coordenadas, podemos analisar a composição em cada ponto $P$ do terreno, substituindo o valor de $x_P$ nas funções delimitadoras f(x) e g(x), e calculando os limites de cada faixa. Se a profundidade do ponto analisado ($y_P$) está entre os limites das duas funções para o valor de $x_P$ (ou seja, $f(x_P)$ e $g(x_P)$), significa que ele está localizado dentro da faixa de minério. Se estiver antes do primeiro limite ou depois do segundo, ele está fora da faixa de minério, e corresponde a um ponto onde só tem terra.  \n",
    "\n",
    "___\n",
    "\n",
    "![](Fig/minerio.png)\n",
    "\n",
    "Por exemplo, na figura, os pontos $A$ e $B$ estão ambos a uma profundidade de 140 metros ($y_A=y_B=1.4$). Dentro da faixa de profundidade de 140 metros, o ponto $A$ está numa posição a 1km de comprimento ($x_A=1$) e o ponto $B$ está a 4 km ($x_B=4$).   \n",
    "\n",
    "Como $f(x_A)\\geq y_A \\geq g(x_A)$, pode-se concluir que $A$ está na faixa de minério. Já no ponto $B$, temos que $f(x_B)<y_B$, ou seja, $B$ está antes do primeiro limite da faixa de minério naquele comprimento do terreno, portanto $B$ está fora da faixa de minério. \n",
    "\n",
    "Ao se identificar que um ponto pertencente à faixa de minério, podemos, de maneira aproximada, considerar que os próximos 20 metros (correspondente ao pedaço de terreno daquele ponto) também pertencem à faixa. Assim, a cada ponto localizado na faixa de minério, somamos 20 metros à quantidade total de minério encontrada. \n",
    "\n",
    "Para calcular a receita esperada decorrente da quantidade de minério em um corte vertical do terreno, multiplicamos o comprimento total de minério encontrado (em quilômetros) pela receita por quilômetro (90.000 reais). O custo total vai ser igual a quantidade de faixas de terreno escavadas multiplicada pelo custo de cada faixa (250.000 reais). \n",
    "\n",
    "### Tarefas: \n",
    "\n",
    "a) (2 pontos) Escreva uma função Python chamada `minerio`, que recebe como **parâmetro de entrada** um número real \n",
    "$p$ entre 0 e 10, correspondente à profundidade do terreno que se deseja avaliar; e retorna como **parâmetro de saída** o lucro esperado da escavação do terreno até esta profundidade, de acordo com as especificações descritas anteriormente; \n",
    "\n",
    "\n",
    "b) (2 pontos) É possível que, a partir de um certo ponto, não seja mais interessante continuar a escavar, pois os custos superariam as receitas e a lucratividade total tenderia a se reduzir. \n",
    "\n",
    "Para avaliar isto, escreva uma função Python chamada `lmax`, que **não recebe parâmetros de entrada**, e retorna como **parâmetros de saída**: (i) a profundidade de escavação que possibilita obter o maior lucro possível; e (ii) o lucro máximo que é possível obter. "
   ]
  },
  {
   "cell_type": "code",
   "execution_count": 14,
   "metadata": {},
   "outputs": [],
   "source": [
    "def minerio(p):\n",
    "    #p:profundidade do terreno em Km\n",
    "    if not(p>0 and p<10):\n",
    "        return \"O número real p deve ser entre 0 e 10!\"\n",
    "    \n",
    "    lucro=0\n",
    "    area_total=0\n",
    "    area_faixa=0\n",
    "    yi=0\n",
    "    for y in np.arange(0.02,p+0.02,0.02): # faixas horizontais de 20 metros de profundidade\n",
    "        yi = yi + 1\n",
    "        # em cada faixa de profundidade \n",
    "        for x in np.arange(0.02,8,0.02): # vamos “marcar” o comprimento terreno em pontos a cada 20 metros \n",
    "            \n",
    "            area_total = area_total + 1\n",
    "            \n",
    "            # estamos usando y positivo, portanto vamos usar os valores positivos das funções\n",
    "            x = x/1000\n",
    "            yf=-(-1392+864*x-216*x**2+24*x**3-x**4)/(1312-864*x+216*x**2-24*x**3+x**4)\n",
    "            yg=-(-73+36*x-54*x**2+36*x**3-9*x**4)/(17-4*x+6*x**2-4*x**3+x**4)\n",
    "            \n",
    "            if y>=yf and y<=yg:\n",
    "                area_faixa = area_faixa + 1\n",
    "    \n",
    "    receita = area_faixa*20*90\n",
    "    lucro = (receita-yi*250000)\n",
    "    return lucro           "
   ]
  },
  {
   "cell_type": "code",
   "execution_count": 15,
   "metadata": {},
   "outputs": [
    {
     "data": {
      "text/plain": [
       "53130200"
      ]
     },
     "execution_count": 15,
     "metadata": {},
     "output_type": "execute_result"
    }
   ],
   "source": [
    "minerio(5)"
   ]
  },
  {
   "cell_type": "code",
   "execution_count": 16,
   "metadata": {},
   "outputs": [
    {
     "name": "stdout",
     "output_type": "stream",
     "text": [
      "0.1\n",
      "0.2\n",
      "0.30000000000000004\n",
      "0.4\n",
      "0.5\n",
      "0.6\n",
      "0.7000000000000001\n",
      "0.8\n",
      "0.9\n",
      "1.0\n"
     ]
    }
   ],
   "source": [
    "for i in np.arange(0.1,1.01,0.1):\n",
    "    print(i)"
   ]
  },
  {
   "cell_type": "code",
   "execution_count": 17,
   "metadata": {},
   "outputs": [],
   "source": [
    "def lmax():\n",
    "    dddd"
   ]
  },
  {
   "cell_type": "code",
   "execution_count": null,
   "metadata": {},
   "outputs": [],
   "source": []
  },
  {
   "cell_type": "markdown",
   "metadata": {},
   "source": [
    "## QUESTÃO 4 (2,5 pontos)\n",
    "\n",
    "Dependendo do valor de $k$, a série abaixo pode ser convergente ou divergente. \n",
    "\n",
    "$$\\sum_{n=1}^{\\infty}{\\frac{k^nn!}{n^n}}$$\n",
    "\n",
    "### Tarefa: \n",
    "Escreva uma função Python chamada ``serie``, que recebe **dois parâmetros de entrada**: (i) o valor de $k$; e (ii) um valor de precisão para seu cálculo, que será usado como critério de parada; e retorne **um parâmetro de saída**, duas possibilidades: a) o valor para o qual a série converge, caso ela seja convergente; ou b) o valor %inf, caso sejam somados 100 termos e a série não tenha chegado a um valor de convergência.  "
   ]
  },
  {
   "cell_type": "code",
   "execution_count": 18,
   "metadata": {},
   "outputs": [],
   "source": [
    "def serie(k, precisao):\n",
    "    cont=0\n",
    "    soma=0\n",
    "    n=1\n",
    "    termo = (k**n*mt.factorial(n))/(n**n)\n",
    "    while abs(termo)>precisao and cont<100:\n",
    "        #print(termo)\n",
    "        cont = cont + 1\n",
    "        soma = soma + termo\n",
    "        n = n + 1\n",
    "        termo = (k**n*mt.factorial(n))/(n**n)\n",
    "    \n",
    "    if cont==100:\n",
    "        saida = mt.inf\n",
    "    else:\n",
    "        saida=soma\n",
    "    return saida"
   ]
  },
  {
   "cell_type": "code",
   "execution_count": 19,
   "metadata": {},
   "outputs": [
    {
     "data": {
      "text/plain": [
       "12.547512890802214"
      ]
     },
     "execution_count": 19,
     "metadata": {},
     "output_type": "execute_result"
    }
   ],
   "source": [
    "serie(2,0.1)"
   ]
  },
  {
   "cell_type": "code",
   "execution_count": 20,
   "metadata": {},
   "outputs": [
    {
     "data": {
      "text/plain": [
       "inf"
      ]
     },
     "execution_count": 20,
     "metadata": {},
     "output_type": "execute_result"
    }
   ],
   "source": [
    "serie(3,0.1)"
   ]
  },
  {
   "cell_type": "markdown",
   "metadata": {},
   "source": [
    "## QUESTÃO 5 (2,5 pontos)\n",
    "\n",
    "Dois números inteiros $a$ e $b$ são chamados de equivalentes quando a soma dos divisores inteiros positivos de \n",
    "$a$ coincide com a soma dos divisores inteiros positivos de $b$.\n",
    "\n",
    "### Tarefa: \n",
    "Escreva uma função Python chamada ``equivalentes``, que recebe como **parâmetros de entrada** os dois números, e retorne como **parâmetro de saída** duas possibilidades: 1, caso os números sejam equivalentes; ou 0 , caso contrário.  "
   ]
  },
  {
   "cell_type": "code",
   "execution_count": 21,
   "metadata": {},
   "outputs": [],
   "source": [
    "def soma_div(x):\n",
    "    soma=0\n",
    "    for i in range(1,x+1):\n",
    "        if x%i==0:\n",
    "            soma=soma+i\n",
    "    return soma"
   ]
  },
  {
   "cell_type": "code",
   "execution_count": 22,
   "metadata": {},
   "outputs": [
    {
     "data": {
      "text/plain": [
       "31"
      ]
     },
     "execution_count": 22,
     "metadata": {},
     "output_type": "execute_result"
    }
   ],
   "source": [
    "soma_div(16)"
   ]
  },
  {
   "cell_type": "code",
   "execution_count": 23,
   "metadata": {},
   "outputs": [
    {
     "data": {
      "text/plain": [
       "31"
      ]
     },
     "execution_count": 23,
     "metadata": {},
     "output_type": "execute_result"
    }
   ],
   "source": [
    "soma_div(25)"
   ]
  },
  {
   "cell_type": "code",
   "execution_count": 24,
   "metadata": {},
   "outputs": [],
   "source": [
    "def equivalentes(a,b):\n",
    "    if soma_div(a)==soma_div(b):\n",
    "        return 1\n",
    "    else:\n",
    "        return 0"
   ]
  },
  {
   "cell_type": "code",
   "execution_count": 25,
   "metadata": {},
   "outputs": [
    {
     "data": {
      "text/plain": [
       "1"
      ]
     },
     "execution_count": 25,
     "metadata": {},
     "output_type": "execute_result"
    }
   ],
   "source": [
    "equivalentes(16,25)"
   ]
  },
  {
   "cell_type": "markdown",
   "metadata": {},
   "source": [
    "## QUESTÃO 6 (2,5 pontos)\n",
    "\n",
    "Três segmentos de reta podem constituir os lados de um triângulo, caso a medida de qualquer um deles seja menor que a soma das medidas dos outros dois. No caso de poderem ser os lados de um triângulo, este pode ser: equilátero (quando todos os lados são iguais), isósceles (quando dois lados são iguais e diferentes do terceiro), ou escaleno (quando todos os lados são diferentes). \n",
    "\n",
    "### Tarefa: \n",
    "Escreva uma função Python chamada ``triangulo`` que recebe como **parâmetros de entrada** três valores numéricos, e testa se estes valores podem ser as medidas dos lados de um triângulo e, caso possam, o tipo de triângulo que eles formam, retornando como **parâmetros de saída* um código numérico de um algarismo, de acordo com a seguinte regra: 0: valores não formam os lados de um triângulo; 1: valores formam um triângulo equilátero; 2: valores formam um triângulo isósceles; 3: valores formam um triângulo escaleno. "
   ]
  },
  {
   "cell_type": "code",
   "execution_count": 26,
   "metadata": {},
   "outputs": [],
   "source": [
    "def triangulo(a,b,c):  \n",
    "    if a>=(b+c) or b>=(a+c) or c>=(a+b): # condição de existência de um triângulo\n",
    "        tipo=0\n",
    "    else: # os valores constituem os lados de um triângulo\n",
    "        if a==b: # dois lados iguais: a e b\n",
    "            if a==c:  # o outro lado também é igual\n",
    "                tipo=1\n",
    "            else: # o outro lado é diferente\n",
    "                tipo=2\n",
    "        else: # dois lados diferentes: a e b\n",
    "            if a==c: # dois lados iguais\n",
    "                tipo=2\n",
    "            else:\n",
    "                if b==c: # dois lados iguais\n",
    "                    tipo=2\n",
    "                else: # todos os lados diferentes\n",
    "                    tipo=3\n",
    "    return tipo"
   ]
  },
  {
   "cell_type": "code",
   "execution_count": 27,
   "metadata": {},
   "outputs": [
    {
     "data": {
      "text/plain": [
       "0"
      ]
     },
     "execution_count": 27,
     "metadata": {},
     "output_type": "execute_result"
    }
   ],
   "source": [
    "triangulo(20,15,5)"
   ]
  },
  {
   "cell_type": "code",
   "execution_count": 28,
   "metadata": {},
   "outputs": [
    {
     "data": {
      "text/plain": [
       "3"
      ]
     },
     "execution_count": 28,
     "metadata": {},
     "output_type": "execute_result"
    }
   ],
   "source": [
    "triangulo(16,20,30)"
   ]
  },
  {
   "cell_type": "markdown",
   "metadata": {},
   "source": [
    "## QUESTÃO 7 (2,5 pontos)\n",
    "\n",
    "Considere a seguinte série matemática: \n",
    "\n",
    "$$S(x,q)= x\\cdot q^0+x\\cdot q^1+x\\cdot q^2+x\\cdot q^3+\\ldots = \\sum_{i=1}^{\\infty}{x\\cdot q^{(i-1)}}$$\n",
    " \n",
    "Sabe-se (vocês estudaram Cálculo...) que esta soma é... \n",
    "\n",
    "* Convergente (ou seja, ela tem um limite, aproxima-se de um certo valor quando a quantidade de termos cresce “bastante”) quando o valor de $q$ é tal que $−1<q<1$.\n",
    "\n",
    "* Divergente (ou seja, ela não tem um limite, não se aproxima de qualquer valor quando a quantidade de termos cresce “bastante”) quando o valor de $q$ assume valores tais que $q<=-1$ ou $q>=1$.\n",
    " \n",
    "### Tarefa: \n",
    "Escreva uma função Python chamada ``serie`` que recebe **dois parâmetros de entrada**: $x$ e $q$, e retorne, como **parâmetro de saída**, uma destas duas alternativas: (i) O limite da série, com uma precisão de 0,000001, caso ela seja convergente; ou (ii) quantos termos são necessários para que a soma ultrapasse um valor equivalente ao cubo do valor x informado ($x^3$), caso ela seja divergente. "
   ]
  },
  {
   "cell_type": "code",
   "execution_count": 29,
   "metadata": {},
   "outputs": [],
   "source": [
    "def serie(x,q):\n",
    "    i=1\n",
    "    soma=0\n",
    "    termo=x*q**(i-1)\n",
    "    # rotina para série convergente\n",
    "    if abs(q)<1: \n",
    "        while termo>0.00001:\n",
    "            soma=soma+termo\n",
    "            i=i+1\n",
    "            termo=x*q**(i-1)\n",
    "        saida = soma\n",
    "    # rotina para série divergente\n",
    "    else: \n",
    "        parada=x**3\n",
    "        while soma<parada:\n",
    "            soma=soma+termo\n",
    "            i=i+1\n",
    "            termo=x*q**(i-1)\n",
    "        saida = i-1 \n",
    "    return saida"
   ]
  },
  {
   "cell_type": "code",
   "execution_count": 30,
   "metadata": {},
   "outputs": [
    {
     "data": {
      "text/plain": [
       "3.9999847412109375"
      ]
     },
     "execution_count": 30,
     "metadata": {},
     "output_type": "execute_result"
    }
   ],
   "source": [
    "#Série Convergente: -1<q<1\n",
    "serie(2,1/2)"
   ]
  },
  {
   "cell_type": "code",
   "execution_count": 31,
   "metadata": {},
   "outputs": [
    {
     "data": {
      "text/plain": [
       "3"
      ]
     },
     "execution_count": 31,
     "metadata": {},
     "output_type": "execute_result"
    }
   ],
   "source": [
    "#Série Divergente: q<=-1 ou q>=1\n",
    "serie(2,2)"
   ]
  },
  {
   "cell_type": "markdown",
   "metadata": {},
   "source": [
    "## QUESTÃO 8 (2,5 pontos)\n",
    "\n",
    "Existem vários métodos para encontrar o valor de uma raiz de uma função. Quando se tem uma ideia de um intervalo que contenha uma raiz, é possível usar um método iterativo chamado “falsa posição”, como descrito a seguir.  \n",
    "\n",
    "![](Fig/falsaposicao.png)\n",
    "\n",
    "Sejam $x_A$ e $x_B$ os pontos que definem o intervalo onde uma raiz está localizada. Nesta situação, $f(x_A)$ e $f(x_B)$ têm sinais opostos. Uma aproximação para o valor da raiz será o ponto onde a reta definida pelos pontos ($x_A, f(x_A)$) e ($x_B, f(x_B)$) corta o eixo das abscissas. Com este ponto, podemos definir um novo intervalo, menor que o anterior, onde a raiz se localiza, substituindo o ponto original cujo valor da função tem o mesmo sinal deste novo ponto (o que indica que a raiz está entre o novo ponto e o outro ponto original). Este processo continua até que o valor da função correspondente ao ponto encontrado seja muito próximo a zero, para uma precisão definida. \n",
    "\n",
    "Para os pontos xA e xB que definem o intervalo, o ponto xi pode ser calculado com a fórmula: \n",
    "\n",
    "$$\\frac{x_B-x_i}{x_i-x_A}=\\frac{|f(x_B)|}{|f(x_A)|} \\Rightarrow x_i=\\frac{x_A\\cdot |f(x_B)|+x_B\\cdot |f(x_A)|}{|f(x_A)|+|f(x_B)|}$$\n",
    "\n",
    "Então, o **método** pode ser resumido como: \n",
    "* Dados dois pontos $x_A$ e $x_B$ que definem um intervalo onde se localiza uma raiz \n",
    "\n",
    "* Encontrar um próximo ponto $x_i$ pela fórmula acima \n",
    "\n",
    "* Substituir as coordenadas do ponto original cujo valor da função tenha o mesmo sinal que o valor da função no novo ponto, definindo os novos limites do intervalo \n",
    "\n",
    "* Repetir enquanto o valor da função no novo ponto for maior que uma precisão prédefinida  \n",
    "\n",
    "Escreva uma função Python chamada `FalsaPosicao` que recebe quatro parâmetros (**a**, **b**, **c** e **precisão**) e encontra a raiz da função $y=ax^2+bx+c$ com uma precisão determinada, pela implementação do método acima descrito.  \n",
    "\n",
    "Observação: Use a função `intervalo`, descrita abaixo, para encontrar os limites do intervalo inicial a ser usado no método. "
   ]
  },
  {
   "cell_type": "code",
   "execution_count": 42,
   "metadata": {},
   "outputs": [],
   "source": [
    "def intervalo(a,b,c): \n",
    "    #Estima um intervalo que contém as raízes de uma função quadrática \n",
    "    #Se a função não tiver raízes, a função retorna um valor infinito \n",
    "    #Se a função tiver apenas uma raiz, a função retornará dois valores \n",
    "    # iguais à coordenada do vértice \n",
    "    delta=b**2-4*a*c \n",
    "    if delta<0: \n",
    "        xa=mt.inf \n",
    "        xb=mt.inf \n",
    "    else: \n",
    "        xa=(-b)/(2*a) #o primeiro ponto é o vértice da função \n",
    "        xb=xa+1.5*mt.sqrt(delta)/(2*a) #o segundo ponto está a 1,5 delta do  \n",
    "                                    #primeiro \n",
    "    return xa,xb "
   ]
  },
  {
   "cell_type": "code",
   "execution_count": 43,
   "metadata": {},
   "outputs": [],
   "source": [
    "def FalsaPosicao(a,b,c,precisao):\n",
    "    # Calcula a raiz da função quadrática ax2+bx+c com a precisão informada\n",
    "    # implementação do método da Falsa Posição\n",
    "\n",
    "    xa,xb = intervalo(a, b, c)\n",
    "    fxa=a*xa**2+b*xa+c\n",
    "    fxb=a*xb**2+b*xb+c\n",
    "\n",
    "    xi=(xa*abs(fxa)+xb*abs(fxb))/(abs(fxa)+abs(fxb))\n",
    "    fxi=a*xi**2+b*xi+c\n",
    "\n",
    "    while abs(fxi)>precisao:\n",
    "        if fxa*fxi != abs(fxa)*abs(fxi):\n",
    "            xb=xa\n",
    "            fxb=fxa\n",
    "        xa=xi\n",
    "        fxa=fxi\n",
    "        xi=(xa*abs(fxa)+xb*abs(fxb))/(abs(fxa)+abs(fxb))\n",
    "        fxi=a*xi^2+b*xi+c\n",
    "    return xi #raiz"
   ]
  },
  {
   "cell_type": "code",
   "execution_count": 44,
   "metadata": {},
   "outputs": [
    {
     "data": {
      "text/plain": [
       "nan"
      ]
     },
     "execution_count": 44,
     "metadata": {},
     "output_type": "execute_result"
    }
   ],
   "source": [
    "FalsaPosicao(1,2,3,0.1)"
   ]
  }
 ],
 "metadata": {
  "kernelspec": {
   "display_name": "Python 3",
   "language": "python",
   "name": "python3"
  },
  "language_info": {
   "codemirror_mode": {
    "name": "ipython",
    "version": 3
   },
   "file_extension": ".py",
   "mimetype": "text/x-python",
   "name": "python",
   "nbconvert_exporter": "python",
   "pygments_lexer": "ipython3",
   "version": "3.7.4"
  }
 },
 "nbformat": 4,
 "nbformat_minor": 2
}
